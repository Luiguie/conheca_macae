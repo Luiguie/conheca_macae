{
 "cells": [
  {
   "cell_type": "code",
   "execution_count": 40,
   "metadata": {},
   "outputs": [],
   "source": [
    "import requests\n",
    "import json\n",
    "import plotly.express as px\n",
    "import plotly.graph_objects as go\n",
    "import matplotlib.pyplot as plt\n",
    "import pandas as pd"
   ]
  },
  {
   "cell_type": "code",
   "execution_count": 41,
   "metadata": {},
   "outputs": [
    {
     "data": {
      "text/plain": [
       "[{'id': '93',\n",
       "  'variavel': 'População residente',\n",
       "  'unidade': 'Pessoas',\n",
       "  'resultados': [{'classificacoes': [{'id': '86',\n",
       "      'nome': 'Cor ou raça',\n",
       "      'categoria': {'95251': 'Total'}}],\n",
       "    'series': [{'localidade': {'id': '3302403',\n",
       "       'nivel': {'id': 'N6', 'nome': 'Município'},\n",
       "       'nome': 'Macaé (RJ)'},\n",
       "      'serie': {'2022': '246391'}}]},\n",
       "   {'classificacoes': [{'id': '86',\n",
       "      'nome': 'Cor ou raça',\n",
       "      'categoria': {'2776': 'Branca'}}],\n",
       "    'series': [{'localidade': {'id': '3302403',\n",
       "       'nivel': {'id': 'N6', 'nome': 'Município'},\n",
       "       'nome': 'Macaé (RJ)'},\n",
       "      'serie': {'2022': '92211'}}]},\n",
       "   {'classificacoes': [{'id': '86',\n",
       "      'nome': 'Cor ou raça',\n",
       "      'categoria': {'2777': 'Preta'}}],\n",
       "    'series': [{'localidade': {'id': '3302403',\n",
       "       'nivel': {'id': 'N6', 'nome': 'Município'},\n",
       "       'nome': 'Macaé (RJ)'},\n",
       "      'serie': {'2022': '42838'}}]},\n",
       "   {'classificacoes': [{'id': '86',\n",
       "      'nome': 'Cor ou raça',\n",
       "      'categoria': {'2778': 'Amarela'}}],\n",
       "    'series': [{'localidade': {'id': '3302403',\n",
       "       'nivel': {'id': 'N6', 'nome': 'Município'},\n",
       "       'nome': 'Macaé (RJ)'},\n",
       "      'serie': {'2022': '444'}}]},\n",
       "   {'classificacoes': [{'id': '86',\n",
       "      'nome': 'Cor ou raça',\n",
       "      'categoria': {'2779': 'Parda'}}],\n",
       "    'series': [{'localidade': {'id': '3302403',\n",
       "       'nivel': {'id': 'N6', 'nome': 'Município'},\n",
       "       'nome': 'Macaé (RJ)'},\n",
       "      'serie': {'2022': '110556'}}]},\n",
       "   {'classificacoes': [{'id': '86',\n",
       "      'nome': 'Cor ou raça',\n",
       "      'categoria': {'2780': 'Indígena'}}],\n",
       "    'series': [{'localidade': {'id': '3302403',\n",
       "       'nivel': {'id': 'N6', 'nome': 'Município'},\n",
       "       'nome': 'Macaé (RJ)'},\n",
       "      'serie': {'2022': '337'}}]}]}]"
      ]
     },
     "execution_count": 41,
     "metadata": {},
     "output_type": "execute_result"
    }
   ],
   "source": [
    "data = requests.get(\"https://servicodados.ibge.gov.br/api/v3/agregados/9605/periodos/2022/variaveis/93?localidades=N6[3302403]&classificacao=86[all]\")\n",
    "data_json = data.json()\n",
    "\n",
    "data_json"
   ]
  },
  {
   "cell_type": "code",
   "execution_count": 42,
   "metadata": {},
   "outputs": [
    {
     "data": {
      "text/html": [
       "<div>\n",
       "<style scoped>\n",
       "    .dataframe tbody tr th:only-of-type {\n",
       "        vertical-align: middle;\n",
       "    }\n",
       "\n",
       "    .dataframe tbody tr th {\n",
       "        vertical-align: top;\n",
       "    }\n",
       "\n",
       "    .dataframe thead th {\n",
       "        text-align: right;\n",
       "    }\n",
       "</style>\n",
       "<table border=\"1\" class=\"dataframe\">\n",
       "  <thead>\n",
       "    <tr style=\"text-align: right;\">\n",
       "      <th></th>\n",
       "      <th>Cor</th>\n",
       "      <th>Total</th>\n",
       "    </tr>\n",
       "  </thead>\n",
       "  <tbody>\n",
       "    <tr>\n",
       "      <th>0</th>\n",
       "      <td>Branca</td>\n",
       "      <td>92211</td>\n",
       "    </tr>\n",
       "    <tr>\n",
       "      <th>1</th>\n",
       "      <td>Preta</td>\n",
       "      <td>42838</td>\n",
       "    </tr>\n",
       "    <tr>\n",
       "      <th>2</th>\n",
       "      <td>Amarela</td>\n",
       "      <td>444</td>\n",
       "    </tr>\n",
       "    <tr>\n",
       "      <th>3</th>\n",
       "      <td>Parda</td>\n",
       "      <td>110556</td>\n",
       "    </tr>\n",
       "    <tr>\n",
       "      <th>4</th>\n",
       "      <td>Indígena</td>\n",
       "      <td>337</td>\n",
       "    </tr>\n",
       "  </tbody>\n",
       "</table>\n",
       "</div>"
      ],
      "text/plain": [
       "        Cor   Total\n",
       "0    Branca   92211\n",
       "1     Preta   42838\n",
       "2   Amarela     444\n",
       "3     Parda  110556\n",
       "4  Indígena     337"
      ]
     },
     "execution_count": 42,
     "metadata": {},
     "output_type": "execute_result"
    }
   ],
   "source": [
    "\n",
    "result_dict = {}\n",
    "for item in data_json[0][\"resultados\"]:\n",
    "    color = list(item['classificacoes'][0]['categoria'].values())[0]\n",
    "    qtd = list(item['series'][0]['serie'].values())[0]\n",
    "    result_dict[color] = qtd\n",
    "\n",
    "result_dict.pop(\"Total\")\n",
    "\n",
    "df_dados_cor_2022 = pd.DataFrame(list(result_dict.items()), columns=['Cor', 'Total'])\n",
    "df_dados_cor_2022"
   ]
  },
  {
   "cell_type": "code",
   "execution_count": 43,
   "metadata": {},
   "outputs": [
    {
     "data": {
      "application/vnd.plotly.v1+json": {
       "config": {
        "plotlyServerURL": "https://plot.ly"
       },
       "data": [
        {
         "direction": "clockwise",
         "domain": {
          "x": [
           0,
           1
          ],
          "y": [
           0,
           1
          ]
         },
         "hovertemplate": "Cor=%{label}<br>Total=%{value}<extra></extra>",
         "labels": [
          "Branca",
          "Preta",
          "Amarela",
          "Parda",
          "Indígena"
         ],
         "legendgroup": "",
         "name": "",
         "showlegend": true,
         "sort": false,
         "type": "pie",
         "values": [
          "92211",
          "42838",
          "444",
          "110556",
          "337"
         ]
        }
       ],
       "layout": {
        "legend": {
         "tracegroupgap": 0
        },
        "margin": {
         "t": 60
        },
        "piecolorway": [
         "#E6D1B1",
         "#1f1e1c",
         "#f7cd79",
         "#967f51",
         "#454128"
        ],
        "template": {
         "data": {
          "bar": [
           {
            "error_x": {
             "color": "#2a3f5f"
            },
            "error_y": {
             "color": "#2a3f5f"
            },
            "marker": {
             "line": {
              "color": "#E5ECF6",
              "width": 0.5
             },
             "pattern": {
              "fillmode": "overlay",
              "size": 10,
              "solidity": 0.2
             }
            },
            "type": "bar"
           }
          ],
          "barpolar": [
           {
            "marker": {
             "line": {
              "color": "#E5ECF6",
              "width": 0.5
             },
             "pattern": {
              "fillmode": "overlay",
              "size": 10,
              "solidity": 0.2
             }
            },
            "type": "barpolar"
           }
          ],
          "carpet": [
           {
            "aaxis": {
             "endlinecolor": "#2a3f5f",
             "gridcolor": "white",
             "linecolor": "white",
             "minorgridcolor": "white",
             "startlinecolor": "#2a3f5f"
            },
            "baxis": {
             "endlinecolor": "#2a3f5f",
             "gridcolor": "white",
             "linecolor": "white",
             "minorgridcolor": "white",
             "startlinecolor": "#2a3f5f"
            },
            "type": "carpet"
           }
          ],
          "choropleth": [
           {
            "colorbar": {
             "outlinewidth": 0,
             "ticks": ""
            },
            "type": "choropleth"
           }
          ],
          "contour": [
           {
            "colorbar": {
             "outlinewidth": 0,
             "ticks": ""
            },
            "colorscale": [
             [
              0,
              "#0d0887"
             ],
             [
              0.1111111111111111,
              "#46039f"
             ],
             [
              0.2222222222222222,
              "#7201a8"
             ],
             [
              0.3333333333333333,
              "#9c179e"
             ],
             [
              0.4444444444444444,
              "#bd3786"
             ],
             [
              0.5555555555555556,
              "#d8576b"
             ],
             [
              0.6666666666666666,
              "#ed7953"
             ],
             [
              0.7777777777777778,
              "#fb9f3a"
             ],
             [
              0.8888888888888888,
              "#fdca26"
             ],
             [
              1,
              "#f0f921"
             ]
            ],
            "type": "contour"
           }
          ],
          "contourcarpet": [
           {
            "colorbar": {
             "outlinewidth": 0,
             "ticks": ""
            },
            "type": "contourcarpet"
           }
          ],
          "heatmap": [
           {
            "colorbar": {
             "outlinewidth": 0,
             "ticks": ""
            },
            "colorscale": [
             [
              0,
              "#0d0887"
             ],
             [
              0.1111111111111111,
              "#46039f"
             ],
             [
              0.2222222222222222,
              "#7201a8"
             ],
             [
              0.3333333333333333,
              "#9c179e"
             ],
             [
              0.4444444444444444,
              "#bd3786"
             ],
             [
              0.5555555555555556,
              "#d8576b"
             ],
             [
              0.6666666666666666,
              "#ed7953"
             ],
             [
              0.7777777777777778,
              "#fb9f3a"
             ],
             [
              0.8888888888888888,
              "#fdca26"
             ],
             [
              1,
              "#f0f921"
             ]
            ],
            "type": "heatmap"
           }
          ],
          "heatmapgl": [
           {
            "colorbar": {
             "outlinewidth": 0,
             "ticks": ""
            },
            "colorscale": [
             [
              0,
              "#0d0887"
             ],
             [
              0.1111111111111111,
              "#46039f"
             ],
             [
              0.2222222222222222,
              "#7201a8"
             ],
             [
              0.3333333333333333,
              "#9c179e"
             ],
             [
              0.4444444444444444,
              "#bd3786"
             ],
             [
              0.5555555555555556,
              "#d8576b"
             ],
             [
              0.6666666666666666,
              "#ed7953"
             ],
             [
              0.7777777777777778,
              "#fb9f3a"
             ],
             [
              0.8888888888888888,
              "#fdca26"
             ],
             [
              1,
              "#f0f921"
             ]
            ],
            "type": "heatmapgl"
           }
          ],
          "histogram": [
           {
            "marker": {
             "pattern": {
              "fillmode": "overlay",
              "size": 10,
              "solidity": 0.2
             }
            },
            "type": "histogram"
           }
          ],
          "histogram2d": [
           {
            "colorbar": {
             "outlinewidth": 0,
             "ticks": ""
            },
            "colorscale": [
             [
              0,
              "#0d0887"
             ],
             [
              0.1111111111111111,
              "#46039f"
             ],
             [
              0.2222222222222222,
              "#7201a8"
             ],
             [
              0.3333333333333333,
              "#9c179e"
             ],
             [
              0.4444444444444444,
              "#bd3786"
             ],
             [
              0.5555555555555556,
              "#d8576b"
             ],
             [
              0.6666666666666666,
              "#ed7953"
             ],
             [
              0.7777777777777778,
              "#fb9f3a"
             ],
             [
              0.8888888888888888,
              "#fdca26"
             ],
             [
              1,
              "#f0f921"
             ]
            ],
            "type": "histogram2d"
           }
          ],
          "histogram2dcontour": [
           {
            "colorbar": {
             "outlinewidth": 0,
             "ticks": ""
            },
            "colorscale": [
             [
              0,
              "#0d0887"
             ],
             [
              0.1111111111111111,
              "#46039f"
             ],
             [
              0.2222222222222222,
              "#7201a8"
             ],
             [
              0.3333333333333333,
              "#9c179e"
             ],
             [
              0.4444444444444444,
              "#bd3786"
             ],
             [
              0.5555555555555556,
              "#d8576b"
             ],
             [
              0.6666666666666666,
              "#ed7953"
             ],
             [
              0.7777777777777778,
              "#fb9f3a"
             ],
             [
              0.8888888888888888,
              "#fdca26"
             ],
             [
              1,
              "#f0f921"
             ]
            ],
            "type": "histogram2dcontour"
           }
          ],
          "mesh3d": [
           {
            "colorbar": {
             "outlinewidth": 0,
             "ticks": ""
            },
            "type": "mesh3d"
           }
          ],
          "parcoords": [
           {
            "line": {
             "colorbar": {
              "outlinewidth": 0,
              "ticks": ""
             }
            },
            "type": "parcoords"
           }
          ],
          "pie": [
           {
            "automargin": true,
            "type": "pie"
           }
          ],
          "scatter": [
           {
            "fillpattern": {
             "fillmode": "overlay",
             "size": 10,
             "solidity": 0.2
            },
            "type": "scatter"
           }
          ],
          "scatter3d": [
           {
            "line": {
             "colorbar": {
              "outlinewidth": 0,
              "ticks": ""
             }
            },
            "marker": {
             "colorbar": {
              "outlinewidth": 0,
              "ticks": ""
             }
            },
            "type": "scatter3d"
           }
          ],
          "scattercarpet": [
           {
            "marker": {
             "colorbar": {
              "outlinewidth": 0,
              "ticks": ""
             }
            },
            "type": "scattercarpet"
           }
          ],
          "scattergeo": [
           {
            "marker": {
             "colorbar": {
              "outlinewidth": 0,
              "ticks": ""
             }
            },
            "type": "scattergeo"
           }
          ],
          "scattergl": [
           {
            "marker": {
             "colorbar": {
              "outlinewidth": 0,
              "ticks": ""
             }
            },
            "type": "scattergl"
           }
          ],
          "scattermapbox": [
           {
            "marker": {
             "colorbar": {
              "outlinewidth": 0,
              "ticks": ""
             }
            },
            "type": "scattermapbox"
           }
          ],
          "scatterpolar": [
           {
            "marker": {
             "colorbar": {
              "outlinewidth": 0,
              "ticks": ""
             }
            },
            "type": "scatterpolar"
           }
          ],
          "scatterpolargl": [
           {
            "marker": {
             "colorbar": {
              "outlinewidth": 0,
              "ticks": ""
             }
            },
            "type": "scatterpolargl"
           }
          ],
          "scatterternary": [
           {
            "marker": {
             "colorbar": {
              "outlinewidth": 0,
              "ticks": ""
             }
            },
            "type": "scatterternary"
           }
          ],
          "surface": [
           {
            "colorbar": {
             "outlinewidth": 0,
             "ticks": ""
            },
            "colorscale": [
             [
              0,
              "#0d0887"
             ],
             [
              0.1111111111111111,
              "#46039f"
             ],
             [
              0.2222222222222222,
              "#7201a8"
             ],
             [
              0.3333333333333333,
              "#9c179e"
             ],
             [
              0.4444444444444444,
              "#bd3786"
             ],
             [
              0.5555555555555556,
              "#d8576b"
             ],
             [
              0.6666666666666666,
              "#ed7953"
             ],
             [
              0.7777777777777778,
              "#fb9f3a"
             ],
             [
              0.8888888888888888,
              "#fdca26"
             ],
             [
              1,
              "#f0f921"
             ]
            ],
            "type": "surface"
           }
          ],
          "table": [
           {
            "cells": {
             "fill": {
              "color": "#EBF0F8"
             },
             "line": {
              "color": "white"
             }
            },
            "header": {
             "fill": {
              "color": "#C8D4E3"
             },
             "line": {
              "color": "white"
             }
            },
            "type": "table"
           }
          ]
         },
         "layout": {
          "annotationdefaults": {
           "arrowcolor": "#2a3f5f",
           "arrowhead": 0,
           "arrowwidth": 1
          },
          "autotypenumbers": "strict",
          "coloraxis": {
           "colorbar": {
            "outlinewidth": 0,
            "ticks": ""
           }
          },
          "colorscale": {
           "diverging": [
            [
             0,
             "#8e0152"
            ],
            [
             0.1,
             "#c51b7d"
            ],
            [
             0.2,
             "#de77ae"
            ],
            [
             0.3,
             "#f1b6da"
            ],
            [
             0.4,
             "#fde0ef"
            ],
            [
             0.5,
             "#f7f7f7"
            ],
            [
             0.6,
             "#e6f5d0"
            ],
            [
             0.7,
             "#b8e186"
            ],
            [
             0.8,
             "#7fbc41"
            ],
            [
             0.9,
             "#4d9221"
            ],
            [
             1,
             "#276419"
            ]
           ],
           "sequential": [
            [
             0,
             "#0d0887"
            ],
            [
             0.1111111111111111,
             "#46039f"
            ],
            [
             0.2222222222222222,
             "#7201a8"
            ],
            [
             0.3333333333333333,
             "#9c179e"
            ],
            [
             0.4444444444444444,
             "#bd3786"
            ],
            [
             0.5555555555555556,
             "#d8576b"
            ],
            [
             0.6666666666666666,
             "#ed7953"
            ],
            [
             0.7777777777777778,
             "#fb9f3a"
            ],
            [
             0.8888888888888888,
             "#fdca26"
            ],
            [
             1,
             "#f0f921"
            ]
           ],
           "sequentialminus": [
            [
             0,
             "#0d0887"
            ],
            [
             0.1111111111111111,
             "#46039f"
            ],
            [
             0.2222222222222222,
             "#7201a8"
            ],
            [
             0.3333333333333333,
             "#9c179e"
            ],
            [
             0.4444444444444444,
             "#bd3786"
            ],
            [
             0.5555555555555556,
             "#d8576b"
            ],
            [
             0.6666666666666666,
             "#ed7953"
            ],
            [
             0.7777777777777778,
             "#fb9f3a"
            ],
            [
             0.8888888888888888,
             "#fdca26"
            ],
            [
             1,
             "#f0f921"
            ]
           ]
          },
          "colorway": [
           "#636efa",
           "#EF553B",
           "#00cc96",
           "#ab63fa",
           "#FFA15A",
           "#19d3f3",
           "#FF6692",
           "#B6E880",
           "#FF97FF",
           "#FECB52"
          ],
          "font": {
           "color": "#2a3f5f"
          },
          "geo": {
           "bgcolor": "white",
           "lakecolor": "white",
           "landcolor": "#E5ECF6",
           "showlakes": true,
           "showland": true,
           "subunitcolor": "white"
          },
          "hoverlabel": {
           "align": "left"
          },
          "hovermode": "closest",
          "mapbox": {
           "style": "light"
          },
          "paper_bgcolor": "white",
          "plot_bgcolor": "#E5ECF6",
          "polar": {
           "angularaxis": {
            "gridcolor": "white",
            "linecolor": "white",
            "ticks": ""
           },
           "bgcolor": "#E5ECF6",
           "radialaxis": {
            "gridcolor": "white",
            "linecolor": "white",
            "ticks": ""
           }
          },
          "scene": {
           "xaxis": {
            "backgroundcolor": "#E5ECF6",
            "gridcolor": "white",
            "gridwidth": 2,
            "linecolor": "white",
            "showbackground": true,
            "ticks": "",
            "zerolinecolor": "white"
           },
           "yaxis": {
            "backgroundcolor": "#E5ECF6",
            "gridcolor": "white",
            "gridwidth": 2,
            "linecolor": "white",
            "showbackground": true,
            "ticks": "",
            "zerolinecolor": "white"
           },
           "zaxis": {
            "backgroundcolor": "#E5ECF6",
            "gridcolor": "white",
            "gridwidth": 2,
            "linecolor": "white",
            "showbackground": true,
            "ticks": "",
            "zerolinecolor": "white"
           }
          },
          "shapedefaults": {
           "line": {
            "color": "#2a3f5f"
           }
          },
          "ternary": {
           "aaxis": {
            "gridcolor": "white",
            "linecolor": "white",
            "ticks": ""
           },
           "baxis": {
            "gridcolor": "white",
            "linecolor": "white",
            "ticks": ""
           },
           "bgcolor": "#E5ECF6",
           "caxis": {
            "gridcolor": "white",
            "linecolor": "white",
            "ticks": ""
           }
          },
          "title": {
           "x": 0.05
          },
          "xaxis": {
           "automargin": true,
           "gridcolor": "white",
           "linecolor": "white",
           "ticks": "",
           "title": {
            "standoff": 15
           },
           "zerolinecolor": "white",
           "zerolinewidth": 2
          },
          "yaxis": {
           "automargin": true,
           "gridcolor": "white",
           "linecolor": "white",
           "ticks": "",
           "title": {
            "standoff": 15
           },
           "zerolinecolor": "white",
           "zerolinewidth": 2
          }
         }
        }
       }
      }
     },
     "metadata": {},
     "output_type": "display_data"
    }
   ],
   "source": [
    "# Custom colors for the chart\n",
    "chart_colors = ['#E6D1B1', '#1f1e1c', '#f7cd79', '#967f51', '#454128']\n",
    "\n",
    "fig = px.pie(df_dados_cor_2022,values=\"Total\",names=\"Cor\",color_discrete_sequence=[\"#E6D1B1\", \"#1f1e1c\", \"#f7cd79\", \"#967f51\", \"#454128\"],category_orders={\"Cor\": df_dados_cor_2022.index.tolist()})\n",
    "\n",
    "fig"
   ]
  },
  {
   "cell_type": "code",
   "execution_count": 44,
   "metadata": {},
   "outputs": [
    {
     "data": {
      "text/plain": [
       "[{'id': '9324',\n",
       "  'variavel': 'População residente estimada',\n",
       "  'unidade': 'Pessoas',\n",
       "  'resultados': [{'classificacoes': [],\n",
       "    'series': [{'localidade': {'id': '3302403',\n",
       "       'nivel': {'id': 'N6', 'nome': 'Município'},\n",
       "       'nome': 'Macaé (RJ)'},\n",
       "      'serie': {'2001': '136145',\n",
       "       '2002': '140466',\n",
       "       '2003': '144207',\n",
       "       '2004': '152063',\n",
       "       '2005': '156410',\n",
       "       '2006': '160725',\n",
       "       '2008': '188787',\n",
       "       '2009': '194413',\n",
       "       '2011': '212433',\n",
       "       '2012': '217951',\n",
       "       '2013': '224442',\n",
       "       '2014': '229624',\n",
       "       '2015': '234628',\n",
       "       '2016': '239471',\n",
       "       '2017': '244139',\n",
       "       '2018': '251631',\n",
       "       '2019': '256672',\n",
       "       '2020': '261501',\n",
       "       '2021': '266136'}}]}]}]"
      ]
     },
     "execution_count": 44,
     "metadata": {},
     "output_type": "execute_result"
    }
   ],
   "source": [
    "data = requests.get(\"https://servicodados.ibge.gov.br/api/v3/agregados/6579/periodos/2001|2002|2003|2004|2005|2006|2008|2009|2011|2012|2013|2014|2015|2016|2017|2018|2019|2020|2021/variaveis/9324?localidades=N6[3302403]\")\n",
    "data_json = data.json()\n",
    "\n",
    "data_json"
   ]
  },
  {
   "cell_type": "code",
   "execution_count": 45,
   "metadata": {},
   "outputs": [
    {
     "data": {
      "text/html": [
       "<div>\n",
       "<style scoped>\n",
       "    .dataframe tbody tr th:only-of-type {\n",
       "        vertical-align: middle;\n",
       "    }\n",
       "\n",
       "    .dataframe tbody tr th {\n",
       "        vertical-align: top;\n",
       "    }\n",
       "\n",
       "    .dataframe thead th {\n",
       "        text-align: right;\n",
       "    }\n",
       "</style>\n",
       "<table border=\"1\" class=\"dataframe\">\n",
       "  <thead>\n",
       "    <tr style=\"text-align: right;\">\n",
       "      <th></th>\n",
       "      <th>Ano</th>\n",
       "      <th>Total</th>\n",
       "    </tr>\n",
       "  </thead>\n",
       "  <tbody>\n",
       "    <tr>\n",
       "      <th>0</th>\n",
       "      <td>2001</td>\n",
       "      <td>136145</td>\n",
       "    </tr>\n",
       "    <tr>\n",
       "      <th>1</th>\n",
       "      <td>2002</td>\n",
       "      <td>140466</td>\n",
       "    </tr>\n",
       "    <tr>\n",
       "      <th>2</th>\n",
       "      <td>2003</td>\n",
       "      <td>144207</td>\n",
       "    </tr>\n",
       "    <tr>\n",
       "      <th>3</th>\n",
       "      <td>2004</td>\n",
       "      <td>152063</td>\n",
       "    </tr>\n",
       "    <tr>\n",
       "      <th>4</th>\n",
       "      <td>2005</td>\n",
       "      <td>156410</td>\n",
       "    </tr>\n",
       "    <tr>\n",
       "      <th>5</th>\n",
       "      <td>2006</td>\n",
       "      <td>160725</td>\n",
       "    </tr>\n",
       "    <tr>\n",
       "      <th>6</th>\n",
       "      <td>2008</td>\n",
       "      <td>188787</td>\n",
       "    </tr>\n",
       "    <tr>\n",
       "      <th>7</th>\n",
       "      <td>2009</td>\n",
       "      <td>194413</td>\n",
       "    </tr>\n",
       "    <tr>\n",
       "      <th>8</th>\n",
       "      <td>2011</td>\n",
       "      <td>212433</td>\n",
       "    </tr>\n",
       "    <tr>\n",
       "      <th>9</th>\n",
       "      <td>2012</td>\n",
       "      <td>217951</td>\n",
       "    </tr>\n",
       "    <tr>\n",
       "      <th>10</th>\n",
       "      <td>2013</td>\n",
       "      <td>224442</td>\n",
       "    </tr>\n",
       "    <tr>\n",
       "      <th>11</th>\n",
       "      <td>2014</td>\n",
       "      <td>229624</td>\n",
       "    </tr>\n",
       "    <tr>\n",
       "      <th>12</th>\n",
       "      <td>2015</td>\n",
       "      <td>234628</td>\n",
       "    </tr>\n",
       "    <tr>\n",
       "      <th>13</th>\n",
       "      <td>2016</td>\n",
       "      <td>239471</td>\n",
       "    </tr>\n",
       "    <tr>\n",
       "      <th>14</th>\n",
       "      <td>2017</td>\n",
       "      <td>244139</td>\n",
       "    </tr>\n",
       "    <tr>\n",
       "      <th>15</th>\n",
       "      <td>2018</td>\n",
       "      <td>251631</td>\n",
       "    </tr>\n",
       "    <tr>\n",
       "      <th>16</th>\n",
       "      <td>2019</td>\n",
       "      <td>256672</td>\n",
       "    </tr>\n",
       "    <tr>\n",
       "      <th>17</th>\n",
       "      <td>2020</td>\n",
       "      <td>261501</td>\n",
       "    </tr>\n",
       "    <tr>\n",
       "      <th>18</th>\n",
       "      <td>2021</td>\n",
       "      <td>266136</td>\n",
       "    </tr>\n",
       "  </tbody>\n",
       "</table>\n",
       "</div>"
      ],
      "text/plain": [
       "     Ano   Total\n",
       "0   2001  136145\n",
       "1   2002  140466\n",
       "2   2003  144207\n",
       "3   2004  152063\n",
       "4   2005  156410\n",
       "5   2006  160725\n",
       "6   2008  188787\n",
       "7   2009  194413\n",
       "8   2011  212433\n",
       "9   2012  217951\n",
       "10  2013  224442\n",
       "11  2014  229624\n",
       "12  2015  234628\n",
       "13  2016  239471\n",
       "14  2017  244139\n",
       "15  2018  251631\n",
       "16  2019  256672\n",
       "17  2020  261501\n",
       "18  2021  266136"
      ]
     },
     "execution_count": 45,
     "metadata": {},
     "output_type": "execute_result"
    }
   ],
   "source": [
    "result_dict = {}\n",
    "\n",
    "for item in data_json[0][\"resultados\"][0][\"series\"][0][\"serie\"].items():\n",
    "    result_dict[item[0]] = int(item[1])\n",
    "\n",
    "df_dados_pop = pd.DataFrame(list(result_dict.items()), columns=['Ano', 'Total'])\n",
    "df_dados_pop"
   ]
  },
  {
   "cell_type": "code",
   "execution_count": 46,
   "metadata": {},
   "outputs": [
    {
     "data": {
      "application/vnd.plotly.v1+json": {
       "config": {
        "plotlyServerURL": "https://plot.ly"
       },
       "data": [
        {
         "alignmentgroup": "True",
         "hovertemplate": "Ano=%{x}<br>Total=%{y}<extra></extra>",
         "legendgroup": "",
         "marker": {
          "color": "#636efa",
          "pattern": {
           "shape": ""
          }
         },
         "name": "",
         "offsetgroup": "",
         "orientation": "v",
         "showlegend": false,
         "textposition": "auto",
         "type": "bar",
         "x": [
          "2001",
          "2002",
          "2003",
          "2004",
          "2005",
          "2006",
          "2008",
          "2009",
          "2011",
          "2012",
          "2013",
          "2014",
          "2015",
          "2016",
          "2017",
          "2018",
          "2019",
          "2020",
          "2021"
         ],
         "xaxis": "x",
         "y": [
          136145,
          140466,
          144207,
          152063,
          156410,
          160725,
          188787,
          194413,
          212433,
          217951,
          224442,
          229624,
          234628,
          239471,
          244139,
          251631,
          256672,
          261501,
          266136
         ],
         "yaxis": "y"
        }
       ],
       "layout": {
        "barmode": "relative",
        "legend": {
         "tracegroupgap": 0
        },
        "template": {
         "data": {
          "bar": [
           {
            "error_x": {
             "color": "#2a3f5f"
            },
            "error_y": {
             "color": "#2a3f5f"
            },
            "marker": {
             "line": {
              "color": "#E5ECF6",
              "width": 0.5
             },
             "pattern": {
              "fillmode": "overlay",
              "size": 10,
              "solidity": 0.2
             }
            },
            "type": "bar"
           }
          ],
          "barpolar": [
           {
            "marker": {
             "line": {
              "color": "#E5ECF6",
              "width": 0.5
             },
             "pattern": {
              "fillmode": "overlay",
              "size": 10,
              "solidity": 0.2
             }
            },
            "type": "barpolar"
           }
          ],
          "carpet": [
           {
            "aaxis": {
             "endlinecolor": "#2a3f5f",
             "gridcolor": "white",
             "linecolor": "white",
             "minorgridcolor": "white",
             "startlinecolor": "#2a3f5f"
            },
            "baxis": {
             "endlinecolor": "#2a3f5f",
             "gridcolor": "white",
             "linecolor": "white",
             "minorgridcolor": "white",
             "startlinecolor": "#2a3f5f"
            },
            "type": "carpet"
           }
          ],
          "choropleth": [
           {
            "colorbar": {
             "outlinewidth": 0,
             "ticks": ""
            },
            "type": "choropleth"
           }
          ],
          "contour": [
           {
            "colorbar": {
             "outlinewidth": 0,
             "ticks": ""
            },
            "colorscale": [
             [
              0,
              "#0d0887"
             ],
             [
              0.1111111111111111,
              "#46039f"
             ],
             [
              0.2222222222222222,
              "#7201a8"
             ],
             [
              0.3333333333333333,
              "#9c179e"
             ],
             [
              0.4444444444444444,
              "#bd3786"
             ],
             [
              0.5555555555555556,
              "#d8576b"
             ],
             [
              0.6666666666666666,
              "#ed7953"
             ],
             [
              0.7777777777777778,
              "#fb9f3a"
             ],
             [
              0.8888888888888888,
              "#fdca26"
             ],
             [
              1,
              "#f0f921"
             ]
            ],
            "type": "contour"
           }
          ],
          "contourcarpet": [
           {
            "colorbar": {
             "outlinewidth": 0,
             "ticks": ""
            },
            "type": "contourcarpet"
           }
          ],
          "heatmap": [
           {
            "colorbar": {
             "outlinewidth": 0,
             "ticks": ""
            },
            "colorscale": [
             [
              0,
              "#0d0887"
             ],
             [
              0.1111111111111111,
              "#46039f"
             ],
             [
              0.2222222222222222,
              "#7201a8"
             ],
             [
              0.3333333333333333,
              "#9c179e"
             ],
             [
              0.4444444444444444,
              "#bd3786"
             ],
             [
              0.5555555555555556,
              "#d8576b"
             ],
             [
              0.6666666666666666,
              "#ed7953"
             ],
             [
              0.7777777777777778,
              "#fb9f3a"
             ],
             [
              0.8888888888888888,
              "#fdca26"
             ],
             [
              1,
              "#f0f921"
             ]
            ],
            "type": "heatmap"
           }
          ],
          "heatmapgl": [
           {
            "colorbar": {
             "outlinewidth": 0,
             "ticks": ""
            },
            "colorscale": [
             [
              0,
              "#0d0887"
             ],
             [
              0.1111111111111111,
              "#46039f"
             ],
             [
              0.2222222222222222,
              "#7201a8"
             ],
             [
              0.3333333333333333,
              "#9c179e"
             ],
             [
              0.4444444444444444,
              "#bd3786"
             ],
             [
              0.5555555555555556,
              "#d8576b"
             ],
             [
              0.6666666666666666,
              "#ed7953"
             ],
             [
              0.7777777777777778,
              "#fb9f3a"
             ],
             [
              0.8888888888888888,
              "#fdca26"
             ],
             [
              1,
              "#f0f921"
             ]
            ],
            "type": "heatmapgl"
           }
          ],
          "histogram": [
           {
            "marker": {
             "pattern": {
              "fillmode": "overlay",
              "size": 10,
              "solidity": 0.2
             }
            },
            "type": "histogram"
           }
          ],
          "histogram2d": [
           {
            "colorbar": {
             "outlinewidth": 0,
             "ticks": ""
            },
            "colorscale": [
             [
              0,
              "#0d0887"
             ],
             [
              0.1111111111111111,
              "#46039f"
             ],
             [
              0.2222222222222222,
              "#7201a8"
             ],
             [
              0.3333333333333333,
              "#9c179e"
             ],
             [
              0.4444444444444444,
              "#bd3786"
             ],
             [
              0.5555555555555556,
              "#d8576b"
             ],
             [
              0.6666666666666666,
              "#ed7953"
             ],
             [
              0.7777777777777778,
              "#fb9f3a"
             ],
             [
              0.8888888888888888,
              "#fdca26"
             ],
             [
              1,
              "#f0f921"
             ]
            ],
            "type": "histogram2d"
           }
          ],
          "histogram2dcontour": [
           {
            "colorbar": {
             "outlinewidth": 0,
             "ticks": ""
            },
            "colorscale": [
             [
              0,
              "#0d0887"
             ],
             [
              0.1111111111111111,
              "#46039f"
             ],
             [
              0.2222222222222222,
              "#7201a8"
             ],
             [
              0.3333333333333333,
              "#9c179e"
             ],
             [
              0.4444444444444444,
              "#bd3786"
             ],
             [
              0.5555555555555556,
              "#d8576b"
             ],
             [
              0.6666666666666666,
              "#ed7953"
             ],
             [
              0.7777777777777778,
              "#fb9f3a"
             ],
             [
              0.8888888888888888,
              "#fdca26"
             ],
             [
              1,
              "#f0f921"
             ]
            ],
            "type": "histogram2dcontour"
           }
          ],
          "mesh3d": [
           {
            "colorbar": {
             "outlinewidth": 0,
             "ticks": ""
            },
            "type": "mesh3d"
           }
          ],
          "parcoords": [
           {
            "line": {
             "colorbar": {
              "outlinewidth": 0,
              "ticks": ""
             }
            },
            "type": "parcoords"
           }
          ],
          "pie": [
           {
            "automargin": true,
            "type": "pie"
           }
          ],
          "scatter": [
           {
            "fillpattern": {
             "fillmode": "overlay",
             "size": 10,
             "solidity": 0.2
            },
            "type": "scatter"
           }
          ],
          "scatter3d": [
           {
            "line": {
             "colorbar": {
              "outlinewidth": 0,
              "ticks": ""
             }
            },
            "marker": {
             "colorbar": {
              "outlinewidth": 0,
              "ticks": ""
             }
            },
            "type": "scatter3d"
           }
          ],
          "scattercarpet": [
           {
            "marker": {
             "colorbar": {
              "outlinewidth": 0,
              "ticks": ""
             }
            },
            "type": "scattercarpet"
           }
          ],
          "scattergeo": [
           {
            "marker": {
             "colorbar": {
              "outlinewidth": 0,
              "ticks": ""
             }
            },
            "type": "scattergeo"
           }
          ],
          "scattergl": [
           {
            "marker": {
             "colorbar": {
              "outlinewidth": 0,
              "ticks": ""
             }
            },
            "type": "scattergl"
           }
          ],
          "scattermapbox": [
           {
            "marker": {
             "colorbar": {
              "outlinewidth": 0,
              "ticks": ""
             }
            },
            "type": "scattermapbox"
           }
          ],
          "scatterpolar": [
           {
            "marker": {
             "colorbar": {
              "outlinewidth": 0,
              "ticks": ""
             }
            },
            "type": "scatterpolar"
           }
          ],
          "scatterpolargl": [
           {
            "marker": {
             "colorbar": {
              "outlinewidth": 0,
              "ticks": ""
             }
            },
            "type": "scatterpolargl"
           }
          ],
          "scatterternary": [
           {
            "marker": {
             "colorbar": {
              "outlinewidth": 0,
              "ticks": ""
             }
            },
            "type": "scatterternary"
           }
          ],
          "surface": [
           {
            "colorbar": {
             "outlinewidth": 0,
             "ticks": ""
            },
            "colorscale": [
             [
              0,
              "#0d0887"
             ],
             [
              0.1111111111111111,
              "#46039f"
             ],
             [
              0.2222222222222222,
              "#7201a8"
             ],
             [
              0.3333333333333333,
              "#9c179e"
             ],
             [
              0.4444444444444444,
              "#bd3786"
             ],
             [
              0.5555555555555556,
              "#d8576b"
             ],
             [
              0.6666666666666666,
              "#ed7953"
             ],
             [
              0.7777777777777778,
              "#fb9f3a"
             ],
             [
              0.8888888888888888,
              "#fdca26"
             ],
             [
              1,
              "#f0f921"
             ]
            ],
            "type": "surface"
           }
          ],
          "table": [
           {
            "cells": {
             "fill": {
              "color": "#EBF0F8"
             },
             "line": {
              "color": "white"
             }
            },
            "header": {
             "fill": {
              "color": "#C8D4E3"
             },
             "line": {
              "color": "white"
             }
            },
            "type": "table"
           }
          ]
         },
         "layout": {
          "annotationdefaults": {
           "arrowcolor": "#2a3f5f",
           "arrowhead": 0,
           "arrowwidth": 1
          },
          "autotypenumbers": "strict",
          "coloraxis": {
           "colorbar": {
            "outlinewidth": 0,
            "ticks": ""
           }
          },
          "colorscale": {
           "diverging": [
            [
             0,
             "#8e0152"
            ],
            [
             0.1,
             "#c51b7d"
            ],
            [
             0.2,
             "#de77ae"
            ],
            [
             0.3,
             "#f1b6da"
            ],
            [
             0.4,
             "#fde0ef"
            ],
            [
             0.5,
             "#f7f7f7"
            ],
            [
             0.6,
             "#e6f5d0"
            ],
            [
             0.7,
             "#b8e186"
            ],
            [
             0.8,
             "#7fbc41"
            ],
            [
             0.9,
             "#4d9221"
            ],
            [
             1,
             "#276419"
            ]
           ],
           "sequential": [
            [
             0,
             "#0d0887"
            ],
            [
             0.1111111111111111,
             "#46039f"
            ],
            [
             0.2222222222222222,
             "#7201a8"
            ],
            [
             0.3333333333333333,
             "#9c179e"
            ],
            [
             0.4444444444444444,
             "#bd3786"
            ],
            [
             0.5555555555555556,
             "#d8576b"
            ],
            [
             0.6666666666666666,
             "#ed7953"
            ],
            [
             0.7777777777777778,
             "#fb9f3a"
            ],
            [
             0.8888888888888888,
             "#fdca26"
            ],
            [
             1,
             "#f0f921"
            ]
           ],
           "sequentialminus": [
            [
             0,
             "#0d0887"
            ],
            [
             0.1111111111111111,
             "#46039f"
            ],
            [
             0.2222222222222222,
             "#7201a8"
            ],
            [
             0.3333333333333333,
             "#9c179e"
            ],
            [
             0.4444444444444444,
             "#bd3786"
            ],
            [
             0.5555555555555556,
             "#d8576b"
            ],
            [
             0.6666666666666666,
             "#ed7953"
            ],
            [
             0.7777777777777778,
             "#fb9f3a"
            ],
            [
             0.8888888888888888,
             "#fdca26"
            ],
            [
             1,
             "#f0f921"
            ]
           ]
          },
          "colorway": [
           "#636efa",
           "#EF553B",
           "#00cc96",
           "#ab63fa",
           "#FFA15A",
           "#19d3f3",
           "#FF6692",
           "#B6E880",
           "#FF97FF",
           "#FECB52"
          ],
          "font": {
           "color": "#2a3f5f"
          },
          "geo": {
           "bgcolor": "white",
           "lakecolor": "white",
           "landcolor": "#E5ECF6",
           "showlakes": true,
           "showland": true,
           "subunitcolor": "white"
          },
          "hoverlabel": {
           "align": "left"
          },
          "hovermode": "closest",
          "mapbox": {
           "style": "light"
          },
          "paper_bgcolor": "white",
          "plot_bgcolor": "#E5ECF6",
          "polar": {
           "angularaxis": {
            "gridcolor": "white",
            "linecolor": "white",
            "ticks": ""
           },
           "bgcolor": "#E5ECF6",
           "radialaxis": {
            "gridcolor": "white",
            "linecolor": "white",
            "ticks": ""
           }
          },
          "scene": {
           "xaxis": {
            "backgroundcolor": "#E5ECF6",
            "gridcolor": "white",
            "gridwidth": 2,
            "linecolor": "white",
            "showbackground": true,
            "ticks": "",
            "zerolinecolor": "white"
           },
           "yaxis": {
            "backgroundcolor": "#E5ECF6",
            "gridcolor": "white",
            "gridwidth": 2,
            "linecolor": "white",
            "showbackground": true,
            "ticks": "",
            "zerolinecolor": "white"
           },
           "zaxis": {
            "backgroundcolor": "#E5ECF6",
            "gridcolor": "white",
            "gridwidth": 2,
            "linecolor": "white",
            "showbackground": true,
            "ticks": "",
            "zerolinecolor": "white"
           }
          },
          "shapedefaults": {
           "line": {
            "color": "#2a3f5f"
           }
          },
          "ternary": {
           "aaxis": {
            "gridcolor": "white",
            "linecolor": "white",
            "ticks": ""
           },
           "baxis": {
            "gridcolor": "white",
            "linecolor": "white",
            "ticks": ""
           },
           "bgcolor": "#E5ECF6",
           "caxis": {
            "gridcolor": "white",
            "linecolor": "white",
            "ticks": ""
           }
          },
          "title": {
           "x": 0.05
          },
          "xaxis": {
           "automargin": true,
           "gridcolor": "white",
           "linecolor": "white",
           "ticks": "",
           "title": {
            "standoff": 15
           },
           "zerolinecolor": "white",
           "zerolinewidth": 2
          },
          "yaxis": {
           "automargin": true,
           "gridcolor": "white",
           "linecolor": "white",
           "ticks": "",
           "title": {
            "standoff": 15
           },
           "zerolinecolor": "white",
           "zerolinewidth": 2
          }
         }
        },
        "title": {
         "text": "Bar Chart for Total by Year"
        },
        "xaxis": {
         "anchor": "y",
         "domain": [
          0,
          1
         ],
         "title": {
          "text": "Ano"
         }
        },
        "yaxis": {
         "anchor": "x",
         "domain": [
          0,
          1
         ],
         "title": {
          "text": "Total"
         }
        }
       }
      }
     },
     "metadata": {},
     "output_type": "display_data"
    }
   ],
   "source": [
    "fig = px.bar(df_dados_pop, x='Ano', y='Total', title='Bar Chart for Total by Year')\n",
    "\n",
    "fig"
   ]
  },
  {
   "cell_type": "code",
   "execution_count": 47,
   "metadata": {},
   "outputs": [
    {
     "data": {
      "text/plain": [
       "[{'id': '93',\n",
       "  'variavel': 'População residente',\n",
       "  'unidade': 'Pessoas',\n",
       "  'resultados': [{'classificacoes': [{'id': '2',\n",
       "      'nome': 'Sexo',\n",
       "      'categoria': {'4': 'Homens'}},\n",
       "     {'id': '287', 'nome': 'Idade', 'categoria': {'93070': '0 a 4 anos'}},\n",
       "     {'id': '86', 'nome': 'Cor ou raça', 'categoria': {'95251': 'Total'}}],\n",
       "    'series': [{'localidade': {'id': '3302403',\n",
       "       'nivel': {'id': 'N6', 'nome': 'Município'},\n",
       "       'nome': 'Macaé (RJ)'},\n",
       "      'serie': {'2022': '8326'}}]},\n",
       "   {'classificacoes': [{'id': '2',\n",
       "      'nome': 'Sexo',\n",
       "      'categoria': {'4': 'Homens'}},\n",
       "     {'id': '287', 'nome': 'Idade', 'categoria': {'93084': '5 a 9 anos'}},\n",
       "     {'id': '86', 'nome': 'Cor ou raça', 'categoria': {'95251': 'Total'}}],\n",
       "    'series': [{'localidade': {'id': '3302403',\n",
       "       'nivel': {'id': 'N6', 'nome': 'Município'},\n",
       "       'nome': 'Macaé (RJ)'},\n",
       "      'serie': {'2022': '9514'}}]},\n",
       "   {'classificacoes': [{'id': '2',\n",
       "      'nome': 'Sexo',\n",
       "      'categoria': {'4': 'Homens'}},\n",
       "     {'id': '287', 'nome': 'Idade', 'categoria': {'93085': '10 a 14 anos'}},\n",
       "     {'id': '86', 'nome': 'Cor ou raça', 'categoria': {'95251': 'Total'}}],\n",
       "    'series': [{'localidade': {'id': '3302403',\n",
       "       'nivel': {'id': 'N6', 'nome': 'Município'},\n",
       "       'nome': 'Macaé (RJ)'},\n",
       "      'serie': {'2022': '8653'}}]},\n",
       "   {'classificacoes': [{'id': '2',\n",
       "      'nome': 'Sexo',\n",
       "      'categoria': {'4': 'Homens'}},\n",
       "     {'id': '287', 'nome': 'Idade', 'categoria': {'93086': '15 a 19 anos'}},\n",
       "     {'id': '86', 'nome': 'Cor ou raça', 'categoria': {'95251': 'Total'}}],\n",
       "    'series': [{'localidade': {'id': '3302403',\n",
       "       'nivel': {'id': 'N6', 'nome': 'Município'},\n",
       "       'nome': 'Macaé (RJ)'},\n",
       "      'serie': {'2022': '8345'}}]},\n",
       "   {'classificacoes': [{'id': '2',\n",
       "      'nome': 'Sexo',\n",
       "      'categoria': {'4': 'Homens'}},\n",
       "     {'id': '287', 'nome': 'Idade', 'categoria': {'93087': '20 a 24 anos'}},\n",
       "     {'id': '86', 'nome': 'Cor ou raça', 'categoria': {'95251': 'Total'}}],\n",
       "    'series': [{'localidade': {'id': '3302403',\n",
       "       'nivel': {'id': 'N6', 'nome': 'Município'},\n",
       "       'nome': 'Macaé (RJ)'},\n",
       "      'serie': {'2022': '8361'}}]},\n",
       "   {'classificacoes': [{'id': '2',\n",
       "      'nome': 'Sexo',\n",
       "      'categoria': {'4': 'Homens'}},\n",
       "     {'id': '287', 'nome': 'Idade', 'categoria': {'93088': '25 a 29 anos'}},\n",
       "     {'id': '86', 'nome': 'Cor ou raça', 'categoria': {'95251': 'Total'}}],\n",
       "    'series': [{'localidade': {'id': '3302403',\n",
       "       'nivel': {'id': 'N6', 'nome': 'Município'},\n",
       "       'nome': 'Macaé (RJ)'},\n",
       "      'serie': {'2022': '8975'}}]},\n",
       "   {'classificacoes': [{'id': '2',\n",
       "      'nome': 'Sexo',\n",
       "      'categoria': {'4': 'Homens'}},\n",
       "     {'id': '287', 'nome': 'Idade', 'categoria': {'93089': '30 a 34 anos'}},\n",
       "     {'id': '86', 'nome': 'Cor ou raça', 'categoria': {'95251': 'Total'}}],\n",
       "    'series': [{'localidade': {'id': '3302403',\n",
       "       'nivel': {'id': 'N6', 'nome': 'Município'},\n",
       "       'nome': 'Macaé (RJ)'},\n",
       "      'serie': {'2022': '9505'}}]},\n",
       "   {'classificacoes': [{'id': '2',\n",
       "      'nome': 'Sexo',\n",
       "      'categoria': {'4': 'Homens'}},\n",
       "     {'id': '287', 'nome': 'Idade', 'categoria': {'93090': '35 a 39 anos'}},\n",
       "     {'id': '86', 'nome': 'Cor ou raça', 'categoria': {'95251': 'Total'}}],\n",
       "    'series': [{'localidade': {'id': '3302403',\n",
       "       'nivel': {'id': 'N6', 'nome': 'Município'},\n",
       "       'nome': 'Macaé (RJ)'},\n",
       "      'serie': {'2022': '11012'}}]},\n",
       "   {'classificacoes': [{'id': '2',\n",
       "      'nome': 'Sexo',\n",
       "      'categoria': {'4': 'Homens'}},\n",
       "     {'id': '287', 'nome': 'Idade', 'categoria': {'93091': '40 a 44 anos'}},\n",
       "     {'id': '86', 'nome': 'Cor ou raça', 'categoria': {'95251': 'Total'}}],\n",
       "    'series': [{'localidade': {'id': '3302403',\n",
       "       'nivel': {'id': 'N6', 'nome': 'Município'},\n",
       "       'nome': 'Macaé (RJ)'},\n",
       "      'serie': {'2022': '10888'}}]},\n",
       "   {'classificacoes': [{'id': '2',\n",
       "      'nome': 'Sexo',\n",
       "      'categoria': {'4': 'Homens'}},\n",
       "     {'id': '287', 'nome': 'Idade', 'categoria': {'93092': '45 a 49 anos'}},\n",
       "     {'id': '86', 'nome': 'Cor ou raça', 'categoria': {'95251': 'Total'}}],\n",
       "    'series': [{'localidade': {'id': '3302403',\n",
       "       'nivel': {'id': 'N6', 'nome': 'Município'},\n",
       "       'nome': 'Macaé (RJ)'},\n",
       "      'serie': {'2022': '8003'}}]},\n",
       "   {'classificacoes': [{'id': '2',\n",
       "      'nome': 'Sexo',\n",
       "      'categoria': {'4': 'Homens'}},\n",
       "     {'id': '287', 'nome': 'Idade', 'categoria': {'93093': '50 a 54 anos'}},\n",
       "     {'id': '86', 'nome': 'Cor ou raça', 'categoria': {'95251': 'Total'}}],\n",
       "    'series': [{'localidade': {'id': '3302403',\n",
       "       'nivel': {'id': 'N6', 'nome': 'Município'},\n",
       "       'nome': 'Macaé (RJ)'},\n",
       "      'serie': {'2022': '6785'}}]},\n",
       "   {'classificacoes': [{'id': '2',\n",
       "      'nome': 'Sexo',\n",
       "      'categoria': {'4': 'Homens'}},\n",
       "     {'id': '287', 'nome': 'Idade', 'categoria': {'93094': '55 a 59 anos'}},\n",
       "     {'id': '86', 'nome': 'Cor ou raça', 'categoria': {'95251': 'Total'}}],\n",
       "    'series': [{'localidade': {'id': '3302403',\n",
       "       'nivel': {'id': 'N6', 'nome': 'Município'},\n",
       "       'nome': 'Macaé (RJ)'},\n",
       "      'serie': {'2022': '6183'}}]},\n",
       "   {'classificacoes': [{'id': '2',\n",
       "      'nome': 'Sexo',\n",
       "      'categoria': {'4': 'Homens'}},\n",
       "     {'id': '287', 'nome': 'Idade', 'categoria': {'93095': '60 a 64 anos'}},\n",
       "     {'id': '86', 'nome': 'Cor ou raça', 'categoria': {'95251': 'Total'}}],\n",
       "    'series': [{'localidade': {'id': '3302403',\n",
       "       'nivel': {'id': 'N6', 'nome': 'Município'},\n",
       "       'nome': 'Macaé (RJ)'},\n",
       "      'serie': {'2022': '5388'}}]},\n",
       "   {'classificacoes': [{'id': '2',\n",
       "      'nome': 'Sexo',\n",
       "      'categoria': {'4': 'Homens'}},\n",
       "     {'id': '287', 'nome': 'Idade', 'categoria': {'93096': '65 a 69 anos'}},\n",
       "     {'id': '86', 'nome': 'Cor ou raça', 'categoria': {'95251': 'Total'}}],\n",
       "    'series': [{'localidade': {'id': '3302403',\n",
       "       'nivel': {'id': 'N6', 'nome': 'Município'},\n",
       "       'nome': 'Macaé (RJ)'},\n",
       "      'serie': {'2022': '3849'}}]},\n",
       "   {'classificacoes': [{'id': '2',\n",
       "      'nome': 'Sexo',\n",
       "      'categoria': {'4': 'Homens'}},\n",
       "     {'id': '287', 'nome': 'Idade', 'categoria': {'93097': '70 a 74 anos'}},\n",
       "     {'id': '86', 'nome': 'Cor ou raça', 'categoria': {'95251': 'Total'}}],\n",
       "    'series': [{'localidade': {'id': '3302403',\n",
       "       'nivel': {'id': 'N6', 'nome': 'Município'},\n",
       "       'nome': 'Macaé (RJ)'},\n",
       "      'serie': {'2022': '2470'}}]},\n",
       "   {'classificacoes': [{'id': '2',\n",
       "      'nome': 'Sexo',\n",
       "      'categoria': {'4': 'Homens'}},\n",
       "     {'id': '287', 'nome': 'Idade', 'categoria': {'93098': '75 a 79 anos'}},\n",
       "     {'id': '86', 'nome': 'Cor ou raça', 'categoria': {'95251': 'Total'}}],\n",
       "    'series': [{'localidade': {'id': '3302403',\n",
       "       'nivel': {'id': 'N6', 'nome': 'Município'},\n",
       "       'nome': 'Macaé (RJ)'},\n",
       "      'serie': {'2022': '1440'}}]},\n",
       "   {'classificacoes': [{'id': '2',\n",
       "      'nome': 'Sexo',\n",
       "      'categoria': {'4': 'Homens'}},\n",
       "     {'id': '287', 'nome': 'Idade', 'categoria': {'49108': '80 a 84 anos'}},\n",
       "     {'id': '86', 'nome': 'Cor ou raça', 'categoria': {'95251': 'Total'}}],\n",
       "    'series': [{'localidade': {'id': '3302403',\n",
       "       'nivel': {'id': 'N6', 'nome': 'Município'},\n",
       "       'nome': 'Macaé (RJ)'},\n",
       "      'serie': {'2022': '838'}}]},\n",
       "   {'classificacoes': [{'id': '2',\n",
       "      'nome': 'Sexo',\n",
       "      'categoria': {'4': 'Homens'}},\n",
       "     {'id': '287', 'nome': 'Idade', 'categoria': {'49109': '85 a 89 anos'}},\n",
       "     {'id': '86', 'nome': 'Cor ou raça', 'categoria': {'95251': 'Total'}}],\n",
       "    'series': [{'localidade': {'id': '3302403',\n",
       "       'nivel': {'id': 'N6', 'nome': 'Município'},\n",
       "       'nome': 'Macaé (RJ)'},\n",
       "      'serie': {'2022': '392'}}]},\n",
       "   {'classificacoes': [{'id': '2',\n",
       "      'nome': 'Sexo',\n",
       "      'categoria': {'4': 'Homens'}},\n",
       "     {'id': '287', 'nome': 'Idade', 'categoria': {'60040': '90 a 94 anos'}},\n",
       "     {'id': '86', 'nome': 'Cor ou raça', 'categoria': {'95251': 'Total'}}],\n",
       "    'series': [{'localidade': {'id': '3302403',\n",
       "       'nivel': {'id': 'N6', 'nome': 'Município'},\n",
       "       'nome': 'Macaé (RJ)'},\n",
       "      'serie': {'2022': '154'}}]},\n",
       "   {'classificacoes': [{'id': '2',\n",
       "      'nome': 'Sexo',\n",
       "      'categoria': {'4': 'Homens'}},\n",
       "     {'id': '287', 'nome': 'Idade', 'categoria': {'60041': '95 a 99 anos'}},\n",
       "     {'id': '86', 'nome': 'Cor ou raça', 'categoria': {'95251': 'Total'}}],\n",
       "    'series': [{'localidade': {'id': '3302403',\n",
       "       'nivel': {'id': 'N6', 'nome': 'Município'},\n",
       "       'nome': 'Macaé (RJ)'},\n",
       "      'serie': {'2022': '35'}}]},\n",
       "   {'classificacoes': [{'id': '2',\n",
       "      'nome': 'Sexo',\n",
       "      'categoria': {'4': 'Homens'}},\n",
       "     {'id': '287', 'nome': 'Idade', 'categoria': {'6653': '100 anos ou mais'}},\n",
       "     {'id': '86', 'nome': 'Cor ou raça', 'categoria': {'95251': 'Total'}}],\n",
       "    'series': [{'localidade': {'id': '3302403',\n",
       "       'nivel': {'id': 'N6', 'nome': 'Município'},\n",
       "       'nome': 'Macaé (RJ)'},\n",
       "      'serie': {'2022': '7'}}]},\n",
       "   {'classificacoes': [{'id': '2',\n",
       "      'nome': 'Sexo',\n",
       "      'categoria': {'5': 'Mulheres'}},\n",
       "     {'id': '287', 'nome': 'Idade', 'categoria': {'93070': '0 a 4 anos'}},\n",
       "     {'id': '86', 'nome': 'Cor ou raça', 'categoria': {'95251': 'Total'}}],\n",
       "    'series': [{'localidade': {'id': '3302403',\n",
       "       'nivel': {'id': 'N6', 'nome': 'Município'},\n",
       "       'nome': 'Macaé (RJ)'},\n",
       "      'serie': {'2022': '7925'}}]},\n",
       "   {'classificacoes': [{'id': '2',\n",
       "      'nome': 'Sexo',\n",
       "      'categoria': {'5': 'Mulheres'}},\n",
       "     {'id': '287', 'nome': 'Idade', 'categoria': {'93084': '5 a 9 anos'}},\n",
       "     {'id': '86', 'nome': 'Cor ou raça', 'categoria': {'95251': 'Total'}}],\n",
       "    'series': [{'localidade': {'id': '3302403',\n",
       "       'nivel': {'id': 'N6', 'nome': 'Município'},\n",
       "       'nome': 'Macaé (RJ)'},\n",
       "      'serie': {'2022': '9139'}}]},\n",
       "   {'classificacoes': [{'id': '2',\n",
       "      'nome': 'Sexo',\n",
       "      'categoria': {'5': 'Mulheres'}},\n",
       "     {'id': '287', 'nome': 'Idade', 'categoria': {'93085': '10 a 14 anos'}},\n",
       "     {'id': '86', 'nome': 'Cor ou raça', 'categoria': {'95251': 'Total'}}],\n",
       "    'series': [{'localidade': {'id': '3302403',\n",
       "       'nivel': {'id': 'N6', 'nome': 'Município'},\n",
       "       'nome': 'Macaé (RJ)'},\n",
       "      'serie': {'2022': '8398'}}]},\n",
       "   {'classificacoes': [{'id': '2',\n",
       "      'nome': 'Sexo',\n",
       "      'categoria': {'5': 'Mulheres'}},\n",
       "     {'id': '287', 'nome': 'Idade', 'categoria': {'93086': '15 a 19 anos'}},\n",
       "     {'id': '86', 'nome': 'Cor ou raça', 'categoria': {'95251': 'Total'}}],\n",
       "    'series': [{'localidade': {'id': '3302403',\n",
       "       'nivel': {'id': 'N6', 'nome': 'Município'},\n",
       "       'nome': 'Macaé (RJ)'},\n",
       "      'serie': {'2022': '8182'}}]},\n",
       "   {'classificacoes': [{'id': '2',\n",
       "      'nome': 'Sexo',\n",
       "      'categoria': {'5': 'Mulheres'}},\n",
       "     {'id': '287', 'nome': 'Idade', 'categoria': {'93087': '20 a 24 anos'}},\n",
       "     {'id': '86', 'nome': 'Cor ou raça', 'categoria': {'95251': 'Total'}}],\n",
       "    'series': [{'localidade': {'id': '3302403',\n",
       "       'nivel': {'id': 'N6', 'nome': 'Município'},\n",
       "       'nome': 'Macaé (RJ)'},\n",
       "      'serie': {'2022': '9156'}}]},\n",
       "   {'classificacoes': [{'id': '2',\n",
       "      'nome': 'Sexo',\n",
       "      'categoria': {'5': 'Mulheres'}},\n",
       "     {'id': '287', 'nome': 'Idade', 'categoria': {'93088': '25 a 29 anos'}},\n",
       "     {'id': '86', 'nome': 'Cor ou raça', 'categoria': {'95251': 'Total'}}],\n",
       "    'series': [{'localidade': {'id': '3302403',\n",
       "       'nivel': {'id': 'N6', 'nome': 'Município'},\n",
       "       'nome': 'Macaé (RJ)'},\n",
       "      'serie': {'2022': '9896'}}]},\n",
       "   {'classificacoes': [{'id': '2',\n",
       "      'nome': 'Sexo',\n",
       "      'categoria': {'5': 'Mulheres'}},\n",
       "     {'id': '287', 'nome': 'Idade', 'categoria': {'93089': '30 a 34 anos'}},\n",
       "     {'id': '86', 'nome': 'Cor ou raça', 'categoria': {'95251': 'Total'}}],\n",
       "    'series': [{'localidade': {'id': '3302403',\n",
       "       'nivel': {'id': 'N6', 'nome': 'Município'},\n",
       "       'nome': 'Macaé (RJ)'},\n",
       "      'serie': {'2022': '10723'}}]},\n",
       "   {'classificacoes': [{'id': '2',\n",
       "      'nome': 'Sexo',\n",
       "      'categoria': {'5': 'Mulheres'}},\n",
       "     {'id': '287', 'nome': 'Idade', 'categoria': {'93090': '35 a 39 anos'}},\n",
       "     {'id': '86', 'nome': 'Cor ou raça', 'categoria': {'95251': 'Total'}}],\n",
       "    'series': [{'localidade': {'id': '3302403',\n",
       "       'nivel': {'id': 'N6', 'nome': 'Município'},\n",
       "       'nome': 'Macaé (RJ)'},\n",
       "      'serie': {'2022': '11714'}}]},\n",
       "   {'classificacoes': [{'id': '2',\n",
       "      'nome': 'Sexo',\n",
       "      'categoria': {'5': 'Mulheres'}},\n",
       "     {'id': '287', 'nome': 'Idade', 'categoria': {'93091': '40 a 44 anos'}},\n",
       "     {'id': '86', 'nome': 'Cor ou raça', 'categoria': {'95251': 'Total'}}],\n",
       "    'series': [{'localidade': {'id': '3302403',\n",
       "       'nivel': {'id': 'N6', 'nome': 'Município'},\n",
       "       'nome': 'Macaé (RJ)'},\n",
       "      'serie': {'2022': '11198'}}]},\n",
       "   {'classificacoes': [{'id': '2',\n",
       "      'nome': 'Sexo',\n",
       "      'categoria': {'5': 'Mulheres'}},\n",
       "     {'id': '287', 'nome': 'Idade', 'categoria': {'93092': '45 a 49 anos'}},\n",
       "     {'id': '86', 'nome': 'Cor ou raça', 'categoria': {'95251': 'Total'}}],\n",
       "    'series': [{'localidade': {'id': '3302403',\n",
       "       'nivel': {'id': 'N6', 'nome': 'Município'},\n",
       "       'nome': 'Macaé (RJ)'},\n",
       "      'serie': {'2022': '8671'}}]},\n",
       "   {'classificacoes': [{'id': '2',\n",
       "      'nome': 'Sexo',\n",
       "      'categoria': {'5': 'Mulheres'}},\n",
       "     {'id': '287', 'nome': 'Idade', 'categoria': {'93093': '50 a 54 anos'}},\n",
       "     {'id': '86', 'nome': 'Cor ou raça', 'categoria': {'95251': 'Total'}}],\n",
       "    'series': [{'localidade': {'id': '3302403',\n",
       "       'nivel': {'id': 'N6', 'nome': 'Município'},\n",
       "       'nome': 'Macaé (RJ)'},\n",
       "      'serie': {'2022': '7397'}}]},\n",
       "   {'classificacoes': [{'id': '2',\n",
       "      'nome': 'Sexo',\n",
       "      'categoria': {'5': 'Mulheres'}},\n",
       "     {'id': '287', 'nome': 'Idade', 'categoria': {'93094': '55 a 59 anos'}},\n",
       "     {'id': '86', 'nome': 'Cor ou raça', 'categoria': {'95251': 'Total'}}],\n",
       "    'series': [{'localidade': {'id': '3302403',\n",
       "       'nivel': {'id': 'N6', 'nome': 'Município'},\n",
       "       'nome': 'Macaé (RJ)'},\n",
       "      'serie': {'2022': '6944'}}]},\n",
       "   {'classificacoes': [{'id': '2',\n",
       "      'nome': 'Sexo',\n",
       "      'categoria': {'5': 'Mulheres'}},\n",
       "     {'id': '287', 'nome': 'Idade', 'categoria': {'93095': '60 a 64 anos'}},\n",
       "     {'id': '86', 'nome': 'Cor ou raça', 'categoria': {'95251': 'Total'}}],\n",
       "    'series': [{'localidade': {'id': '3302403',\n",
       "       'nivel': {'id': 'N6', 'nome': 'Município'},\n",
       "       'nome': 'Macaé (RJ)'},\n",
       "      'serie': {'2022': '6026'}}]},\n",
       "   {'classificacoes': [{'id': '2',\n",
       "      'nome': 'Sexo',\n",
       "      'categoria': {'5': 'Mulheres'}},\n",
       "     {'id': '287', 'nome': 'Idade', 'categoria': {'93096': '65 a 69 anos'}},\n",
       "     {'id': '86', 'nome': 'Cor ou raça', 'categoria': {'95251': 'Total'}}],\n",
       "    'series': [{'localidade': {'id': '3302403',\n",
       "       'nivel': {'id': 'N6', 'nome': 'Município'},\n",
       "       'nome': 'Macaé (RJ)'},\n",
       "      'serie': {'2022': '4451'}}]},\n",
       "   {'classificacoes': [{'id': '2',\n",
       "      'nome': 'Sexo',\n",
       "      'categoria': {'5': 'Mulheres'}},\n",
       "     {'id': '287', 'nome': 'Idade', 'categoria': {'93097': '70 a 74 anos'}},\n",
       "     {'id': '86', 'nome': 'Cor ou raça', 'categoria': {'95251': 'Total'}}],\n",
       "    'series': [{'localidade': {'id': '3302403',\n",
       "       'nivel': {'id': 'N6', 'nome': 'Município'},\n",
       "       'nome': 'Macaé (RJ)'},\n",
       "      'serie': {'2022': '3036'}}]},\n",
       "   {'classificacoes': [{'id': '2',\n",
       "      'nome': 'Sexo',\n",
       "      'categoria': {'5': 'Mulheres'}},\n",
       "     {'id': '287', 'nome': 'Idade', 'categoria': {'93098': '75 a 79 anos'}},\n",
       "     {'id': '86', 'nome': 'Cor ou raça', 'categoria': {'95251': 'Total'}}],\n",
       "    'series': [{'localidade': {'id': '3302403',\n",
       "       'nivel': {'id': 'N6', 'nome': 'Município'},\n",
       "       'nome': 'Macaé (RJ)'},\n",
       "      'serie': {'2022': '1953'}}]},\n",
       "   {'classificacoes': [{'id': '2',\n",
       "      'nome': 'Sexo',\n",
       "      'categoria': {'5': 'Mulheres'}},\n",
       "     {'id': '287', 'nome': 'Idade', 'categoria': {'49108': '80 a 84 anos'}},\n",
       "     {'id': '86', 'nome': 'Cor ou raça', 'categoria': {'95251': 'Total'}}],\n",
       "    'series': [{'localidade': {'id': '3302403',\n",
       "       'nivel': {'id': 'N6', 'nome': 'Município'},\n",
       "       'nome': 'Macaé (RJ)'},\n",
       "      'serie': {'2022': '1258'}}]},\n",
       "   {'classificacoes': [{'id': '2',\n",
       "      'nome': 'Sexo',\n",
       "      'categoria': {'5': 'Mulheres'}},\n",
       "     {'id': '287', 'nome': 'Idade', 'categoria': {'49109': '85 a 89 anos'}},\n",
       "     {'id': '86', 'nome': 'Cor ou raça', 'categoria': {'95251': 'Total'}}],\n",
       "    'series': [{'localidade': {'id': '3302403',\n",
       "       'nivel': {'id': 'N6', 'nome': 'Município'},\n",
       "       'nome': 'Macaé (RJ)'},\n",
       "      'serie': {'2022': '757'}}]},\n",
       "   {'classificacoes': [{'id': '2',\n",
       "      'nome': 'Sexo',\n",
       "      'categoria': {'5': 'Mulheres'}},\n",
       "     {'id': '287', 'nome': 'Idade', 'categoria': {'60040': '90 a 94 anos'}},\n",
       "     {'id': '86', 'nome': 'Cor ou raça', 'categoria': {'95251': 'Total'}}],\n",
       "    'series': [{'localidade': {'id': '3302403',\n",
       "       'nivel': {'id': 'N6', 'nome': 'Município'},\n",
       "       'nome': 'Macaé (RJ)'},\n",
       "      'serie': {'2022': '328'}}]},\n",
       "   {'classificacoes': [{'id': '2',\n",
       "      'nome': 'Sexo',\n",
       "      'categoria': {'5': 'Mulheres'}},\n",
       "     {'id': '287', 'nome': 'Idade', 'categoria': {'60041': '95 a 99 anos'}},\n",
       "     {'id': '86', 'nome': 'Cor ou raça', 'categoria': {'95251': 'Total'}}],\n",
       "    'series': [{'localidade': {'id': '3302403',\n",
       "       'nivel': {'id': 'N6', 'nome': 'Município'},\n",
       "       'nome': 'Macaé (RJ)'},\n",
       "      'serie': {'2022': '98'}}]},\n",
       "   {'classificacoes': [{'id': '2',\n",
       "      'nome': 'Sexo',\n",
       "      'categoria': {'5': 'Mulheres'}},\n",
       "     {'id': '287', 'nome': 'Idade', 'categoria': {'6653': '100 anos ou mais'}},\n",
       "     {'id': '86', 'nome': 'Cor ou raça', 'categoria': {'95251': 'Total'}}],\n",
       "    'series': [{'localidade': {'id': '3302403',\n",
       "       'nivel': {'id': 'N6', 'nome': 'Município'},\n",
       "       'nome': 'Macaé (RJ)'},\n",
       "      'serie': {'2022': '18'}}]}]}]"
      ]
     },
     "execution_count": 47,
     "metadata": {},
     "output_type": "execute_result"
    }
   ],
   "source": [
    "data = requests.get(\"https://servicodados.ibge.gov.br/api/v3/agregados/9606/periodos/2022/variaveis/93?localidades=N6[3302403]&classificacao=2[4,5]|287[93070,93084,93085,93086,93087,93088,93089,93090,93091,93092,93093,93094,93095,93096,93097,93098,49108,49109,60040,60041,6653]\")\n",
    "data_json = data.json()\n",
    "\n",
    "data_json"
   ]
  },
  {
   "cell_type": "code",
   "execution_count": 48,
   "metadata": {},
   "outputs": [
    {
     "data": {
      "text/html": [
       "<div>\n",
       "<style scoped>\n",
       "    .dataframe tbody tr th:only-of-type {\n",
       "        vertical-align: middle;\n",
       "    }\n",
       "\n",
       "    .dataframe tbody tr th {\n",
       "        vertical-align: top;\n",
       "    }\n",
       "\n",
       "    .dataframe thead th {\n",
       "        text-align: right;\n",
       "    }\n",
       "</style>\n",
       "<table border=\"1\" class=\"dataframe\">\n",
       "  <thead>\n",
       "    <tr style=\"text-align: right;\">\n",
       "      <th></th>\n",
       "      <th>Sexo</th>\n",
       "      <th>Idade</th>\n",
       "      <th>Quantidade</th>\n",
       "    </tr>\n",
       "  </thead>\n",
       "  <tbody>\n",
       "    <tr>\n",
       "      <th>0</th>\n",
       "      <td>Homens</td>\n",
       "      <td>0 a 4 anos</td>\n",
       "      <td>8326</td>\n",
       "    </tr>\n",
       "    <tr>\n",
       "      <th>1</th>\n",
       "      <td>Homens</td>\n",
       "      <td>5 a 9 anos</td>\n",
       "      <td>9514</td>\n",
       "    </tr>\n",
       "    <tr>\n",
       "      <th>2</th>\n",
       "      <td>Homens</td>\n",
       "      <td>10 a 14 anos</td>\n",
       "      <td>8653</td>\n",
       "    </tr>\n",
       "    <tr>\n",
       "      <th>3</th>\n",
       "      <td>Homens</td>\n",
       "      <td>15 a 19 anos</td>\n",
       "      <td>8345</td>\n",
       "    </tr>\n",
       "    <tr>\n",
       "      <th>4</th>\n",
       "      <td>Homens</td>\n",
       "      <td>20 a 24 anos</td>\n",
       "      <td>8361</td>\n",
       "    </tr>\n",
       "    <tr>\n",
       "      <th>5</th>\n",
       "      <td>Homens</td>\n",
       "      <td>25 a 29 anos</td>\n",
       "      <td>8975</td>\n",
       "    </tr>\n",
       "    <tr>\n",
       "      <th>6</th>\n",
       "      <td>Homens</td>\n",
       "      <td>30 a 34 anos</td>\n",
       "      <td>9505</td>\n",
       "    </tr>\n",
       "    <tr>\n",
       "      <th>7</th>\n",
       "      <td>Homens</td>\n",
       "      <td>35 a 39 anos</td>\n",
       "      <td>11012</td>\n",
       "    </tr>\n",
       "    <tr>\n",
       "      <th>8</th>\n",
       "      <td>Homens</td>\n",
       "      <td>40 a 44 anos</td>\n",
       "      <td>10888</td>\n",
       "    </tr>\n",
       "    <tr>\n",
       "      <th>9</th>\n",
       "      <td>Homens</td>\n",
       "      <td>45 a 49 anos</td>\n",
       "      <td>8003</td>\n",
       "    </tr>\n",
       "    <tr>\n",
       "      <th>10</th>\n",
       "      <td>Homens</td>\n",
       "      <td>50 a 54 anos</td>\n",
       "      <td>6785</td>\n",
       "    </tr>\n",
       "    <tr>\n",
       "      <th>11</th>\n",
       "      <td>Homens</td>\n",
       "      <td>55 a 59 anos</td>\n",
       "      <td>6183</td>\n",
       "    </tr>\n",
       "    <tr>\n",
       "      <th>12</th>\n",
       "      <td>Homens</td>\n",
       "      <td>60 a 64 anos</td>\n",
       "      <td>5388</td>\n",
       "    </tr>\n",
       "    <tr>\n",
       "      <th>13</th>\n",
       "      <td>Homens</td>\n",
       "      <td>65 a 69 anos</td>\n",
       "      <td>3849</td>\n",
       "    </tr>\n",
       "    <tr>\n",
       "      <th>14</th>\n",
       "      <td>Homens</td>\n",
       "      <td>70 a 74 anos</td>\n",
       "      <td>2470</td>\n",
       "    </tr>\n",
       "    <tr>\n",
       "      <th>15</th>\n",
       "      <td>Homens</td>\n",
       "      <td>75 a 79 anos</td>\n",
       "      <td>1440</td>\n",
       "    </tr>\n",
       "    <tr>\n",
       "      <th>16</th>\n",
       "      <td>Homens</td>\n",
       "      <td>80 a 84 anos</td>\n",
       "      <td>838</td>\n",
       "    </tr>\n",
       "    <tr>\n",
       "      <th>17</th>\n",
       "      <td>Homens</td>\n",
       "      <td>85 a 89 anos</td>\n",
       "      <td>392</td>\n",
       "    </tr>\n",
       "    <tr>\n",
       "      <th>18</th>\n",
       "      <td>Homens</td>\n",
       "      <td>90 a 94 anos</td>\n",
       "      <td>154</td>\n",
       "    </tr>\n",
       "    <tr>\n",
       "      <th>19</th>\n",
       "      <td>Homens</td>\n",
       "      <td>95 a 99 anos</td>\n",
       "      <td>35</td>\n",
       "    </tr>\n",
       "    <tr>\n",
       "      <th>20</th>\n",
       "      <td>Homens</td>\n",
       "      <td>100 anos ou mais</td>\n",
       "      <td>7</td>\n",
       "    </tr>\n",
       "    <tr>\n",
       "      <th>21</th>\n",
       "      <td>Mulheres</td>\n",
       "      <td>0 a 4 anos</td>\n",
       "      <td>7925</td>\n",
       "    </tr>\n",
       "    <tr>\n",
       "      <th>22</th>\n",
       "      <td>Mulheres</td>\n",
       "      <td>5 a 9 anos</td>\n",
       "      <td>9139</td>\n",
       "    </tr>\n",
       "    <tr>\n",
       "      <th>23</th>\n",
       "      <td>Mulheres</td>\n",
       "      <td>10 a 14 anos</td>\n",
       "      <td>8398</td>\n",
       "    </tr>\n",
       "    <tr>\n",
       "      <th>24</th>\n",
       "      <td>Mulheres</td>\n",
       "      <td>15 a 19 anos</td>\n",
       "      <td>8182</td>\n",
       "    </tr>\n",
       "    <tr>\n",
       "      <th>25</th>\n",
       "      <td>Mulheres</td>\n",
       "      <td>20 a 24 anos</td>\n",
       "      <td>9156</td>\n",
       "    </tr>\n",
       "    <tr>\n",
       "      <th>26</th>\n",
       "      <td>Mulheres</td>\n",
       "      <td>25 a 29 anos</td>\n",
       "      <td>9896</td>\n",
       "    </tr>\n",
       "    <tr>\n",
       "      <th>27</th>\n",
       "      <td>Mulheres</td>\n",
       "      <td>30 a 34 anos</td>\n",
       "      <td>10723</td>\n",
       "    </tr>\n",
       "    <tr>\n",
       "      <th>28</th>\n",
       "      <td>Mulheres</td>\n",
       "      <td>35 a 39 anos</td>\n",
       "      <td>11714</td>\n",
       "    </tr>\n",
       "    <tr>\n",
       "      <th>29</th>\n",
       "      <td>Mulheres</td>\n",
       "      <td>40 a 44 anos</td>\n",
       "      <td>11198</td>\n",
       "    </tr>\n",
       "    <tr>\n",
       "      <th>30</th>\n",
       "      <td>Mulheres</td>\n",
       "      <td>45 a 49 anos</td>\n",
       "      <td>8671</td>\n",
       "    </tr>\n",
       "    <tr>\n",
       "      <th>31</th>\n",
       "      <td>Mulheres</td>\n",
       "      <td>50 a 54 anos</td>\n",
       "      <td>7397</td>\n",
       "    </tr>\n",
       "    <tr>\n",
       "      <th>32</th>\n",
       "      <td>Mulheres</td>\n",
       "      <td>55 a 59 anos</td>\n",
       "      <td>6944</td>\n",
       "    </tr>\n",
       "    <tr>\n",
       "      <th>33</th>\n",
       "      <td>Mulheres</td>\n",
       "      <td>60 a 64 anos</td>\n",
       "      <td>6026</td>\n",
       "    </tr>\n",
       "    <tr>\n",
       "      <th>34</th>\n",
       "      <td>Mulheres</td>\n",
       "      <td>65 a 69 anos</td>\n",
       "      <td>4451</td>\n",
       "    </tr>\n",
       "    <tr>\n",
       "      <th>35</th>\n",
       "      <td>Mulheres</td>\n",
       "      <td>70 a 74 anos</td>\n",
       "      <td>3036</td>\n",
       "    </tr>\n",
       "    <tr>\n",
       "      <th>36</th>\n",
       "      <td>Mulheres</td>\n",
       "      <td>75 a 79 anos</td>\n",
       "      <td>1953</td>\n",
       "    </tr>\n",
       "    <tr>\n",
       "      <th>37</th>\n",
       "      <td>Mulheres</td>\n",
       "      <td>80 a 84 anos</td>\n",
       "      <td>1258</td>\n",
       "    </tr>\n",
       "    <tr>\n",
       "      <th>38</th>\n",
       "      <td>Mulheres</td>\n",
       "      <td>85 a 89 anos</td>\n",
       "      <td>757</td>\n",
       "    </tr>\n",
       "    <tr>\n",
       "      <th>39</th>\n",
       "      <td>Mulheres</td>\n",
       "      <td>90 a 94 anos</td>\n",
       "      <td>328</td>\n",
       "    </tr>\n",
       "    <tr>\n",
       "      <th>40</th>\n",
       "      <td>Mulheres</td>\n",
       "      <td>95 a 99 anos</td>\n",
       "      <td>98</td>\n",
       "    </tr>\n",
       "    <tr>\n",
       "      <th>41</th>\n",
       "      <td>Mulheres</td>\n",
       "      <td>100 anos ou mais</td>\n",
       "      <td>18</td>\n",
       "    </tr>\n",
       "  </tbody>\n",
       "</table>\n",
       "</div>"
      ],
      "text/plain": [
       "        Sexo             Idade  Quantidade\n",
       "0     Homens        0 a 4 anos        8326\n",
       "1     Homens        5 a 9 anos        9514\n",
       "2     Homens      10 a 14 anos        8653\n",
       "3     Homens      15 a 19 anos        8345\n",
       "4     Homens      20 a 24 anos        8361\n",
       "5     Homens      25 a 29 anos        8975\n",
       "6     Homens      30 a 34 anos        9505\n",
       "7     Homens      35 a 39 anos       11012\n",
       "8     Homens      40 a 44 anos       10888\n",
       "9     Homens      45 a 49 anos        8003\n",
       "10    Homens      50 a 54 anos        6785\n",
       "11    Homens      55 a 59 anos        6183\n",
       "12    Homens      60 a 64 anos        5388\n",
       "13    Homens      65 a 69 anos        3849\n",
       "14    Homens      70 a 74 anos        2470\n",
       "15    Homens      75 a 79 anos        1440\n",
       "16    Homens      80 a 84 anos         838\n",
       "17    Homens      85 a 89 anos         392\n",
       "18    Homens      90 a 94 anos         154\n",
       "19    Homens      95 a 99 anos          35\n",
       "20    Homens  100 anos ou mais           7\n",
       "21  Mulheres        0 a 4 anos        7925\n",
       "22  Mulheres        5 a 9 anos        9139\n",
       "23  Mulheres      10 a 14 anos        8398\n",
       "24  Mulheres      15 a 19 anos        8182\n",
       "25  Mulheres      20 a 24 anos        9156\n",
       "26  Mulheres      25 a 29 anos        9896\n",
       "27  Mulheres      30 a 34 anos       10723\n",
       "28  Mulheres      35 a 39 anos       11714\n",
       "29  Mulheres      40 a 44 anos       11198\n",
       "30  Mulheres      45 a 49 anos        8671\n",
       "31  Mulheres      50 a 54 anos        7397\n",
       "32  Mulheres      55 a 59 anos        6944\n",
       "33  Mulheres      60 a 64 anos        6026\n",
       "34  Mulheres      65 a 69 anos        4451\n",
       "35  Mulheres      70 a 74 anos        3036\n",
       "36  Mulheres      75 a 79 anos        1953\n",
       "37  Mulheres      80 a 84 anos        1258\n",
       "38  Mulheres      85 a 89 anos         757\n",
       "39  Mulheres      90 a 94 anos         328\n",
       "40  Mulheres      95 a 99 anos          98\n",
       "41  Mulheres  100 anos ou mais          18"
      ]
     },
     "execution_count": 48,
     "metadata": {},
     "output_type": "execute_result"
    }
   ],
   "source": [
    "rows = []\n",
    "for resultado in data_json[0][\"resultados\"]:\n",
    "    sexo = list(resultado['classificacoes'][0]['categoria'].values())[0]\n",
    "    idade = list(resultado['classificacoes'][1]['categoria'].values())[0]\n",
    "    quantidade = int(list(resultado['series'][0]['serie'].values())[0])\n",
    "    rows.append([sexo, idade, quantidade])\n",
    "\n",
    "\n",
    "df_dist_idade_sexo = pd.DataFrame(rows, columns=['Sexo', 'Idade', 'Quantidade'])\n",
    "\n",
    "df_dist_idade_sexo"
   ]
  },
  {
   "cell_type": "code",
   "execution_count": 49,
   "metadata": {},
   "outputs": [
    {
     "data": {
      "application/vnd.plotly.v1+json": {
       "config": {
        "plotlyServerURL": "https://plot.ly"
       },
       "data": [
        {
         "marker": {
          "color": "blue"
         },
         "name": "Male",
         "orientation": "h",
         "type": "bar",
         "x": [
          8326,
          9514,
          8653,
          8345,
          8361,
          8975,
          9505,
          11012,
          10888,
          8003,
          6785,
          6183,
          5388,
          3849,
          2470,
          1440,
          838,
          392,
          154,
          35,
          7
         ],
         "y": [
          "0 a 4 anos",
          "5 a 9 anos",
          "10 a 14 anos",
          "15 a 19 anos",
          "20 a 24 anos",
          "25 a 29 anos",
          "30 a 34 anos",
          "35 a 39 anos",
          "40 a 44 anos",
          "45 a 49 anos",
          "50 a 54 anos",
          "55 a 59 anos",
          "60 a 64 anos",
          "65 a 69 anos",
          "70 a 74 anos",
          "75 a 79 anos",
          "80 a 84 anos",
          "85 a 89 anos",
          "90 a 94 anos",
          "95 a 99 anos",
          "100 anos ou mais",
          "0 a 4 anos",
          "5 a 9 anos",
          "10 a 14 anos",
          "15 a 19 anos",
          "20 a 24 anos",
          "25 a 29 anos",
          "30 a 34 anos",
          "35 a 39 anos",
          "40 a 44 anos",
          "45 a 49 anos",
          "50 a 54 anos",
          "55 a 59 anos",
          "60 a 64 anos",
          "65 a 69 anos",
          "70 a 74 anos",
          "75 a 79 anos",
          "80 a 84 anos",
          "85 a 89 anos",
          "90 a 94 anos",
          "95 a 99 anos",
          "100 anos ou mais"
         ]
        },
        {
         "marker": {
          "color": "pink"
         },
         "name": "Female",
         "orientation": "h",
         "type": "bar",
         "x": [
          -7925,
          -9139,
          -8398,
          -8182,
          -9156,
          -9896,
          -10723,
          -11714,
          -11198,
          -8671,
          -7397,
          -6944,
          -6026,
          -4451,
          -3036,
          -1953,
          -1258,
          -757,
          -328,
          -98,
          -18
         ],
         "y": [
          "0 a 4 anos",
          "5 a 9 anos",
          "10 a 14 anos",
          "15 a 19 anos",
          "20 a 24 anos",
          "25 a 29 anos",
          "30 a 34 anos",
          "35 a 39 anos",
          "40 a 44 anos",
          "45 a 49 anos",
          "50 a 54 anos",
          "55 a 59 anos",
          "60 a 64 anos",
          "65 a 69 anos",
          "70 a 74 anos",
          "75 a 79 anos",
          "80 a 84 anos",
          "85 a 89 anos",
          "90 a 94 anos",
          "95 a 99 anos",
          "100 anos ou mais",
          "0 a 4 anos",
          "5 a 9 anos",
          "10 a 14 anos",
          "15 a 19 anos",
          "20 a 24 anos",
          "25 a 29 anos",
          "30 a 34 anos",
          "35 a 39 anos",
          "40 a 44 anos",
          "45 a 49 anos",
          "50 a 54 anos",
          "55 a 59 anos",
          "60 a 64 anos",
          "65 a 69 anos",
          "70 a 74 anos",
          "75 a 79 anos",
          "80 a 84 anos",
          "85 a 89 anos",
          "90 a 94 anos",
          "95 a 99 anos",
          "100 anos ou mais"
         ]
        }
       ],
       "layout": {
        "barmode": "overlay",
        "template": {
         "data": {
          "bar": [
           {
            "error_x": {
             "color": "#2a3f5f"
            },
            "error_y": {
             "color": "#2a3f5f"
            },
            "marker": {
             "line": {
              "color": "#E5ECF6",
              "width": 0.5
             },
             "pattern": {
              "fillmode": "overlay",
              "size": 10,
              "solidity": 0.2
             }
            },
            "type": "bar"
           }
          ],
          "barpolar": [
           {
            "marker": {
             "line": {
              "color": "#E5ECF6",
              "width": 0.5
             },
             "pattern": {
              "fillmode": "overlay",
              "size": 10,
              "solidity": 0.2
             }
            },
            "type": "barpolar"
           }
          ],
          "carpet": [
           {
            "aaxis": {
             "endlinecolor": "#2a3f5f",
             "gridcolor": "white",
             "linecolor": "white",
             "minorgridcolor": "white",
             "startlinecolor": "#2a3f5f"
            },
            "baxis": {
             "endlinecolor": "#2a3f5f",
             "gridcolor": "white",
             "linecolor": "white",
             "minorgridcolor": "white",
             "startlinecolor": "#2a3f5f"
            },
            "type": "carpet"
           }
          ],
          "choropleth": [
           {
            "colorbar": {
             "outlinewidth": 0,
             "ticks": ""
            },
            "type": "choropleth"
           }
          ],
          "contour": [
           {
            "colorbar": {
             "outlinewidth": 0,
             "ticks": ""
            },
            "colorscale": [
             [
              0,
              "#0d0887"
             ],
             [
              0.1111111111111111,
              "#46039f"
             ],
             [
              0.2222222222222222,
              "#7201a8"
             ],
             [
              0.3333333333333333,
              "#9c179e"
             ],
             [
              0.4444444444444444,
              "#bd3786"
             ],
             [
              0.5555555555555556,
              "#d8576b"
             ],
             [
              0.6666666666666666,
              "#ed7953"
             ],
             [
              0.7777777777777778,
              "#fb9f3a"
             ],
             [
              0.8888888888888888,
              "#fdca26"
             ],
             [
              1,
              "#f0f921"
             ]
            ],
            "type": "contour"
           }
          ],
          "contourcarpet": [
           {
            "colorbar": {
             "outlinewidth": 0,
             "ticks": ""
            },
            "type": "contourcarpet"
           }
          ],
          "heatmap": [
           {
            "colorbar": {
             "outlinewidth": 0,
             "ticks": ""
            },
            "colorscale": [
             [
              0,
              "#0d0887"
             ],
             [
              0.1111111111111111,
              "#46039f"
             ],
             [
              0.2222222222222222,
              "#7201a8"
             ],
             [
              0.3333333333333333,
              "#9c179e"
             ],
             [
              0.4444444444444444,
              "#bd3786"
             ],
             [
              0.5555555555555556,
              "#d8576b"
             ],
             [
              0.6666666666666666,
              "#ed7953"
             ],
             [
              0.7777777777777778,
              "#fb9f3a"
             ],
             [
              0.8888888888888888,
              "#fdca26"
             ],
             [
              1,
              "#f0f921"
             ]
            ],
            "type": "heatmap"
           }
          ],
          "heatmapgl": [
           {
            "colorbar": {
             "outlinewidth": 0,
             "ticks": ""
            },
            "colorscale": [
             [
              0,
              "#0d0887"
             ],
             [
              0.1111111111111111,
              "#46039f"
             ],
             [
              0.2222222222222222,
              "#7201a8"
             ],
             [
              0.3333333333333333,
              "#9c179e"
             ],
             [
              0.4444444444444444,
              "#bd3786"
             ],
             [
              0.5555555555555556,
              "#d8576b"
             ],
             [
              0.6666666666666666,
              "#ed7953"
             ],
             [
              0.7777777777777778,
              "#fb9f3a"
             ],
             [
              0.8888888888888888,
              "#fdca26"
             ],
             [
              1,
              "#f0f921"
             ]
            ],
            "type": "heatmapgl"
           }
          ],
          "histogram": [
           {
            "marker": {
             "pattern": {
              "fillmode": "overlay",
              "size": 10,
              "solidity": 0.2
             }
            },
            "type": "histogram"
           }
          ],
          "histogram2d": [
           {
            "colorbar": {
             "outlinewidth": 0,
             "ticks": ""
            },
            "colorscale": [
             [
              0,
              "#0d0887"
             ],
             [
              0.1111111111111111,
              "#46039f"
             ],
             [
              0.2222222222222222,
              "#7201a8"
             ],
             [
              0.3333333333333333,
              "#9c179e"
             ],
             [
              0.4444444444444444,
              "#bd3786"
             ],
             [
              0.5555555555555556,
              "#d8576b"
             ],
             [
              0.6666666666666666,
              "#ed7953"
             ],
             [
              0.7777777777777778,
              "#fb9f3a"
             ],
             [
              0.8888888888888888,
              "#fdca26"
             ],
             [
              1,
              "#f0f921"
             ]
            ],
            "type": "histogram2d"
           }
          ],
          "histogram2dcontour": [
           {
            "colorbar": {
             "outlinewidth": 0,
             "ticks": ""
            },
            "colorscale": [
             [
              0,
              "#0d0887"
             ],
             [
              0.1111111111111111,
              "#46039f"
             ],
             [
              0.2222222222222222,
              "#7201a8"
             ],
             [
              0.3333333333333333,
              "#9c179e"
             ],
             [
              0.4444444444444444,
              "#bd3786"
             ],
             [
              0.5555555555555556,
              "#d8576b"
             ],
             [
              0.6666666666666666,
              "#ed7953"
             ],
             [
              0.7777777777777778,
              "#fb9f3a"
             ],
             [
              0.8888888888888888,
              "#fdca26"
             ],
             [
              1,
              "#f0f921"
             ]
            ],
            "type": "histogram2dcontour"
           }
          ],
          "mesh3d": [
           {
            "colorbar": {
             "outlinewidth": 0,
             "ticks": ""
            },
            "type": "mesh3d"
           }
          ],
          "parcoords": [
           {
            "line": {
             "colorbar": {
              "outlinewidth": 0,
              "ticks": ""
             }
            },
            "type": "parcoords"
           }
          ],
          "pie": [
           {
            "automargin": true,
            "type": "pie"
           }
          ],
          "scatter": [
           {
            "fillpattern": {
             "fillmode": "overlay",
             "size": 10,
             "solidity": 0.2
            },
            "type": "scatter"
           }
          ],
          "scatter3d": [
           {
            "line": {
             "colorbar": {
              "outlinewidth": 0,
              "ticks": ""
             }
            },
            "marker": {
             "colorbar": {
              "outlinewidth": 0,
              "ticks": ""
             }
            },
            "type": "scatter3d"
           }
          ],
          "scattercarpet": [
           {
            "marker": {
             "colorbar": {
              "outlinewidth": 0,
              "ticks": ""
             }
            },
            "type": "scattercarpet"
           }
          ],
          "scattergeo": [
           {
            "marker": {
             "colorbar": {
              "outlinewidth": 0,
              "ticks": ""
             }
            },
            "type": "scattergeo"
           }
          ],
          "scattergl": [
           {
            "marker": {
             "colorbar": {
              "outlinewidth": 0,
              "ticks": ""
             }
            },
            "type": "scattergl"
           }
          ],
          "scattermapbox": [
           {
            "marker": {
             "colorbar": {
              "outlinewidth": 0,
              "ticks": ""
             }
            },
            "type": "scattermapbox"
           }
          ],
          "scatterpolar": [
           {
            "marker": {
             "colorbar": {
              "outlinewidth": 0,
              "ticks": ""
             }
            },
            "type": "scatterpolar"
           }
          ],
          "scatterpolargl": [
           {
            "marker": {
             "colorbar": {
              "outlinewidth": 0,
              "ticks": ""
             }
            },
            "type": "scatterpolargl"
           }
          ],
          "scatterternary": [
           {
            "marker": {
             "colorbar": {
              "outlinewidth": 0,
              "ticks": ""
             }
            },
            "type": "scatterternary"
           }
          ],
          "surface": [
           {
            "colorbar": {
             "outlinewidth": 0,
             "ticks": ""
            },
            "colorscale": [
             [
              0,
              "#0d0887"
             ],
             [
              0.1111111111111111,
              "#46039f"
             ],
             [
              0.2222222222222222,
              "#7201a8"
             ],
             [
              0.3333333333333333,
              "#9c179e"
             ],
             [
              0.4444444444444444,
              "#bd3786"
             ],
             [
              0.5555555555555556,
              "#d8576b"
             ],
             [
              0.6666666666666666,
              "#ed7953"
             ],
             [
              0.7777777777777778,
              "#fb9f3a"
             ],
             [
              0.8888888888888888,
              "#fdca26"
             ],
             [
              1,
              "#f0f921"
             ]
            ],
            "type": "surface"
           }
          ],
          "table": [
           {
            "cells": {
             "fill": {
              "color": "#EBF0F8"
             },
             "line": {
              "color": "white"
             }
            },
            "header": {
             "fill": {
              "color": "#C8D4E3"
             },
             "line": {
              "color": "white"
             }
            },
            "type": "table"
           }
          ]
         },
         "layout": {
          "annotationdefaults": {
           "arrowcolor": "#2a3f5f",
           "arrowhead": 0,
           "arrowwidth": 1
          },
          "autotypenumbers": "strict",
          "coloraxis": {
           "colorbar": {
            "outlinewidth": 0,
            "ticks": ""
           }
          },
          "colorscale": {
           "diverging": [
            [
             0,
             "#8e0152"
            ],
            [
             0.1,
             "#c51b7d"
            ],
            [
             0.2,
             "#de77ae"
            ],
            [
             0.3,
             "#f1b6da"
            ],
            [
             0.4,
             "#fde0ef"
            ],
            [
             0.5,
             "#f7f7f7"
            ],
            [
             0.6,
             "#e6f5d0"
            ],
            [
             0.7,
             "#b8e186"
            ],
            [
             0.8,
             "#7fbc41"
            ],
            [
             0.9,
             "#4d9221"
            ],
            [
             1,
             "#276419"
            ]
           ],
           "sequential": [
            [
             0,
             "#0d0887"
            ],
            [
             0.1111111111111111,
             "#46039f"
            ],
            [
             0.2222222222222222,
             "#7201a8"
            ],
            [
             0.3333333333333333,
             "#9c179e"
            ],
            [
             0.4444444444444444,
             "#bd3786"
            ],
            [
             0.5555555555555556,
             "#d8576b"
            ],
            [
             0.6666666666666666,
             "#ed7953"
            ],
            [
             0.7777777777777778,
             "#fb9f3a"
            ],
            [
             0.8888888888888888,
             "#fdca26"
            ],
            [
             1,
             "#f0f921"
            ]
           ],
           "sequentialminus": [
            [
             0,
             "#0d0887"
            ],
            [
             0.1111111111111111,
             "#46039f"
            ],
            [
             0.2222222222222222,
             "#7201a8"
            ],
            [
             0.3333333333333333,
             "#9c179e"
            ],
            [
             0.4444444444444444,
             "#bd3786"
            ],
            [
             0.5555555555555556,
             "#d8576b"
            ],
            [
             0.6666666666666666,
             "#ed7953"
            ],
            [
             0.7777777777777778,
             "#fb9f3a"
            ],
            [
             0.8888888888888888,
             "#fdca26"
            ],
            [
             1,
             "#f0f921"
            ]
           ]
          },
          "colorway": [
           "#636efa",
           "#EF553B",
           "#00cc96",
           "#ab63fa",
           "#FFA15A",
           "#19d3f3",
           "#FF6692",
           "#B6E880",
           "#FF97FF",
           "#FECB52"
          ],
          "font": {
           "color": "#2a3f5f"
          },
          "geo": {
           "bgcolor": "white",
           "lakecolor": "white",
           "landcolor": "#E5ECF6",
           "showlakes": true,
           "showland": true,
           "subunitcolor": "white"
          },
          "hoverlabel": {
           "align": "left"
          },
          "hovermode": "closest",
          "mapbox": {
           "style": "light"
          },
          "paper_bgcolor": "white",
          "plot_bgcolor": "#E5ECF6",
          "polar": {
           "angularaxis": {
            "gridcolor": "white",
            "linecolor": "white",
            "ticks": ""
           },
           "bgcolor": "#E5ECF6",
           "radialaxis": {
            "gridcolor": "white",
            "linecolor": "white",
            "ticks": ""
           }
          },
          "scene": {
           "xaxis": {
            "backgroundcolor": "#E5ECF6",
            "gridcolor": "white",
            "gridwidth": 2,
            "linecolor": "white",
            "showbackground": true,
            "ticks": "",
            "zerolinecolor": "white"
           },
           "yaxis": {
            "backgroundcolor": "#E5ECF6",
            "gridcolor": "white",
            "gridwidth": 2,
            "linecolor": "white",
            "showbackground": true,
            "ticks": "",
            "zerolinecolor": "white"
           },
           "zaxis": {
            "backgroundcolor": "#E5ECF6",
            "gridcolor": "white",
            "gridwidth": 2,
            "linecolor": "white",
            "showbackground": true,
            "ticks": "",
            "zerolinecolor": "white"
           }
          },
          "shapedefaults": {
           "line": {
            "color": "#2a3f5f"
           }
          },
          "ternary": {
           "aaxis": {
            "gridcolor": "white",
            "linecolor": "white",
            "ticks": ""
           },
           "baxis": {
            "gridcolor": "white",
            "linecolor": "white",
            "ticks": ""
           },
           "bgcolor": "#E5ECF6",
           "caxis": {
            "gridcolor": "white",
            "linecolor": "white",
            "ticks": ""
           }
          },
          "title": {
           "x": 0.05
          },
          "xaxis": {
           "automargin": true,
           "gridcolor": "white",
           "linecolor": "white",
           "ticks": "",
           "title": {
            "standoff": 15
           },
           "zerolinecolor": "white",
           "zerolinewidth": 2
          },
          "yaxis": {
           "automargin": true,
           "gridcolor": "white",
           "linecolor": "white",
           "ticks": "",
           "title": {
            "standoff": 15
           },
           "zerolinecolor": "white",
           "zerolinewidth": 2
          }
         }
        },
        "title": {
         "text": "Age Pyramid"
        },
        "xaxis": {
         "range": [
          -12885.400000000001,
          12885.400000000001
         ],
         "title": {
          "text": "Population"
         }
        },
        "yaxis": {
         "title": {
          "text": "Age Group"
         }
        }
       }
      }
     },
     "metadata": {},
     "output_type": "display_data"
    }
   ],
   "source": [
    "trace_male = go.Bar(\n",
    "    y=df_dist_idade_sexo[\"Idade\"],\n",
    "    x=df_dist_idade_sexo[\"Quantidade\"][df_dist_idade_sexo[\"Sexo\"] == \"Homens\"],\n",
    "    orientation='h',\n",
    "    name='Male',\n",
    "    marker=dict(color='blue')\n",
    ")\n",
    "\n",
    "trace_female = go.Bar(\n",
    "    y=df_dist_idade_sexo[\"Idade\"],\n",
    "    x=df_dist_idade_sexo[\"Quantidade\"][df_dist_idade_sexo[\"Sexo\"] == \"Mulheres\"] * -1,  # Multiply by -1 to mirror the female bars\n",
    "    orientation='h',\n",
    "    name='Female',\n",
    "    marker=dict(color='pink')\n",
    ")\n",
    "\n",
    "# Create layout\n",
    "layout = go.Layout(\n",
    "    title='Age Pyramid',\n",
    "    barmode='overlay',  # Overlay male and female bars\n",
    "    xaxis=dict(title='Population', range=[-max(max(df_dist_idade_sexo[\"Quantidade\"][df_dist_idade_sexo[\"Sexo\"] == \"Homens\"]), max(df_dist_idade_sexo[\"Quantidade\"][df_dist_idade_sexo[\"Sexo\"] == \"Mulheres\"])) * 1.1, max(max(df_dist_idade_sexo[\"Quantidade\"][df_dist_idade_sexo[\"Sexo\"] == \"Homens\"]), max(df_dist_idade_sexo[\"Quantidade\"][df_dist_idade_sexo[\"Sexo\"] == \"Mulheres\"])) * 1.1]),\n",
    "    yaxis=dict(title='Age Group'),\n",
    ")\n",
    "\n",
    "# Create figure\n",
    "fig = go.Figure(data=[trace_male, trace_female], layout=layout)\n",
    "\n",
    "fig"
   ]
  },
  {
   "cell_type": "code",
   "execution_count": 50,
   "metadata": {},
   "outputs": [
    {
     "data": {
      "image/png": "[encoded data removed]",
      "text/plain": [
       "<Figure size 640x480 with 1 Axes>"
      ]
     },
     "metadata": {},
     "output_type": "display_data"
    }
   ],
   "source": [
    "fig, ax = plt.subplots()\n",
    "\n",
    "# Plot male and female populations\n",
    "ax.barh(df_dist_idade_sexo[\"Idade\"][df_dist_idade_sexo[\"Sexo\"] == \"Homens\"], df_dist_idade_sexo[\"Quantidade\"][df_dist_idade_sexo[\"Sexo\"] == \"Homens\"], color='blue', label='Male')\n",
    "ax.barh(df_dist_idade_sexo[\"Idade\"][df_dist_idade_sexo[\"Sexo\"] == \"Mulheres\"], -df_dist_idade_sexo[\"Quantidade\"][df_dist_idade_sexo[\"Sexo\"] == \"Mulheres\"], color='pink', label='Female')  \n",
    "\n",
    "# Set labels and title\n",
    "ax.set_xlabel('Population')\n",
    "ax.set_ylabel('Age Group')\n",
    "ax.set_title('Age Pyramid')\n",
    "\n",
    "# Add legend\n",
    "ax.legend()\n",
    "\n",
    "# Show the plot\n",
    "plt.show()"
   ]
  },
  {
   "cell_type": "code",
   "execution_count": 51,
   "metadata": {},
   "outputs": [
    {
     "data": {
      "text/plain": [
       "{'abertura': '09/04/2003',\n",
       " 'situacao': 'ATIVA',\n",
       " 'tipo': 'FILIAL',\n",
       " 'nome': 'BAKER HUGHES ENERGY TECHNOLOGY DO BRASIL LIMITADA',\n",
       " 'porte': 'DEMAIS',\n",
       " 'natureza_juridica': '206-2 - Sociedade Empresária Limitada',\n",
       " 'atividade_principal': [{'code': '33.14-7-14',\n",
       "   'text': 'Manutenção e reparação de máquinas e equipamentos para a prospecção e extração de petróleo'}],\n",
       " 'atividades_secundarias': [{'code': '09.10-6-00',\n",
       "   'text': 'Atividades de apoio à extração de petróleo e gás natural'},\n",
       "  {'code': '28.51-8-00',\n",
       "   'text': 'Fabricação de máquinas e equipamentos para a prospecção e extração de petróleo, peças e acessórios'},\n",
       "  {'code': '33.21-0-00',\n",
       "   'text': 'Instalação de máquinas e equipamentos industriais'},\n",
       "  {'code': '46.19-2-00',\n",
       "   'text': 'Representantes comerciais e agentes do comércio de mercadorias em geral não especializado'},\n",
       "  {'code': '52.11-7-99',\n",
       "   'text': 'Depósitos de mercadorias para terceiros, exceto armazéns gerais e guarda-móveis'},\n",
       "  {'code': '62.02-3-00',\n",
       "   'text': 'Desenvolvimento e licenciamento de programas de computador customizáveis'},\n",
       "  {'code': '71.19-7-99',\n",
       "   'text': 'Atividades técnicas relacionadas à engenharia e arquitetura não especificadas anteriormente'},\n",
       "  {'code': '72.10-0-00',\n",
       "   'text': 'Pesquisa e desenvolvimento experimental em ciências físicas e naturais'},\n",
       "  {'code': '82.99-7-99',\n",
       "   'text': 'Outras atividades de serviços prestados principalmente às empresas não especificadas anteriormente'},\n",
       "  {'code': '85.99-6-04',\n",
       "   'text': 'Treinamento em desenvolvimento profissional e gerencial'}],\n",
       " 'logradouro': 'R CIRENE HENRIQUES PAES',\n",
       " 'numero': '200',\n",
       " 'complemento': 'KM 167',\n",
       " 'municipio': 'MACAE',\n",
       " 'bairro': 'LAGOA',\n",
       " 'uf': 'RJ',\n",
       " 'cep': '27.925-405',\n",
       " 'email': 'bhiindirecttax@bakerhughes.com',\n",
       " 'telefone': '(21) 3548-3101',\n",
       " 'data_situacao': '09/04/2003',\n",
       " 'cnpj': '05.635.291/0002-99',\n",
       " 'ultima_atualizacao': '2024-01-01T10:33:36.612Z',\n",
       " 'status': 'OK',\n",
       " 'fantasia': '',\n",
       " 'efr': '',\n",
       " 'motivo_situacao': '',\n",
       " 'situacao_especial': '',\n",
       " 'data_situacao_especial': '',\n",
       " 'capital_social': '0.00',\n",
       " 'qsa': [],\n",
       " 'extra': {},\n",
       " 'billing': {'free': True, 'database': True}}"
      ]
     },
     "execution_count": 51,
     "metadata": {},
     "output_type": "execute_result"
    }
   ],
   "source": [
    "#consulta CNPJ\n",
    "data = requests.get(\"https://receitaws.com.br/v1/cnpj/05635291000299\")\n",
    "data_json = data.json()\n",
    "\n",
    "data_json\n",
    "\n"
   ]
  },
  {
   "cell_type": "code",
   "execution_count": 52,
   "metadata": {},
   "outputs": [
    {
     "data": {
      "text/html": [
       "<div>\n",
       "<style scoped>\n",
       "    .dataframe tbody tr th:only-of-type {\n",
       "        vertical-align: middle;\n",
       "    }\n",
       "\n",
       "    .dataframe tbody tr th {\n",
       "        vertical-align: top;\n",
       "    }\n",
       "\n",
       "    .dataframe thead th {\n",
       "        text-align: right;\n",
       "    }\n",
       "</style>\n",
       "<table border=\"1\" class=\"dataframe\">\n",
       "  <thead>\n",
       "    <tr style=\"text-align: right;\">\n",
       "      <th></th>\n",
       "      <th>Year</th>\n",
       "      <th>Revenue (R$)</th>\n",
       "    </tr>\n",
       "  </thead>\n",
       "  <tbody>\n",
       "    <tr>\n",
       "      <th>0</th>\n",
       "      <td>2018</td>\n",
       "      <td>2.582835e+08</td>\n",
       "    </tr>\n",
       "    <tr>\n",
       "      <th>1</th>\n",
       "      <td>2017</td>\n",
       "      <td>3.945013e+08</td>\n",
       "    </tr>\n",
       "    <tr>\n",
       "      <th>2</th>\n",
       "      <td>2016</td>\n",
       "      <td>2.934953e+08</td>\n",
       "    </tr>\n",
       "    <tr>\n",
       "      <th>3</th>\n",
       "      <td>2015</td>\n",
       "      <td>3.486715e+08</td>\n",
       "    </tr>\n",
       "    <tr>\n",
       "      <th>4</th>\n",
       "      <td>2014</td>\n",
       "      <td>4.915265e+08</td>\n",
       "    </tr>\n",
       "    <tr>\n",
       "      <th>5</th>\n",
       "      <td>2013</td>\n",
       "      <td>4.665316e+08</td>\n",
       "    </tr>\n",
       "    <tr>\n",
       "      <th>6</th>\n",
       "      <td>2012</td>\n",
       "      <td>4.769250e+08</td>\n",
       "    </tr>\n",
       "    <tr>\n",
       "      <th>7</th>\n",
       "      <td>2011</td>\n",
       "      <td>4.104942e+08</td>\n",
       "    </tr>\n",
       "    <tr>\n",
       "      <th>8</th>\n",
       "      <td>2010</td>\n",
       "      <td>3.560171e+08</td>\n",
       "    </tr>\n",
       "    <tr>\n",
       "      <th>9</th>\n",
       "      <td>2009</td>\n",
       "      <td>2.945725e+08</td>\n",
       "    </tr>\n",
       "    <tr>\n",
       "      <th>10</th>\n",
       "      <td>2008</td>\n",
       "      <td>4.069614e+08</td>\n",
       "    </tr>\n",
       "    <tr>\n",
       "      <th>11</th>\n",
       "      <td>2007</td>\n",
       "      <td>2.895428e+08</td>\n",
       "    </tr>\n",
       "    <tr>\n",
       "      <th>12</th>\n",
       "      <td>2006</td>\n",
       "      <td>3.202419e+08</td>\n",
       "    </tr>\n",
       "  </tbody>\n",
       "</table>\n",
       "</div>"
      ],
      "text/plain": [
       "    Year  Revenue (R$)\n",
       "0   2018  2.582835e+08\n",
       "1   2017  3.945013e+08\n",
       "2   2016  2.934953e+08\n",
       "3   2015  3.486715e+08\n",
       "4   2014  4.915265e+08\n",
       "5   2013  4.665316e+08\n",
       "6   2012  4.769250e+08\n",
       "7   2011  4.104942e+08\n",
       "8   2010  3.560171e+08\n",
       "9   2009  2.945725e+08\n",
       "10  2008  4.069614e+08\n",
       "11  2007  2.895428e+08\n",
       "12  2006  3.202419e+08"
      ]
     },
     "execution_count": 52,
     "metadata": {},
     "output_type": "execute_result"
    }
   ],
   "source": [
    "data = {\n",
    "    'Year': [2018, 2017, 2016, 2015, 2014, 2013, 2012, 2011, 2010, 2009, 2008, 2007, 2006],\n",
    "    'Revenue (R$)': [\n",
    "        258283504.04, 394501266.54, 293495326.33, 348671477.28, 491526473.38,\n",
    "        466531575.52, 476924994.43, 410494180.33, 356017093.59, 294572486.39,\n",
    "        406961370.68, 289542845.97, 320241924.75\n",
    "    ]\n",
    "}\n",
    "\n",
    "royaltes_df = pd.DataFrame(data)\n",
    "royaltes_df"
   ]
  },
  {
   "cell_type": "code",
   "execution_count": 53,
   "metadata": {},
   "outputs": [
    {
     "data": {
      "text/plain": [
       "[{'id': '93',\n",
       "  'variavel': 'População residente',\n",
       "  'unidade': 'Pessoas',\n",
       "  'resultados': [{'classificacoes': [{'id': '86',\n",
       "      'nome': 'Cor ou raça',\n",
       "      'categoria': {'2776': 'Branca'}},\n",
       "     {'id': '2', 'nome': 'Sexo', 'categoria': {'4': 'Homens'}},\n",
       "     {'id': '287', 'nome': 'Idade', 'categoria': {'93070': '0 a 4 anos'}}],\n",
       "    'series': [{'localidade': {'id': '3302403',\n",
       "       'nivel': {'id': 'N6', 'nome': 'Município'},\n",
       "       'nome': 'Macaé (RJ)'},\n",
       "      'serie': {'2022': '3479'}}]},\n",
       "   {'classificacoes': [{'id': '86',\n",
       "      'nome': 'Cor ou raça',\n",
       "      'categoria': {'2776': 'Branca'}},\n",
       "     {'id': '2', 'nome': 'Sexo', 'categoria': {'4': 'Homens'}},\n",
       "     {'id': '287', 'nome': 'Idade', 'categoria': {'93084': '5 a 9 anos'}}],\n",
       "    'series': [{'localidade': {'id': '3302403',\n",
       "       'nivel': {'id': 'N6', 'nome': 'Município'},\n",
       "       'nome': 'Macaé (RJ)'},\n",
       "      'serie': {'2022': '3440'}}]},\n",
       "   {'classificacoes': [{'id': '86',\n",
       "      'nome': 'Cor ou raça',\n",
       "      'categoria': {'2776': 'Branca'}},\n",
       "     {'id': '2', 'nome': 'Sexo', 'categoria': {'4': 'Homens'}},\n",
       "     {'id': '287', 'nome': 'Idade', 'categoria': {'93085': '10 a 14 anos'}}],\n",
       "    'series': [{'localidade': {'id': '3302403',\n",
       "       'nivel': {'id': 'N6', 'nome': 'Município'},\n",
       "       'nome': 'Macaé (RJ)'},\n",
       "      'serie': {'2022': '2899'}}]},\n",
       "   {'classificacoes': [{'id': '86',\n",
       "      'nome': 'Cor ou raça',\n",
       "      'categoria': {'2776': 'Branca'}},\n",
       "     {'id': '2', 'nome': 'Sexo', 'categoria': {'4': 'Homens'}},\n",
       "     {'id': '287', 'nome': 'Idade', 'categoria': {'93086': '15 a 19 anos'}}],\n",
       "    'series': [{'localidade': {'id': '3302403',\n",
       "       'nivel': {'id': 'N6', 'nome': 'Município'},\n",
       "       'nome': 'Macaé (RJ)'},\n",
       "      'serie': {'2022': '2701'}}]},\n",
       "   {'classificacoes': [{'id': '86',\n",
       "      'nome': 'Cor ou raça',\n",
       "      'categoria': {'2776': 'Branca'}},\n",
       "     {'id': '2', 'nome': 'Sexo', 'categoria': {'4': 'Homens'}},\n",
       "     {'id': '287', 'nome': 'Idade', 'categoria': {'93087': '20 a 24 anos'}}],\n",
       "    'series': [{'localidade': {'id': '3302403',\n",
       "       'nivel': {'id': 'N6', 'nome': 'Município'},\n",
       "       'nome': 'Macaé (RJ)'},\n",
       "      'serie': {'2022': '2719'}}]},\n",
       "   {'classificacoes': [{'id': '86',\n",
       "      'nome': 'Cor ou raça',\n",
       "      'categoria': {'2776': 'Branca'}},\n",
       "     {'id': '2', 'nome': 'Sexo', 'categoria': {'4': 'Homens'}},\n",
       "     {'id': '287', 'nome': 'Idade', 'categoria': {'93088': '25 a 29 anos'}}],\n",
       "    'series': [{'localidade': {'id': '3302403',\n",
       "       'nivel': {'id': 'N6', 'nome': 'Município'},\n",
       "       'nome': 'Macaé (RJ)'},\n",
       "      'serie': {'2022': '2952'}}]},\n",
       "   {'classificacoes': [{'id': '86',\n",
       "      'nome': 'Cor ou raça',\n",
       "      'categoria': {'2776': 'Branca'}},\n",
       "     {'id': '2', 'nome': 'Sexo', 'categoria': {'4': 'Homens'}},\n",
       "     {'id': '287', 'nome': 'Idade', 'categoria': {'93089': '30 a 34 anos'}}],\n",
       "    'series': [{'localidade': {'id': '3302403',\n",
       "       'nivel': {'id': 'N6', 'nome': 'Município'},\n",
       "       'nome': 'Macaé (RJ)'},\n",
       "      'serie': {'2022': '3293'}}]},\n",
       "   {'classificacoes': [{'id': '86',\n",
       "      'nome': 'Cor ou raça',\n",
       "      'categoria': {'2776': 'Branca'}},\n",
       "     {'id': '2', 'nome': 'Sexo', 'categoria': {'4': 'Homens'}},\n",
       "     {'id': '287', 'nome': 'Idade', 'categoria': {'93090': '35 a 39 anos'}}],\n",
       "    'series': [{'localidade': {'id': '3302403',\n",
       "       'nivel': {'id': 'N6', 'nome': 'Município'},\n",
       "       'nome': 'Macaé (RJ)'},\n",
       "      'serie': {'2022': '3860'}}]},\n",
       "   {'classificacoes': [{'id': '86',\n",
       "      'nome': 'Cor ou raça',\n",
       "      'categoria': {'2776': 'Branca'}},\n",
       "     {'id': '2', 'nome': 'Sexo', 'categoria': {'4': 'Homens'}},\n",
       "     {'id': '287', 'nome': 'Idade', 'categoria': {'93091': '40 a 44 anos'}}],\n",
       "    'series': [{'localidade': {'id': '3302403',\n",
       "       'nivel': {'id': 'N6', 'nome': 'Município'},\n",
       "       'nome': 'Macaé (RJ)'},\n",
       "      'serie': {'2022': '3812'}}]},\n",
       "   {'classificacoes': [{'id': '86',\n",
       "      'nome': 'Cor ou raça',\n",
       "      'categoria': {'2776': 'Branca'}},\n",
       "     {'id': '2', 'nome': 'Sexo', 'categoria': {'4': 'Homens'}},\n",
       "     {'id': '287', 'nome': 'Idade', 'categoria': {'93092': '45 a 49 anos'}}],\n",
       "    'series': [{'localidade': {'id': '3302403',\n",
       "       'nivel': {'id': 'N6', 'nome': 'Município'},\n",
       "       'nome': 'Macaé (RJ)'},\n",
       "      'serie': {'2022': '2795'}}]},\n",
       "   {'classificacoes': [{'id': '86',\n",
       "      'nome': 'Cor ou raça',\n",
       "      'categoria': {'2776': 'Branca'}},\n",
       "     {'id': '2', 'nome': 'Sexo', 'categoria': {'4': 'Homens'}},\n",
       "     {'id': '287', 'nome': 'Idade', 'categoria': {'93093': '50 a 54 anos'}}],\n",
       "    'series': [{'localidade': {'id': '3302403',\n",
       "       'nivel': {'id': 'N6', 'nome': 'Município'},\n",
       "       'nome': 'Macaé (RJ)'},\n",
       "      'serie': {'2022': '2411'}}]},\n",
       "   {'classificacoes': [{'id': '86',\n",
       "      'nome': 'Cor ou raça',\n",
       "      'categoria': {'2776': 'Branca'}},\n",
       "     {'id': '2', 'nome': 'Sexo', 'categoria': {'4': 'Homens'}},\n",
       "     {'id': '287', 'nome': 'Idade', 'categoria': {'93094': '55 a 59 anos'}}],\n",
       "    'series': [{'localidade': {'id': '3302403',\n",
       "       'nivel': {'id': 'N6', 'nome': 'Município'},\n",
       "       'nome': 'Macaé (RJ)'},\n",
       "      'serie': {'2022': '2433'}}]},\n",
       "   {'classificacoes': [{'id': '86',\n",
       "      'nome': 'Cor ou raça',\n",
       "      'categoria': {'2776': 'Branca'}},\n",
       "     {'id': '2', 'nome': 'Sexo', 'categoria': {'4': 'Homens'}},\n",
       "     {'id': '287', 'nome': 'Idade', 'categoria': {'93095': '60 a 64 anos'}}],\n",
       "    'series': [{'localidade': {'id': '3302403',\n",
       "       'nivel': {'id': 'N6', 'nome': 'Município'},\n",
       "       'nome': 'Macaé (RJ)'},\n",
       "      'serie': {'2022': '2217'}}]},\n",
       "   {'classificacoes': [{'id': '86',\n",
       "      'nome': 'Cor ou raça',\n",
       "      'categoria': {'2776': 'Branca'}},\n",
       "     {'id': '2', 'nome': 'Sexo', 'categoria': {'4': 'Homens'}},\n",
       "     {'id': '287', 'nome': 'Idade', 'categoria': {'93096': '65 a 69 anos'}}],\n",
       "    'series': [{'localidade': {'id': '3302403',\n",
       "       'nivel': {'id': 'N6', 'nome': 'Município'},\n",
       "       'nome': 'Macaé (RJ)'},\n",
       "      'serie': {'2022': '1661'}}]},\n",
       "   {'classificacoes': [{'id': '86',\n",
       "      'nome': 'Cor ou raça',\n",
       "      'categoria': {'2776': 'Branca'}},\n",
       "     {'id': '2', 'nome': 'Sexo', 'categoria': {'4': 'Homens'}},\n",
       "     {'id': '287', 'nome': 'Idade', 'categoria': {'93097': '70 a 74 anos'}}],\n",
       "    'series': [{'localidade': {'id': '3302403',\n",
       "       'nivel': {'id': 'N6', 'nome': 'Município'},\n",
       "       'nome': 'Macaé (RJ)'},\n",
       "      'serie': {'2022': '1168'}}]},\n",
       "   {'classificacoes': [{'id': '86',\n",
       "      'nome': 'Cor ou raça',\n",
       "      'categoria': {'2776': 'Branca'}},\n",
       "     {'id': '2', 'nome': 'Sexo', 'categoria': {'4': 'Homens'}},\n",
       "     {'id': '287', 'nome': 'Idade', 'categoria': {'93098': '75 a 79 anos'}}],\n",
       "    'series': [{'localidade': {'id': '3302403',\n",
       "       'nivel': {'id': 'N6', 'nome': 'Município'},\n",
       "       'nome': 'Macaé (RJ)'},\n",
       "      'serie': {'2022': '670'}}]},\n",
       "   {'classificacoes': [{'id': '86',\n",
       "      'nome': 'Cor ou raça',\n",
       "      'categoria': {'2776': 'Branca'}},\n",
       "     {'id': '2', 'nome': 'Sexo', 'categoria': {'4': 'Homens'}},\n",
       "     {'id': '287', 'nome': 'Idade', 'categoria': {'49108': '80 a 84 anos'}}],\n",
       "    'series': [{'localidade': {'id': '3302403',\n",
       "       'nivel': {'id': 'N6', 'nome': 'Município'},\n",
       "       'nome': 'Macaé (RJ)'},\n",
       "      'serie': {'2022': '420'}}]},\n",
       "   {'classificacoes': [{'id': '86',\n",
       "      'nome': 'Cor ou raça',\n",
       "      'categoria': {'2776': 'Branca'}},\n",
       "     {'id': '2', 'nome': 'Sexo', 'categoria': {'4': 'Homens'}},\n",
       "     {'id': '287', 'nome': 'Idade', 'categoria': {'49109': '85 a 89 anos'}}],\n",
       "    'series': [{'localidade': {'id': '3302403',\n",
       "       'nivel': {'id': 'N6', 'nome': 'Município'},\n",
       "       'nome': 'Macaé (RJ)'},\n",
       "      'serie': {'2022': '220'}}]},\n",
       "   {'classificacoes': [{'id': '86',\n",
       "      'nome': 'Cor ou raça',\n",
       "      'categoria': {'2776': 'Branca'}},\n",
       "     {'id': '2', 'nome': 'Sexo', 'categoria': {'4': 'Homens'}},\n",
       "     {'id': '287', 'nome': 'Idade', 'categoria': {'60040': '90 a 94 anos'}}],\n",
       "    'series': [{'localidade': {'id': '3302403',\n",
       "       'nivel': {'id': 'N6', 'nome': 'Município'},\n",
       "       'nome': 'Macaé (RJ)'},\n",
       "      'serie': {'2022': '89'}}]},\n",
       "   {'classificacoes': [{'id': '86',\n",
       "      'nome': 'Cor ou raça',\n",
       "      'categoria': {'2776': 'Branca'}},\n",
       "     {'id': '2', 'nome': 'Sexo', 'categoria': {'4': 'Homens'}},\n",
       "     {'id': '287', 'nome': 'Idade', 'categoria': {'60041': '95 a 99 anos'}}],\n",
       "    'series': [{'localidade': {'id': '3302403',\n",
       "       'nivel': {'id': 'N6', 'nome': 'Município'},\n",
       "       'nome': 'Macaé (RJ)'},\n",
       "      'serie': {'2022': '16'}}]},\n",
       "   {'classificacoes': [{'id': '86',\n",
       "      'nome': 'Cor ou raça',\n",
       "      'categoria': {'2776': 'Branca'}},\n",
       "     {'id': '2', 'nome': 'Sexo', 'categoria': {'4': 'Homens'}},\n",
       "     {'id': '287',\n",
       "      'nome': 'Idade',\n",
       "      'categoria': {'6653': '100 anos ou mais'}}],\n",
       "    'series': [{'localidade': {'id': '3302403',\n",
       "       'nivel': {'id': 'N6', 'nome': 'Município'},\n",
       "       'nome': 'Macaé (RJ)'},\n",
       "      'serie': {'2022': '3'}}]},\n",
       "   {'classificacoes': [{'id': '86',\n",
       "      'nome': 'Cor ou raça',\n",
       "      'categoria': {'2776': 'Branca'}},\n",
       "     {'id': '2', 'nome': 'Sexo', 'categoria': {'5': 'Mulheres'}},\n",
       "     {'id': '287', 'nome': 'Idade', 'categoria': {'93070': '0 a 4 anos'}}],\n",
       "    'series': [{'localidade': {'id': '3302403',\n",
       "       'nivel': {'id': 'N6', 'nome': 'Município'},\n",
       "       'nome': 'Macaé (RJ)'},\n",
       "      'serie': {'2022': '3307'}}]},\n",
       "   {'classificacoes': [{'id': '86',\n",
       "      'nome': 'Cor ou raça',\n",
       "      'categoria': {'2776': 'Branca'}},\n",
       "     {'id': '2', 'nome': 'Sexo', 'categoria': {'5': 'Mulheres'}},\n",
       "     {'id': '287', 'nome': 'Idade', 'categoria': {'93084': '5 a 9 anos'}}],\n",
       "    'series': [{'localidade': {'id': '3302403',\n",
       "       'nivel': {'id': 'N6', 'nome': 'Município'},\n",
       "       'nome': 'Macaé (RJ)'},\n",
       "      'serie': {'2022': '3259'}}]},\n",
       "   {'classificacoes': [{'id': '86',\n",
       "      'nome': 'Cor ou raça',\n",
       "      'categoria': {'2776': 'Branca'}},\n",
       "     {'id': '2', 'nome': 'Sexo', 'categoria': {'5': 'Mulheres'}},\n",
       "     {'id': '287', 'nome': 'Idade', 'categoria': {'93085': '10 a 14 anos'}}],\n",
       "    'series': [{'localidade': {'id': '3302403',\n",
       "       'nivel': {'id': 'N6', 'nome': 'Município'},\n",
       "       'nome': 'Macaé (RJ)'},\n",
       "      'serie': {'2022': '2835'}}]},\n",
       "   {'classificacoes': [{'id': '86',\n",
       "      'nome': 'Cor ou raça',\n",
       "      'categoria': {'2776': 'Branca'}},\n",
       "     {'id': '2', 'nome': 'Sexo', 'categoria': {'5': 'Mulheres'}},\n",
       "     {'id': '287', 'nome': 'Idade', 'categoria': {'93086': '15 a 19 anos'}}],\n",
       "    'series': [{'localidade': {'id': '3302403',\n",
       "       'nivel': {'id': 'N6', 'nome': 'Município'},\n",
       "       'nome': 'Macaé (RJ)'},\n",
       "      'serie': {'2022': '2855'}}]},\n",
       "   {'classificacoes': [{'id': '86',\n",
       "      'nome': 'Cor ou raça',\n",
       "      'categoria': {'2776': 'Branca'}},\n",
       "     {'id': '2', 'nome': 'Sexo', 'categoria': {'5': 'Mulheres'}},\n",
       "     {'id': '287', 'nome': 'Idade', 'categoria': {'93087': '20 a 24 anos'}}],\n",
       "    'series': [{'localidade': {'id': '3302403',\n",
       "       'nivel': {'id': 'N6', 'nome': 'Município'},\n",
       "       'nome': 'Macaé (RJ)'},\n",
       "      'serie': {'2022': '3158'}}]},\n",
       "   {'classificacoes': [{'id': '86',\n",
       "      'nome': 'Cor ou raça',\n",
       "      'categoria': {'2776': 'Branca'}},\n",
       "     {'id': '2', 'nome': 'Sexo', 'categoria': {'5': 'Mulheres'}},\n",
       "     {'id': '287', 'nome': 'Idade', 'categoria': {'93088': '25 a 29 anos'}}],\n",
       "    'series': [{'localidade': {'id': '3302403',\n",
       "       'nivel': {'id': 'N6', 'nome': 'Município'},\n",
       "       'nome': 'Macaé (RJ)'},\n",
       "      'serie': {'2022': '3503'}}]},\n",
       "   {'classificacoes': [{'id': '86',\n",
       "      'nome': 'Cor ou raça',\n",
       "      'categoria': {'2776': 'Branca'}},\n",
       "     {'id': '2', 'nome': 'Sexo', 'categoria': {'5': 'Mulheres'}},\n",
       "     {'id': '287', 'nome': 'Idade', 'categoria': {'93089': '30 a 34 anos'}}],\n",
       "    'series': [{'localidade': {'id': '3302403',\n",
       "       'nivel': {'id': 'N6', 'nome': 'Município'},\n",
       "       'nome': 'Macaé (RJ)'},\n",
       "      'serie': {'2022': '3889'}}]},\n",
       "   {'classificacoes': [{'id': '86',\n",
       "      'nome': 'Cor ou raça',\n",
       "      'categoria': {'2776': 'Branca'}},\n",
       "     {'id': '2', 'nome': 'Sexo', 'categoria': {'5': 'Mulheres'}},\n",
       "     {'id': '287', 'nome': 'Idade', 'categoria': {'93090': '35 a 39 anos'}}],\n",
       "    'series': [{'localidade': {'id': '3302403',\n",
       "       'nivel': {'id': 'N6', 'nome': 'Município'},\n",
       "       'nome': 'Macaé (RJ)'},\n",
       "      'serie': {'2022': '4383'}}]},\n",
       "   {'classificacoes': [{'id': '86',\n",
       "      'nome': 'Cor ou raça',\n",
       "      'categoria': {'2776': 'Branca'}},\n",
       "     {'id': '2', 'nome': 'Sexo', 'categoria': {'5': 'Mulheres'}},\n",
       "     {'id': '287', 'nome': 'Idade', 'categoria': {'93091': '40 a 44 anos'}}],\n",
       "    'series': [{'localidade': {'id': '3302403',\n",
       "       'nivel': {'id': 'N6', 'nome': 'Município'},\n",
       "       'nome': 'Macaé (RJ)'},\n",
       "      'serie': {'2022': '4312'}}]},\n",
       "   {'classificacoes': [{'id': '86',\n",
       "      'nome': 'Cor ou raça',\n",
       "      'categoria': {'2776': 'Branca'}},\n",
       "     {'id': '2', 'nome': 'Sexo', 'categoria': {'5': 'Mulheres'}},\n",
       "     {'id': '287', 'nome': 'Idade', 'categoria': {'93092': '45 a 49 anos'}}],\n",
       "    'series': [{'localidade': {'id': '3302403',\n",
       "       'nivel': {'id': 'N6', 'nome': 'Município'},\n",
       "       'nome': 'Macaé (RJ)'},\n",
       "      'serie': {'2022': '3235'}}]},\n",
       "   {'classificacoes': [{'id': '86',\n",
       "      'nome': 'Cor ou raça',\n",
       "      'categoria': {'2776': 'Branca'}},\n",
       "     {'id': '2', 'nome': 'Sexo', 'categoria': {'5': 'Mulheres'}},\n",
       "     {'id': '287', 'nome': 'Idade', 'categoria': {'93093': '50 a 54 anos'}}],\n",
       "    'series': [{'localidade': {'id': '3302403',\n",
       "       'nivel': {'id': 'N6', 'nome': 'Município'},\n",
       "       'nome': 'Macaé (RJ)'},\n",
       "      'serie': {'2022': '2839'}}]},\n",
       "   {'classificacoes': [{'id': '86',\n",
       "      'nome': 'Cor ou raça',\n",
       "      'categoria': {'2776': 'Branca'}},\n",
       "     {'id': '2', 'nome': 'Sexo', 'categoria': {'5': 'Mulheres'}},\n",
       "     {'id': '287', 'nome': 'Idade', 'categoria': {'93094': '55 a 59 anos'}}],\n",
       "    'series': [{'localidade': {'id': '3302403',\n",
       "       'nivel': {'id': 'N6', 'nome': 'Município'},\n",
       "       'nome': 'Macaé (RJ)'},\n",
       "      'serie': {'2022': '2904'}}]},\n",
       "   {'classificacoes': [{'id': '86',\n",
       "      'nome': 'Cor ou raça',\n",
       "      'categoria': {'2776': 'Branca'}},\n",
       "     {'id': '2', 'nome': 'Sexo', 'categoria': {'5': 'Mulheres'}},\n",
       "     {'id': '287', 'nome': 'Idade', 'categoria': {'93095': '60 a 64 anos'}}],\n",
       "    'series': [{'localidade': {'id': '3302403',\n",
       "       'nivel': {'id': 'N6', 'nome': 'Município'},\n",
       "       'nome': 'Macaé (RJ)'},\n",
       "      'serie': {'2022': '2576'}}]},\n",
       "   {'classificacoes': [{'id': '86',\n",
       "      'nome': 'Cor ou raça',\n",
       "      'categoria': {'2776': 'Branca'}},\n",
       "     {'id': '2', 'nome': 'Sexo', 'categoria': {'5': 'Mulheres'}},\n",
       "     {'id': '287', 'nome': 'Idade', 'categoria': {'93096': '65 a 69 anos'}}],\n",
       "    'series': [{'localidade': {'id': '3302403',\n",
       "       'nivel': {'id': 'N6', 'nome': 'Município'},\n",
       "       'nome': 'Macaé (RJ)'},\n",
       "      'serie': {'2022': '2035'}}]},\n",
       "   {'classificacoes': [{'id': '86',\n",
       "      'nome': 'Cor ou raça',\n",
       "      'categoria': {'2776': 'Branca'}},\n",
       "     {'id': '2', 'nome': 'Sexo', 'categoria': {'5': 'Mulheres'}},\n",
       "     {'id': '287', 'nome': 'Idade', 'categoria': {'93097': '70 a 74 anos'}}],\n",
       "    'series': [{'localidade': {'id': '3302403',\n",
       "       'nivel': {'id': 'N6', 'nome': 'Município'},\n",
       "       'nome': 'Macaé (RJ)'},\n",
       "      'serie': {'2022': '1449'}}]},\n",
       "   {'classificacoes': [{'id': '86',\n",
       "      'nome': 'Cor ou raça',\n",
       "      'categoria': {'2776': 'Branca'}},\n",
       "     {'id': '2', 'nome': 'Sexo', 'categoria': {'5': 'Mulheres'}},\n",
       "     {'id': '287', 'nome': 'Idade', 'categoria': {'93098': '75 a 79 anos'}}],\n",
       "    'series': [{'localidade': {'id': '3302403',\n",
       "       'nivel': {'id': 'N6', 'nome': 'Município'},\n",
       "       'nome': 'Macaé (RJ)'},\n",
       "      'serie': {'2022': '1019'}}]},\n",
       "   {'classificacoes': [{'id': '86',\n",
       "      'nome': 'Cor ou raça',\n",
       "      'categoria': {'2776': 'Branca'}},\n",
       "     {'id': '2', 'nome': 'Sexo', 'categoria': {'5': 'Mulheres'}},\n",
       "     {'id': '287', 'nome': 'Idade', 'categoria': {'49108': '80 a 84 anos'}}],\n",
       "    'series': [{'localidade': {'id': '3302403',\n",
       "       'nivel': {'id': 'N6', 'nome': 'Município'},\n",
       "       'nome': 'Macaé (RJ)'},\n",
       "      'serie': {'2022': '677'}}]},\n",
       "   {'classificacoes': [{'id': '86',\n",
       "      'nome': 'Cor ou raça',\n",
       "      'categoria': {'2776': 'Branca'}},\n",
       "     {'id': '2', 'nome': 'Sexo', 'categoria': {'5': 'Mulheres'}},\n",
       "     {'id': '287', 'nome': 'Idade', 'categoria': {'49109': '85 a 89 anos'}}],\n",
       "    'series': [{'localidade': {'id': '3302403',\n",
       "       'nivel': {'id': 'N6', 'nome': 'Município'},\n",
       "       'nome': 'Macaé (RJ)'},\n",
       "      'serie': {'2022': '444'}}]},\n",
       "   {'classificacoes': [{'id': '86',\n",
       "      'nome': 'Cor ou raça',\n",
       "      'categoria': {'2776': 'Branca'}},\n",
       "     {'id': '2', 'nome': 'Sexo', 'categoria': {'5': 'Mulheres'}},\n",
       "     {'id': '287', 'nome': 'Idade', 'categoria': {'60040': '90 a 94 anos'}}],\n",
       "    'series': [{'localidade': {'id': '3302403',\n",
       "       'nivel': {'id': 'N6', 'nome': 'Município'},\n",
       "       'nome': 'Macaé (RJ)'},\n",
       "      'serie': {'2022': '206'}}]},\n",
       "   {'classificacoes': [{'id': '86',\n",
       "      'nome': 'Cor ou raça',\n",
       "      'categoria': {'2776': 'Branca'}},\n",
       "     {'id': '2', 'nome': 'Sexo', 'categoria': {'5': 'Mulheres'}},\n",
       "     {'id': '287', 'nome': 'Idade', 'categoria': {'60041': '95 a 99 anos'}}],\n",
       "    'series': [{'localidade': {'id': '3302403',\n",
       "       'nivel': {'id': 'N6', 'nome': 'Município'},\n",
       "       'nome': 'Macaé (RJ)'},\n",
       "      'serie': {'2022': '60'}}]},\n",
       "   {'classificacoes': [{'id': '86',\n",
       "      'nome': 'Cor ou raça',\n",
       "      'categoria': {'2776': 'Branca'}},\n",
       "     {'id': '2', 'nome': 'Sexo', 'categoria': {'5': 'Mulheres'}},\n",
       "     {'id': '287',\n",
       "      'nome': 'Idade',\n",
       "      'categoria': {'6653': '100 anos ou mais'}}],\n",
       "    'series': [{'localidade': {'id': '3302403',\n",
       "       'nivel': {'id': 'N6', 'nome': 'Município'},\n",
       "       'nome': 'Macaé (RJ)'},\n",
       "      'serie': {'2022': '8'}}]},\n",
       "   {'classificacoes': [{'id': '86',\n",
       "      'nome': 'Cor ou raça',\n",
       "      'categoria': {'2777': 'Preta'}},\n",
       "     {'id': '2', 'nome': 'Sexo', 'categoria': {'4': 'Homens'}},\n",
       "     {'id': '287', 'nome': 'Idade', 'categoria': {'93070': '0 a 4 anos'}}],\n",
       "    'series': [{'localidade': {'id': '3302403',\n",
       "       'nivel': {'id': 'N6', 'nome': 'Município'},\n",
       "       'nome': 'Macaé (RJ)'},\n",
       "      'serie': {'2022': '1023'}}]},\n",
       "   {'classificacoes': [{'id': '86',\n",
       "      'nome': 'Cor ou raça',\n",
       "      'categoria': {'2777': 'Preta'}},\n",
       "     {'id': '2', 'nome': 'Sexo', 'categoria': {'4': 'Homens'}},\n",
       "     {'id': '287', 'nome': 'Idade', 'categoria': {'93084': '5 a 9 anos'}}],\n",
       "    'series': [{'localidade': {'id': '3302403',\n",
       "       'nivel': {'id': 'N6', 'nome': 'Município'},\n",
       "       'nome': 'Macaé (RJ)'},\n",
       "      'serie': {'2022': '1333'}}]},\n",
       "   {'classificacoes': [{'id': '86',\n",
       "      'nome': 'Cor ou raça',\n",
       "      'categoria': {'2777': 'Preta'}},\n",
       "     {'id': '2', 'nome': 'Sexo', 'categoria': {'4': 'Homens'}},\n",
       "     {'id': '287', 'nome': 'Idade', 'categoria': {'93085': '10 a 14 anos'}}],\n",
       "    'series': [{'localidade': {'id': '3302403',\n",
       "       'nivel': {'id': 'N6', 'nome': 'Município'},\n",
       "       'nome': 'Macaé (RJ)'},\n",
       "      'serie': {'2022': '1322'}}]},\n",
       "   {'classificacoes': [{'id': '86',\n",
       "      'nome': 'Cor ou raça',\n",
       "      'categoria': {'2777': 'Preta'}},\n",
       "     {'id': '2', 'nome': 'Sexo', 'categoria': {'4': 'Homens'}},\n",
       "     {'id': '287', 'nome': 'Idade', 'categoria': {'93086': '15 a 19 anos'}}],\n",
       "    'series': [{'localidade': {'id': '3302403',\n",
       "       'nivel': {'id': 'N6', 'nome': 'Município'},\n",
       "       'nome': 'Macaé (RJ)'},\n",
       "      'serie': {'2022': '1467'}}]},\n",
       "   {'classificacoes': [{'id': '86',\n",
       "      'nome': 'Cor ou raça',\n",
       "      'categoria': {'2777': 'Preta'}},\n",
       "     {'id': '2', 'nome': 'Sexo', 'categoria': {'4': 'Homens'}},\n",
       "     {'id': '287', 'nome': 'Idade', 'categoria': {'93087': '20 a 24 anos'}}],\n",
       "    'series': [{'localidade': {'id': '3302403',\n",
       "       'nivel': {'id': 'N6', 'nome': 'Município'},\n",
       "       'nome': 'Macaé (RJ)'},\n",
       "      'serie': {'2022': '1707'}}]},\n",
       "   {'classificacoes': [{'id': '86',\n",
       "      'nome': 'Cor ou raça',\n",
       "      'categoria': {'2777': 'Preta'}},\n",
       "     {'id': '2', 'nome': 'Sexo', 'categoria': {'4': 'Homens'}},\n",
       "     {'id': '287', 'nome': 'Idade', 'categoria': {'93088': '25 a 29 anos'}}],\n",
       "    'series': [{'localidade': {'id': '3302403',\n",
       "       'nivel': {'id': 'N6', 'nome': 'Município'},\n",
       "       'nome': 'Macaé (RJ)'},\n",
       "      'serie': {'2022': '1944'}}]},\n",
       "   {'classificacoes': [{'id': '86',\n",
       "      'nome': 'Cor ou raça',\n",
       "      'categoria': {'2777': 'Preta'}},\n",
       "     {'id': '2', 'nome': 'Sexo', 'categoria': {'4': 'Homens'}},\n",
       "     {'id': '287', 'nome': 'Idade', 'categoria': {'93089': '30 a 34 anos'}}],\n",
       "    'series': [{'localidade': {'id': '3302403',\n",
       "       'nivel': {'id': 'N6', 'nome': 'Município'},\n",
       "       'nome': 'Macaé (RJ)'},\n",
       "      'serie': {'2022': '1952'}}]},\n",
       "   {'classificacoes': [{'id': '86',\n",
       "      'nome': 'Cor ou raça',\n",
       "      'categoria': {'2777': 'Preta'}},\n",
       "     {'id': '2', 'nome': 'Sexo', 'categoria': {'4': 'Homens'}},\n",
       "     {'id': '287', 'nome': 'Idade', 'categoria': {'93090': '35 a 39 anos'}}],\n",
       "    'series': [{'localidade': {'id': '3302403',\n",
       "       'nivel': {'id': 'N6', 'nome': 'Município'},\n",
       "       'nome': 'Macaé (RJ)'},\n",
       "      'serie': {'2022': '2142'}}]},\n",
       "   {'classificacoes': [{'id': '86',\n",
       "      'nome': 'Cor ou raça',\n",
       "      'categoria': {'2777': 'Preta'}},\n",
       "     {'id': '2', 'nome': 'Sexo', 'categoria': {'4': 'Homens'}},\n",
       "     {'id': '287', 'nome': 'Idade', 'categoria': {'93091': '40 a 44 anos'}}],\n",
       "    'series': [{'localidade': {'id': '3302403',\n",
       "       'nivel': {'id': 'N6', 'nome': 'Município'},\n",
       "       'nome': 'Macaé (RJ)'},\n",
       "      'serie': {'2022': '2185'}}]},\n",
       "   {'classificacoes': [{'id': '86',\n",
       "      'nome': 'Cor ou raça',\n",
       "      'categoria': {'2777': 'Preta'}},\n",
       "     {'id': '2', 'nome': 'Sexo', 'categoria': {'4': 'Homens'}},\n",
       "     {'id': '287', 'nome': 'Idade', 'categoria': {'93092': '45 a 49 anos'}}],\n",
       "    'series': [{'localidade': {'id': '3302403',\n",
       "       'nivel': {'id': 'N6', 'nome': 'Município'},\n",
       "       'nome': 'Macaé (RJ)'},\n",
       "      'serie': {'2022': '1580'}}]},\n",
       "   {'classificacoes': [{'id': '86',\n",
       "      'nome': 'Cor ou raça',\n",
       "      'categoria': {'2777': 'Preta'}},\n",
       "     {'id': '2', 'nome': 'Sexo', 'categoria': {'4': 'Homens'}},\n",
       "     {'id': '287', 'nome': 'Idade', 'categoria': {'93093': '50 a 54 anos'}}],\n",
       "    'series': [{'localidade': {'id': '3302403',\n",
       "       'nivel': {'id': 'N6', 'nome': 'Município'},\n",
       "       'nome': 'Macaé (RJ)'},\n",
       "      'serie': {'2022': '1352'}}]},\n",
       "   {'classificacoes': [{'id': '86',\n",
       "      'nome': 'Cor ou raça',\n",
       "      'categoria': {'2777': 'Preta'}},\n",
       "     {'id': '2', 'nome': 'Sexo', 'categoria': {'4': 'Homens'}},\n",
       "     {'id': '287', 'nome': 'Idade', 'categoria': {'93094': '55 a 59 anos'}}],\n",
       "    'series': [{'localidade': {'id': '3302403',\n",
       "       'nivel': {'id': 'N6', 'nome': 'Município'},\n",
       "       'nome': 'Macaé (RJ)'},\n",
       "      'serie': {'2022': '1044'}}]},\n",
       "   {'classificacoes': [{'id': '86',\n",
       "      'nome': 'Cor ou raça',\n",
       "      'categoria': {'2777': 'Preta'}},\n",
       "     {'id': '2', 'nome': 'Sexo', 'categoria': {'4': 'Homens'}},\n",
       "     {'id': '287', 'nome': 'Idade', 'categoria': {'93095': '60 a 64 anos'}}],\n",
       "    'series': [{'localidade': {'id': '3302403',\n",
       "       'nivel': {'id': 'N6', 'nome': 'Município'},\n",
       "       'nome': 'Macaé (RJ)'},\n",
       "      'serie': {'2022': '884'}}]},\n",
       "   {'classificacoes': [{'id': '86',\n",
       "      'nome': 'Cor ou raça',\n",
       "      'categoria': {'2777': 'Preta'}},\n",
       "     {'id': '2', 'nome': 'Sexo', 'categoria': {'4': 'Homens'}},\n",
       "     {'id': '287', 'nome': 'Idade', 'categoria': {'93096': '65 a 69 anos'}}],\n",
       "    'series': [{'localidade': {'id': '3302403',\n",
       "       'nivel': {'id': 'N6', 'nome': 'Município'},\n",
       "       'nome': 'Macaé (RJ)'},\n",
       "      'serie': {'2022': '601'}}]},\n",
       "   {'classificacoes': [{'id': '86',\n",
       "      'nome': 'Cor ou raça',\n",
       "      'categoria': {'2777': 'Preta'}},\n",
       "     {'id': '2', 'nome': 'Sexo', 'categoria': {'4': 'Homens'}},\n",
       "     {'id': '287', 'nome': 'Idade', 'categoria': {'93097': '70 a 74 anos'}}],\n",
       "    'series': [{'localidade': {'id': '3302403',\n",
       "       'nivel': {'id': 'N6', 'nome': 'Município'},\n",
       "       'nome': 'Macaé (RJ)'},\n",
       "      'serie': {'2022': '320'}}]},\n",
       "   {'classificacoes': [{'id': '86',\n",
       "      'nome': 'Cor ou raça',\n",
       "      'categoria': {'2777': 'Preta'}},\n",
       "     {'id': '2', 'nome': 'Sexo', 'categoria': {'4': 'Homens'}},\n",
       "     {'id': '287', 'nome': 'Idade', 'categoria': {'93098': '75 a 79 anos'}}],\n",
       "    'series': [{'localidade': {'id': '3302403',\n",
       "       'nivel': {'id': 'N6', 'nome': 'Município'},\n",
       "       'nome': 'Macaé (RJ)'},\n",
       "      'serie': {'2022': '210'}}]},\n",
       "   {'classificacoes': [{'id': '86',\n",
       "      'nome': 'Cor ou raça',\n",
       "      'categoria': {'2777': 'Preta'}},\n",
       "     {'id': '2', 'nome': 'Sexo', 'categoria': {'4': 'Homens'}},\n",
       "     {'id': '287', 'nome': 'Idade', 'categoria': {'49108': '80 a 84 anos'}}],\n",
       "    'series': [{'localidade': {'id': '3302403',\n",
       "       'nivel': {'id': 'N6', 'nome': 'Município'},\n",
       "       'nome': 'Macaé (RJ)'},\n",
       "      'serie': {'2022': '96'}}]},\n",
       "   {'classificacoes': [{'id': '86',\n",
       "      'nome': 'Cor ou raça',\n",
       "      'categoria': {'2777': 'Preta'}},\n",
       "     {'id': '2', 'nome': 'Sexo', 'categoria': {'4': 'Homens'}},\n",
       "     {'id': '287', 'nome': 'Idade', 'categoria': {'49109': '85 a 89 anos'}}],\n",
       "    'series': [{'localidade': {'id': '3302403',\n",
       "       'nivel': {'id': 'N6', 'nome': 'Município'},\n",
       "       'nome': 'Macaé (RJ)'},\n",
       "      'serie': {'2022': '52'}}]},\n",
       "   {'classificacoes': [{'id': '86',\n",
       "      'nome': 'Cor ou raça',\n",
       "      'categoria': {'2777': 'Preta'}},\n",
       "     {'id': '2', 'nome': 'Sexo', 'categoria': {'4': 'Homens'}},\n",
       "     {'id': '287', 'nome': 'Idade', 'categoria': {'60040': '90 a 94 anos'}}],\n",
       "    'series': [{'localidade': {'id': '3302403',\n",
       "       'nivel': {'id': 'N6', 'nome': 'Município'},\n",
       "       'nome': 'Macaé (RJ)'},\n",
       "      'serie': {'2022': '23'}}]},\n",
       "   {'classificacoes': [{'id': '86',\n",
       "      'nome': 'Cor ou raça',\n",
       "      'categoria': {'2777': 'Preta'}},\n",
       "     {'id': '2', 'nome': 'Sexo', 'categoria': {'4': 'Homens'}},\n",
       "     {'id': '287', 'nome': 'Idade', 'categoria': {'60041': '95 a 99 anos'}}],\n",
       "    'series': [{'localidade': {'id': '3302403',\n",
       "       'nivel': {'id': 'N6', 'nome': 'Município'},\n",
       "       'nome': 'Macaé (RJ)'},\n",
       "      'serie': {'2022': '3'}}]},\n",
       "   {'classificacoes': [{'id': '86',\n",
       "      'nome': 'Cor ou raça',\n",
       "      'categoria': {'2777': 'Preta'}},\n",
       "     {'id': '2', 'nome': 'Sexo', 'categoria': {'4': 'Homens'}},\n",
       "     {'id': '287',\n",
       "      'nome': 'Idade',\n",
       "      'categoria': {'6653': '100 anos ou mais'}}],\n",
       "    'series': [{'localidade': {'id': '3302403',\n",
       "       'nivel': {'id': 'N6', 'nome': 'Município'},\n",
       "       'nome': 'Macaé (RJ)'},\n",
       "      'serie': {'2022': '1'}}]},\n",
       "   {'classificacoes': [{'id': '86',\n",
       "      'nome': 'Cor ou raça',\n",
       "      'categoria': {'2777': 'Preta'}},\n",
       "     {'id': '2', 'nome': 'Sexo', 'categoria': {'5': 'Mulheres'}},\n",
       "     {'id': '287', 'nome': 'Idade', 'categoria': {'93070': '0 a 4 anos'}}],\n",
       "    'series': [{'localidade': {'id': '3302403',\n",
       "       'nivel': {'id': 'N6', 'nome': 'Município'},\n",
       "       'nome': 'Macaé (RJ)'},\n",
       "      'serie': {'2022': '1010'}}]},\n",
       "   {'classificacoes': [{'id': '86',\n",
       "      'nome': 'Cor ou raça',\n",
       "      'categoria': {'2777': 'Preta'}},\n",
       "     {'id': '2', 'nome': 'Sexo', 'categoria': {'5': 'Mulheres'}},\n",
       "     {'id': '287', 'nome': 'Idade', 'categoria': {'93084': '5 a 9 anos'}}],\n",
       "    'series': [{'localidade': {'id': '3302403',\n",
       "       'nivel': {'id': 'N6', 'nome': 'Município'},\n",
       "       'nome': 'Macaé (RJ)'},\n",
       "      'serie': {'2022': '1359'}}]},\n",
       "   {'classificacoes': [{'id': '86',\n",
       "      'nome': 'Cor ou raça',\n",
       "      'categoria': {'2777': 'Preta'}},\n",
       "     {'id': '2', 'nome': 'Sexo', 'categoria': {'5': 'Mulheres'}},\n",
       "     {'id': '287', 'nome': 'Idade', 'categoria': {'93085': '10 a 14 anos'}}],\n",
       "    'series': [{'localidade': {'id': '3302403',\n",
       "       'nivel': {'id': 'N6', 'nome': 'Município'},\n",
       "       'nome': 'Macaé (RJ)'},\n",
       "      'serie': {'2022': '1239'}}]},\n",
       "   {'classificacoes': [{'id': '86',\n",
       "      'nome': 'Cor ou raça',\n",
       "      'categoria': {'2777': 'Preta'}},\n",
       "     {'id': '2', 'nome': 'Sexo', 'categoria': {'5': 'Mulheres'}},\n",
       "     {'id': '287', 'nome': 'Idade', 'categoria': {'93086': '15 a 19 anos'}}],\n",
       "    'series': [{'localidade': {'id': '3302403',\n",
       "       'nivel': {'id': 'N6', 'nome': 'Município'},\n",
       "       'nome': 'Macaé (RJ)'},\n",
       "      'serie': {'2022': '1404'}}]},\n",
       "   {'classificacoes': [{'id': '86',\n",
       "      'nome': 'Cor ou raça',\n",
       "      'categoria': {'2777': 'Preta'}},\n",
       "     {'id': '2', 'nome': 'Sexo', 'categoria': {'5': 'Mulheres'}},\n",
       "     {'id': '287', 'nome': 'Idade', 'categoria': {'93087': '20 a 24 anos'}}],\n",
       "    'series': [{'localidade': {'id': '3302403',\n",
       "       'nivel': {'id': 'N6', 'nome': 'Município'},\n",
       "       'nome': 'Macaé (RJ)'},\n",
       "      'serie': {'2022': '1795'}}]},\n",
       "   {'classificacoes': [{'id': '86',\n",
       "      'nome': 'Cor ou raça',\n",
       "      'categoria': {'2777': 'Preta'}},\n",
       "     {'id': '2', 'nome': 'Sexo', 'categoria': {'5': 'Mulheres'}},\n",
       "     {'id': '287', 'nome': 'Idade', 'categoria': {'93088': '25 a 29 anos'}}],\n",
       "    'series': [{'localidade': {'id': '3302403',\n",
       "       'nivel': {'id': 'N6', 'nome': 'Município'},\n",
       "       'nome': 'Macaé (RJ)'},\n",
       "      'serie': {'2022': '1966'}}]},\n",
       "   {'classificacoes': [{'id': '86',\n",
       "      'nome': 'Cor ou raça',\n",
       "      'categoria': {'2777': 'Preta'}},\n",
       "     {'id': '2', 'nome': 'Sexo', 'categoria': {'5': 'Mulheres'}},\n",
       "     {'id': '287', 'nome': 'Idade', 'categoria': {'93089': '30 a 34 anos'}}],\n",
       "    'series': [{'localidade': {'id': '3302403',\n",
       "       'nivel': {'id': 'N6', 'nome': 'Município'},\n",
       "       'nome': 'Macaé (RJ)'},\n",
       "      'serie': {'2022': '1994'}}]},\n",
       "   {'classificacoes': [{'id': '86',\n",
       "      'nome': 'Cor ou raça',\n",
       "      'categoria': {'2777': 'Preta'}},\n",
       "     {'id': '2', 'nome': 'Sexo', 'categoria': {'5': 'Mulheres'}},\n",
       "     {'id': '287', 'nome': 'Idade', 'categoria': {'93090': '35 a 39 anos'}}],\n",
       "    'series': [{'localidade': {'id': '3302403',\n",
       "       'nivel': {'id': 'N6', 'nome': 'Município'},\n",
       "       'nome': 'Macaé (RJ)'},\n",
       "      'serie': {'2022': '2174'}}]},\n",
       "   {'classificacoes': [{'id': '86',\n",
       "      'nome': 'Cor ou raça',\n",
       "      'categoria': {'2777': 'Preta'}},\n",
       "     {'id': '2', 'nome': 'Sexo', 'categoria': {'5': 'Mulheres'}},\n",
       "     {'id': '287', 'nome': 'Idade', 'categoria': {'93091': '40 a 44 anos'}}],\n",
       "    'series': [{'localidade': {'id': '3302403',\n",
       "       'nivel': {'id': 'N6', 'nome': 'Município'},\n",
       "       'nome': 'Macaé (RJ)'},\n",
       "      'serie': {'2022': '1970'}}]},\n",
       "   {'classificacoes': [{'id': '86',\n",
       "      'nome': 'Cor ou raça',\n",
       "      'categoria': {'2777': 'Preta'}},\n",
       "     {'id': '2', 'nome': 'Sexo', 'categoria': {'5': 'Mulheres'}},\n",
       "     {'id': '287', 'nome': 'Idade', 'categoria': {'93092': '45 a 49 anos'}}],\n",
       "    'series': [{'localidade': {'id': '3302403',\n",
       "       'nivel': {'id': 'N6', 'nome': 'Município'},\n",
       "       'nome': 'Macaé (RJ)'},\n",
       "      'serie': {'2022': '1595'}}]},\n",
       "   {'classificacoes': [{'id': '86',\n",
       "      'nome': 'Cor ou raça',\n",
       "      'categoria': {'2777': 'Preta'}},\n",
       "     {'id': '2', 'nome': 'Sexo', 'categoria': {'5': 'Mulheres'}},\n",
       "     {'id': '287', 'nome': 'Idade', 'categoria': {'93093': '50 a 54 anos'}}],\n",
       "    'series': [{'localidade': {'id': '3302403',\n",
       "       'nivel': {'id': 'N6', 'nome': 'Município'},\n",
       "       'nome': 'Macaé (RJ)'},\n",
       "      'serie': {'2022': '1290'}}]},\n",
       "   {'classificacoes': [{'id': '86',\n",
       "      'nome': 'Cor ou raça',\n",
       "      'categoria': {'2777': 'Preta'}},\n",
       "     {'id': '2', 'nome': 'Sexo', 'categoria': {'5': 'Mulheres'}},\n",
       "     {'id': '287', 'nome': 'Idade', 'categoria': {'93094': '55 a 59 anos'}}],\n",
       "    'series': [{'localidade': {'id': '3302403',\n",
       "       'nivel': {'id': 'N6', 'nome': 'Município'},\n",
       "       'nome': 'Macaé (RJ)'},\n",
       "      'serie': {'2022': '1189'}}]},\n",
       "   {'classificacoes': [{'id': '86',\n",
       "      'nome': 'Cor ou raça',\n",
       "      'categoria': {'2777': 'Preta'}},\n",
       "     {'id': '2', 'nome': 'Sexo', 'categoria': {'5': 'Mulheres'}},\n",
       "     {'id': '287', 'nome': 'Idade', 'categoria': {'93095': '60 a 64 anos'}}],\n",
       "    'series': [{'localidade': {'id': '3302403',\n",
       "       'nivel': {'id': 'N6', 'nome': 'Município'},\n",
       "       'nome': 'Macaé (RJ)'},\n",
       "      'serie': {'2022': '946'}}]},\n",
       "   {'classificacoes': [{'id': '86',\n",
       "      'nome': 'Cor ou raça',\n",
       "      'categoria': {'2777': 'Preta'}},\n",
       "     {'id': '2', 'nome': 'Sexo', 'categoria': {'5': 'Mulheres'}},\n",
       "     {'id': '287', 'nome': 'Idade', 'categoria': {'93096': '65 a 69 anos'}}],\n",
       "    'series': [{'localidade': {'id': '3302403',\n",
       "       'nivel': {'id': 'N6', 'nome': 'Município'},\n",
       "       'nome': 'Macaé (RJ)'},\n",
       "      'serie': {'2022': '674'}}]},\n",
       "   {'classificacoes': [{'id': '86',\n",
       "      'nome': 'Cor ou raça',\n",
       "      'categoria': {'2777': 'Preta'}},\n",
       "     {'id': '2', 'nome': 'Sexo', 'categoria': {'5': 'Mulheres'}},\n",
       "     {'id': '287', 'nome': 'Idade', 'categoria': {'93097': '70 a 74 anos'}}],\n",
       "    'series': [{'localidade': {'id': '3302403',\n",
       "       'nivel': {'id': 'N6', 'nome': 'Município'},\n",
       "       'nome': 'Macaé (RJ)'},\n",
       "      'serie': {'2022': '443'}}]},\n",
       "   {'classificacoes': [{'id': '86',\n",
       "      'nome': 'Cor ou raça',\n",
       "      'categoria': {'2777': 'Preta'}},\n",
       "     {'id': '2', 'nome': 'Sexo', 'categoria': {'5': 'Mulheres'}},\n",
       "     {'id': '287', 'nome': 'Idade', 'categoria': {'93098': '75 a 79 anos'}}],\n",
       "    'series': [{'localidade': {'id': '3302403',\n",
       "       'nivel': {'id': 'N6', 'nome': 'Município'},\n",
       "       'nome': 'Macaé (RJ)'},\n",
       "      'serie': {'2022': '238'}}]},\n",
       "   {'classificacoes': [{'id': '86',\n",
       "      'nome': 'Cor ou raça',\n",
       "      'categoria': {'2777': 'Preta'}},\n",
       "     {'id': '2', 'nome': 'Sexo', 'categoria': {'5': 'Mulheres'}},\n",
       "     {'id': '287', 'nome': 'Idade', 'categoria': {'49108': '80 a 84 anos'}}],\n",
       "    'series': [{'localidade': {'id': '3302403',\n",
       "       'nivel': {'id': 'N6', 'nome': 'Município'},\n",
       "       'nome': 'Macaé (RJ)'},\n",
       "      'serie': {'2022': '180'}}]},\n",
       "   {'classificacoes': [{'id': '86',\n",
       "      'nome': 'Cor ou raça',\n",
       "      'categoria': {'2777': 'Preta'}},\n",
       "     {'id': '2', 'nome': 'Sexo', 'categoria': {'5': 'Mulheres'}},\n",
       "     {'id': '287', 'nome': 'Idade', 'categoria': {'49109': '85 a 89 anos'}}],\n",
       "    'series': [{'localidade': {'id': '3302403',\n",
       "       'nivel': {'id': 'N6', 'nome': 'Município'},\n",
       "       'nome': 'Macaé (RJ)'},\n",
       "      'serie': {'2022': '86'}}]},\n",
       "   {'classificacoes': [{'id': '86',\n",
       "      'nome': 'Cor ou raça',\n",
       "      'categoria': {'2777': 'Preta'}},\n",
       "     {'id': '2', 'nome': 'Sexo', 'categoria': {'5': 'Mulheres'}},\n",
       "     {'id': '287', 'nome': 'Idade', 'categoria': {'60040': '90 a 94 anos'}}],\n",
       "    'series': [{'localidade': {'id': '3302403',\n",
       "       'nivel': {'id': 'N6', 'nome': 'Município'},\n",
       "       'nome': 'Macaé (RJ)'},\n",
       "      'serie': {'2022': '30'}}]},\n",
       "   {'classificacoes': [{'id': '86',\n",
       "      'nome': 'Cor ou raça',\n",
       "      'categoria': {'2777': 'Preta'}},\n",
       "     {'id': '2', 'nome': 'Sexo', 'categoria': {'5': 'Mulheres'}},\n",
       "     {'id': '287', 'nome': 'Idade', 'categoria': {'60041': '95 a 99 anos'}}],\n",
       "    'series': [{'localidade': {'id': '3302403',\n",
       "       'nivel': {'id': 'N6', 'nome': 'Município'},\n",
       "       'nome': 'Macaé (RJ)'},\n",
       "      'serie': {'2022': '10'}}]},\n",
       "   {'classificacoes': [{'id': '86',\n",
       "      'nome': 'Cor ou raça',\n",
       "      'categoria': {'2777': 'Preta'}},\n",
       "     {'id': '2', 'nome': 'Sexo', 'categoria': {'5': 'Mulheres'}},\n",
       "     {'id': '287',\n",
       "      'nome': 'Idade',\n",
       "      'categoria': {'6653': '100 anos ou mais'}}],\n",
       "    'series': [{'localidade': {'id': '3302403',\n",
       "       'nivel': {'id': 'N6', 'nome': 'Município'},\n",
       "       'nome': 'Macaé (RJ)'},\n",
       "      'serie': {'2022': '5'}}]},\n",
       "   {'classificacoes': [{'id': '86',\n",
       "      'nome': 'Cor ou raça',\n",
       "      'categoria': {'2778': 'Amarela'}},\n",
       "     {'id': '2', 'nome': 'Sexo', 'categoria': {'4': 'Homens'}},\n",
       "     {'id': '287', 'nome': 'Idade', 'categoria': {'93070': '0 a 4 anos'}}],\n",
       "    'series': [{'localidade': {'id': '3302403',\n",
       "       'nivel': {'id': 'N6', 'nome': 'Município'},\n",
       "       'nome': 'Macaé (RJ)'},\n",
       "      'serie': {'2022': '17'}}]},\n",
       "   {'classificacoes': [{'id': '86',\n",
       "      'nome': 'Cor ou raça',\n",
       "      'categoria': {'2778': 'Amarela'}},\n",
       "     {'id': '2', 'nome': 'Sexo', 'categoria': {'4': 'Homens'}},\n",
       "     {'id': '287', 'nome': 'Idade', 'categoria': {'93084': '5 a 9 anos'}}],\n",
       "    'series': [{'localidade': {'id': '3302403',\n",
       "       'nivel': {'id': 'N6', 'nome': 'Município'},\n",
       "       'nome': 'Macaé (RJ)'},\n",
       "      'serie': {'2022': '17'}}]},\n",
       "   {'classificacoes': [{'id': '86',\n",
       "      'nome': 'Cor ou raça',\n",
       "      'categoria': {'2778': 'Amarela'}},\n",
       "     {'id': '2', 'nome': 'Sexo', 'categoria': {'4': 'Homens'}},\n",
       "     {'id': '287', 'nome': 'Idade', 'categoria': {'93085': '10 a 14 anos'}}],\n",
       "    'series': [{'localidade': {'id': '3302403',\n",
       "       'nivel': {'id': 'N6', 'nome': 'Município'},\n",
       "       'nome': 'Macaé (RJ)'},\n",
       "      'serie': {'2022': '14'}}]},\n",
       "   {'classificacoes': [{'id': '86',\n",
       "      'nome': 'Cor ou raça',\n",
       "      'categoria': {'2778': 'Amarela'}},\n",
       "     {'id': '2', 'nome': 'Sexo', 'categoria': {'4': 'Homens'}},\n",
       "     {'id': '287', 'nome': 'Idade', 'categoria': {'93086': '15 a 19 anos'}}],\n",
       "    'series': [{'localidade': {'id': '3302403',\n",
       "       'nivel': {'id': 'N6', 'nome': 'Município'},\n",
       "       'nome': 'Macaé (RJ)'},\n",
       "      'serie': {'2022': '12'}}]},\n",
       "   {'classificacoes': [{'id': '86',\n",
       "      'nome': 'Cor ou raça',\n",
       "      'categoria': {'2778': 'Amarela'}},\n",
       "     {'id': '2', 'nome': 'Sexo', 'categoria': {'4': 'Homens'}},\n",
       "     {'id': '287', 'nome': 'Idade', 'categoria': {'93087': '20 a 24 anos'}}],\n",
       "    'series': [{'localidade': {'id': '3302403',\n",
       "       'nivel': {'id': 'N6', 'nome': 'Município'},\n",
       "       'nome': 'Macaé (RJ)'},\n",
       "      'serie': {'2022': '11'}}]},\n",
       "   {'classificacoes': [{'id': '86',\n",
       "      'nome': 'Cor ou raça',\n",
       "      'categoria': {'2778': 'Amarela'}},\n",
       "     {'id': '2', 'nome': 'Sexo', 'categoria': {'4': 'Homens'}},\n",
       "     {'id': '287', 'nome': 'Idade', 'categoria': {'93088': '25 a 29 anos'}}],\n",
       "    'series': [{'localidade': {'id': '3302403',\n",
       "       'nivel': {'id': 'N6', 'nome': 'Município'},\n",
       "       'nome': 'Macaé (RJ)'},\n",
       "      'serie': {'2022': '10'}}]},\n",
       "   {'classificacoes': [{'id': '86',\n",
       "      'nome': 'Cor ou raça',\n",
       "      'categoria': {'2778': 'Amarela'}},\n",
       "     {'id': '2', 'nome': 'Sexo', 'categoria': {'4': 'Homens'}},\n",
       "     {'id': '287', 'nome': 'Idade', 'categoria': {'93089': '30 a 34 anos'}}],\n",
       "    'series': [{'localidade': {'id': '3302403',\n",
       "       'nivel': {'id': 'N6', 'nome': 'Município'},\n",
       "       'nome': 'Macaé (RJ)'},\n",
       "      'serie': {'2022': '14'}}]},\n",
       "   {'classificacoes': [{'id': '86',\n",
       "      'nome': 'Cor ou raça',\n",
       "      'categoria': {'2778': 'Amarela'}},\n",
       "     {'id': '2', 'nome': 'Sexo', 'categoria': {'4': 'Homens'}},\n",
       "     {'id': '287', 'nome': 'Idade', 'categoria': {'93090': '35 a 39 anos'}}],\n",
       "    'series': [{'localidade': {'id': '3302403',\n",
       "       'nivel': {'id': 'N6', 'nome': 'Município'},\n",
       "       'nome': 'Macaé (RJ)'},\n",
       "      'serie': {'2022': '31'}}]},\n",
       "   {'classificacoes': [{'id': '86',\n",
       "      'nome': 'Cor ou raça',\n",
       "      'categoria': {'2778': 'Amarela'}},\n",
       "     {'id': '2', 'nome': 'Sexo', 'categoria': {'4': 'Homens'}},\n",
       "     {'id': '287', 'nome': 'Idade', 'categoria': {'93091': '40 a 44 anos'}}],\n",
       "    'series': [{'localidade': {'id': '3302403',\n",
       "       'nivel': {'id': 'N6', 'nome': 'Município'},\n",
       "       'nome': 'Macaé (RJ)'},\n",
       "      'serie': {'2022': '19'}}]},\n",
       "   {'classificacoes': [{'id': '86',\n",
       "      'nome': 'Cor ou raça',\n",
       "      'categoria': {'2778': 'Amarela'}},\n",
       "     {'id': '2', 'nome': 'Sexo', 'categoria': {'4': 'Homens'}},\n",
       "     {'id': '287', 'nome': 'Idade', 'categoria': {'93092': '45 a 49 anos'}}],\n",
       "    'series': [{'localidade': {'id': '3302403',\n",
       "       'nivel': {'id': 'N6', 'nome': 'Município'},\n",
       "       'nome': 'Macaé (RJ)'},\n",
       "      'serie': {'2022': '14'}}]},\n",
       "   {'classificacoes': [{'id': '86',\n",
       "      'nome': 'Cor ou raça',\n",
       "      'categoria': {'2778': 'Amarela'}},\n",
       "     {'id': '2', 'nome': 'Sexo', 'categoria': {'4': 'Homens'}},\n",
       "     {'id': '287', 'nome': 'Idade', 'categoria': {'93093': '50 a 54 anos'}}],\n",
       "    'series': [{'localidade': {'id': '3302403',\n",
       "       'nivel': {'id': 'N6', 'nome': 'Município'},\n",
       "       'nome': 'Macaé (RJ)'},\n",
       "      'serie': {'2022': '8'}}]},\n",
       "   {'classificacoes': [{'id': '86',\n",
       "      'nome': 'Cor ou raça',\n",
       "      'categoria': {'2778': 'Amarela'}},\n",
       "     {'id': '2', 'nome': 'Sexo', 'categoria': {'4': 'Homens'}},\n",
       "     {'id': '287', 'nome': 'Idade', 'categoria': {'93094': '55 a 59 anos'}}],\n",
       "    'series': [{'localidade': {'id': '3302403',\n",
       "       'nivel': {'id': 'N6', 'nome': 'Município'},\n",
       "       'nome': 'Macaé (RJ)'},\n",
       "      'serie': {'2022': '9'}}]},\n",
       "   {'classificacoes': [{'id': '86',\n",
       "      'nome': 'Cor ou raça',\n",
       "      'categoria': {'2778': 'Amarela'}},\n",
       "     {'id': '2', 'nome': 'Sexo', 'categoria': {'4': 'Homens'}},\n",
       "     {'id': '287', 'nome': 'Idade', 'categoria': {'93095': '60 a 64 anos'}}],\n",
       "    'series': [{'localidade': {'id': '3302403',\n",
       "       'nivel': {'id': 'N6', 'nome': 'Município'},\n",
       "       'nome': 'Macaé (RJ)'},\n",
       "      'serie': {'2022': '6'}}]},\n",
       "   {'classificacoes': [{'id': '86',\n",
       "      'nome': 'Cor ou raça',\n",
       "      'categoria': {'2778': 'Amarela'}},\n",
       "     {'id': '2', 'nome': 'Sexo', 'categoria': {'4': 'Homens'}},\n",
       "     {'id': '287', 'nome': 'Idade', 'categoria': {'93096': '65 a 69 anos'}}],\n",
       "    'series': [{'localidade': {'id': '3302403',\n",
       "       'nivel': {'id': 'N6', 'nome': 'Município'},\n",
       "       'nome': 'Macaé (RJ)'},\n",
       "      'serie': {'2022': '11'}}]},\n",
       "   {'classificacoes': [{'id': '86',\n",
       "      'nome': 'Cor ou raça',\n",
       "      'categoria': {'2778': 'Amarela'}},\n",
       "     {'id': '2', 'nome': 'Sexo', 'categoria': {'4': 'Homens'}},\n",
       "     {'id': '287', 'nome': 'Idade', 'categoria': {'93097': '70 a 74 anos'}}],\n",
       "    'series': [{'localidade': {'id': '3302403',\n",
       "       'nivel': {'id': 'N6', 'nome': 'Município'},\n",
       "       'nome': 'Macaé (RJ)'},\n",
       "      'serie': {'2022': '7'}}]},\n",
       "   {'classificacoes': [{'id': '86',\n",
       "      'nome': 'Cor ou raça',\n",
       "      'categoria': {'2778': 'Amarela'}},\n",
       "     {'id': '2', 'nome': 'Sexo', 'categoria': {'4': 'Homens'}},\n",
       "     {'id': '287', 'nome': 'Idade', 'categoria': {'93098': '75 a 79 anos'}}],\n",
       "    'series': [{'localidade': {'id': '3302403',\n",
       "       'nivel': {'id': 'N6', 'nome': 'Município'},\n",
       "       'nome': 'Macaé (RJ)'},\n",
       "      'serie': {'2022': '2'}}]},\n",
       "   {'classificacoes': [{'id': '86',\n",
       "      'nome': 'Cor ou raça',\n",
       "      'categoria': {'2778': 'Amarela'}},\n",
       "     {'id': '2', 'nome': 'Sexo', 'categoria': {'4': 'Homens'}},\n",
       "     {'id': '287', 'nome': 'Idade', 'categoria': {'49108': '80 a 84 anos'}}],\n",
       "    'series': [{'localidade': {'id': '3302403',\n",
       "       'nivel': {'id': 'N6', 'nome': 'Município'},\n",
       "       'nome': 'Macaé (RJ)'},\n",
       "      'serie': {'2022': '3'}}]},\n",
       "   {'classificacoes': [{'id': '86',\n",
       "      'nome': 'Cor ou raça',\n",
       "      'categoria': {'2778': 'Amarela'}},\n",
       "     {'id': '2', 'nome': 'Sexo', 'categoria': {'4': 'Homens'}},\n",
       "     {'id': '287', 'nome': 'Idade', 'categoria': {'49109': '85 a 89 anos'}}],\n",
       "    'series': [{'localidade': {'id': '3302403',\n",
       "       'nivel': {'id': 'N6', 'nome': 'Município'},\n",
       "       'nome': 'Macaé (RJ)'},\n",
       "      'serie': {'2022': '1'}}]},\n",
       "   {'classificacoes': [{'id': '86',\n",
       "      'nome': 'Cor ou raça',\n",
       "      'categoria': {'2778': 'Amarela'}},\n",
       "     {'id': '2', 'nome': 'Sexo', 'categoria': {'4': 'Homens'}},\n",
       "     {'id': '287', 'nome': 'Idade', 'categoria': {'60040': '90 a 94 anos'}}],\n",
       "    'series': [{'localidade': {'id': '3302403',\n",
       "       'nivel': {'id': 'N6', 'nome': 'Município'},\n",
       "       'nome': 'Macaé (RJ)'},\n",
       "      'serie': {'2022': '-'}}]},\n",
       "   {'classificacoes': [{'id': '86',\n",
       "      'nome': 'Cor ou raça',\n",
       "      'categoria': {'2778': 'Amarela'}},\n",
       "     {'id': '2', 'nome': 'Sexo', 'categoria': {'4': 'Homens'}},\n",
       "     {'id': '287', 'nome': 'Idade', 'categoria': {'60041': '95 a 99 anos'}}],\n",
       "    'series': [{'localidade': {'id': '3302403',\n",
       "       'nivel': {'id': 'N6', 'nome': 'Município'},\n",
       "       'nome': 'Macaé (RJ)'},\n",
       "      'serie': {'2022': '-'}}]},\n",
       "   {'classificacoes': [{'id': '86',\n",
       "      'nome': 'Cor ou raça',\n",
       "      'categoria': {'2778': 'Amarela'}},\n",
       "     {'id': '2', 'nome': 'Sexo', 'categoria': {'4': 'Homens'}},\n",
       "     {'id': '287',\n",
       "      'nome': 'Idade',\n",
       "      'categoria': {'6653': '100 anos ou mais'}}],\n",
       "    'series': [{'localidade': {'id': '3302403',\n",
       "       'nivel': {'id': 'N6', 'nome': 'Município'},\n",
       "       'nome': 'Macaé (RJ)'},\n",
       "      'serie': {'2022': '-'}}]},\n",
       "   {'classificacoes': [{'id': '86',\n",
       "      'nome': 'Cor ou raça',\n",
       "      'categoria': {'2778': 'Amarela'}},\n",
       "     {'id': '2', 'nome': 'Sexo', 'categoria': {'5': 'Mulheres'}},\n",
       "     {'id': '287', 'nome': 'Idade', 'categoria': {'93070': '0 a 4 anos'}}],\n",
       "    'series': [{'localidade': {'id': '3302403',\n",
       "       'nivel': {'id': 'N6', 'nome': 'Município'},\n",
       "       'nome': 'Macaé (RJ)'},\n",
       "      'serie': {'2022': '17'}}]},\n",
       "   {'classificacoes': [{'id': '86',\n",
       "      'nome': 'Cor ou raça',\n",
       "      'categoria': {'2778': 'Amarela'}},\n",
       "     {'id': '2', 'nome': 'Sexo', 'categoria': {'5': 'Mulheres'}},\n",
       "     {'id': '287', 'nome': 'Idade', 'categoria': {'93084': '5 a 9 anos'}}],\n",
       "    'series': [{'localidade': {'id': '3302403',\n",
       "       'nivel': {'id': 'N6', 'nome': 'Município'},\n",
       "       'nome': 'Macaé (RJ)'},\n",
       "      'serie': {'2022': '10'}}]},\n",
       "   {'classificacoes': [{'id': '86',\n",
       "      'nome': 'Cor ou raça',\n",
       "      'categoria': {'2778': 'Amarela'}},\n",
       "     {'id': '2', 'nome': 'Sexo', 'categoria': {'5': 'Mulheres'}},\n",
       "     {'id': '287', 'nome': 'Idade', 'categoria': {'93085': '10 a 14 anos'}}],\n",
       "    'series': [{'localidade': {'id': '3302403',\n",
       "       'nivel': {'id': 'N6', 'nome': 'Município'},\n",
       "       'nome': 'Macaé (RJ)'},\n",
       "      'serie': {'2022': '10'}}]},\n",
       "   {'classificacoes': [{'id': '86',\n",
       "      'nome': 'Cor ou raça',\n",
       "      'categoria': {'2778': 'Amarela'}},\n",
       "     {'id': '2', 'nome': 'Sexo', 'categoria': {'5': 'Mulheres'}},\n",
       "     {'id': '287', 'nome': 'Idade', 'categoria': {'93086': '15 a 19 anos'}}],\n",
       "    'series': [{'localidade': {'id': '3302403',\n",
       "       'nivel': {'id': 'N6', 'nome': 'Município'},\n",
       "       'nome': 'Macaé (RJ)'},\n",
       "      'serie': {'2022': '11'}}]},\n",
       "   {'classificacoes': [{'id': '86',\n",
       "      'nome': 'Cor ou raça',\n",
       "      'categoria': {'2778': 'Amarela'}},\n",
       "     {'id': '2', 'nome': 'Sexo', 'categoria': {'5': 'Mulheres'}},\n",
       "     {'id': '287', 'nome': 'Idade', 'categoria': {'93087': '20 a 24 anos'}}],\n",
       "    'series': [{'localidade': {'id': '3302403',\n",
       "       'nivel': {'id': 'N6', 'nome': 'Município'},\n",
       "       'nome': 'Macaé (RJ)'},\n",
       "      'serie': {'2022': '19'}}]},\n",
       "   {'classificacoes': [{'id': '86',\n",
       "      'nome': 'Cor ou raça',\n",
       "      'categoria': {'2778': 'Amarela'}},\n",
       "     {'id': '2', 'nome': 'Sexo', 'categoria': {'5': 'Mulheres'}},\n",
       "     {'id': '287', 'nome': 'Idade', 'categoria': {'93088': '25 a 29 anos'}}],\n",
       "    'series': [{'localidade': {'id': '3302403',\n",
       "       'nivel': {'id': 'N6', 'nome': 'Município'},\n",
       "       'nome': 'Macaé (RJ)'},\n",
       "      'serie': {'2022': '15'}}]},\n",
       "   {'classificacoes': [{'id': '86',\n",
       "      'nome': 'Cor ou raça',\n",
       "      'categoria': {'2778': 'Amarela'}},\n",
       "     {'id': '2', 'nome': 'Sexo', 'categoria': {'5': 'Mulheres'}},\n",
       "     {'id': '287', 'nome': 'Idade', 'categoria': {'93089': '30 a 34 anos'}}],\n",
       "    'series': [{'localidade': {'id': '3302403',\n",
       "       'nivel': {'id': 'N6', 'nome': 'Município'},\n",
       "       'nome': 'Macaé (RJ)'},\n",
       "      'serie': {'2022': '23'}}]},\n",
       "   {'classificacoes': [{'id': '86',\n",
       "      'nome': 'Cor ou raça',\n",
       "      'categoria': {'2778': 'Amarela'}},\n",
       "     {'id': '2', 'nome': 'Sexo', 'categoria': {'5': 'Mulheres'}},\n",
       "     {'id': '287', 'nome': 'Idade', 'categoria': {'93090': '35 a 39 anos'}}],\n",
       "    'series': [{'localidade': {'id': '3302403',\n",
       "       'nivel': {'id': 'N6', 'nome': 'Município'},\n",
       "       'nome': 'Macaé (RJ)'},\n",
       "      'serie': {'2022': '24'}}]},\n",
       "   {'classificacoes': [{'id': '86',\n",
       "      'nome': 'Cor ou raça',\n",
       "      'categoria': {'2778': 'Amarela'}},\n",
       "     {'id': '2', 'nome': 'Sexo', 'categoria': {'5': 'Mulheres'}},\n",
       "     {'id': '287', 'nome': 'Idade', 'categoria': {'93091': '40 a 44 anos'}}],\n",
       "    'series': [{'localidade': {'id': '3302403',\n",
       "       'nivel': {'id': 'N6', 'nome': 'Município'},\n",
       "       'nome': 'Macaé (RJ)'},\n",
       "      'serie': {'2022': '32'}}]},\n",
       "   {'classificacoes': [{'id': '86',\n",
       "      'nome': 'Cor ou raça',\n",
       "      'categoria': {'2778': 'Amarela'}},\n",
       "     {'id': '2', 'nome': 'Sexo', 'categoria': {'5': 'Mulheres'}},\n",
       "     {'id': '287', 'nome': 'Idade', 'categoria': {'93092': '45 a 49 anos'}}],\n",
       "    'series': [{'localidade': {'id': '3302403',\n",
       "       'nivel': {'id': 'N6', 'nome': 'Município'},\n",
       "       'nome': 'Macaé (RJ)'},\n",
       "      'serie': {'2022': '22'}}]},\n",
       "   {'classificacoes': [{'id': '86',\n",
       "      'nome': 'Cor ou raça',\n",
       "      'categoria': {'2778': 'Amarela'}},\n",
       "     {'id': '2', 'nome': 'Sexo', 'categoria': {'5': 'Mulheres'}},\n",
       "     {'id': '287', 'nome': 'Idade', 'categoria': {'93093': '50 a 54 anos'}}],\n",
       "    'series': [{'localidade': {'id': '3302403',\n",
       "       'nivel': {'id': 'N6', 'nome': 'Município'},\n",
       "       'nome': 'Macaé (RJ)'},\n",
       "      'serie': {'2022': '9'}}]},\n",
       "   {'classificacoes': [{'id': '86',\n",
       "      'nome': 'Cor ou raça',\n",
       "      'categoria': {'2778': 'Amarela'}},\n",
       "     {'id': '2', 'nome': 'Sexo', 'categoria': {'5': 'Mulheres'}},\n",
       "     {'id': '287', 'nome': 'Idade', 'categoria': {'93094': '55 a 59 anos'}}],\n",
       "    'series': [{'localidade': {'id': '3302403',\n",
       "       'nivel': {'id': 'N6', 'nome': 'Município'},\n",
       "       'nome': 'Macaé (RJ)'},\n",
       "      'serie': {'2022': '12'}}]},\n",
       "   {'classificacoes': [{'id': '86',\n",
       "      'nome': 'Cor ou raça',\n",
       "      'categoria': {'2778': 'Amarela'}},\n",
       "     {'id': '2', 'nome': 'Sexo', 'categoria': {'5': 'Mulheres'}},\n",
       "     {'id': '287', 'nome': 'Idade', 'categoria': {'93095': '60 a 64 anos'}}],\n",
       "    'series': [{'localidade': {'id': '3302403',\n",
       "       'nivel': {'id': 'N6', 'nome': 'Município'},\n",
       "       'nome': 'Macaé (RJ)'},\n",
       "      'serie': {'2022': '12'}}]},\n",
       "   {'classificacoes': [{'id': '86',\n",
       "      'nome': 'Cor ou raça',\n",
       "      'categoria': {'2778': 'Amarela'}},\n",
       "     {'id': '2', 'nome': 'Sexo', 'categoria': {'5': 'Mulheres'}},\n",
       "     {'id': '287', 'nome': 'Idade', 'categoria': {'93096': '65 a 69 anos'}}],\n",
       "    'series': [{'localidade': {'id': '3302403',\n",
       "       'nivel': {'id': 'N6', 'nome': 'Município'},\n",
       "       'nome': 'Macaé (RJ)'},\n",
       "      'serie': {'2022': '9'}}]},\n",
       "   {'classificacoes': [{'id': '86',\n",
       "      'nome': 'Cor ou raça',\n",
       "      'categoria': {'2778': 'Amarela'}},\n",
       "     {'id': '2', 'nome': 'Sexo', 'categoria': {'5': 'Mulheres'}},\n",
       "     {'id': '287', 'nome': 'Idade', 'categoria': {'93097': '70 a 74 anos'}}],\n",
       "    'series': [{'localidade': {'id': '3302403',\n",
       "       'nivel': {'id': 'N6', 'nome': 'Município'},\n",
       "       'nome': 'Macaé (RJ)'},\n",
       "      'serie': {'2022': '6'}}]},\n",
       "   {'classificacoes': [{'id': '86',\n",
       "      'nome': 'Cor ou raça',\n",
       "      'categoria': {'2778': 'Amarela'}},\n",
       "     {'id': '2', 'nome': 'Sexo', 'categoria': {'5': 'Mulheres'}},\n",
       "     {'id': '287', 'nome': 'Idade', 'categoria': {'93098': '75 a 79 anos'}}],\n",
       "    'series': [{'localidade': {'id': '3302403',\n",
       "       'nivel': {'id': 'N6', 'nome': 'Município'},\n",
       "       'nome': 'Macaé (RJ)'},\n",
       "      'serie': {'2022': '6'}}]},\n",
       "   {'classificacoes': [{'id': '86',\n",
       "      'nome': 'Cor ou raça',\n",
       "      'categoria': {'2778': 'Amarela'}},\n",
       "     {'id': '2', 'nome': 'Sexo', 'categoria': {'5': 'Mulheres'}},\n",
       "     {'id': '287', 'nome': 'Idade', 'categoria': {'49108': '80 a 84 anos'}}],\n",
       "    'series': [{'localidade': {'id': '3302403',\n",
       "       'nivel': {'id': 'N6', 'nome': 'Município'},\n",
       "       'nome': 'Macaé (RJ)'},\n",
       "      'serie': {'2022': '1'}}]},\n",
       "   {'classificacoes': [{'id': '86',\n",
       "      'nome': 'Cor ou raça',\n",
       "      'categoria': {'2778': 'Amarela'}},\n",
       "     {'id': '2', 'nome': 'Sexo', 'categoria': {'5': 'Mulheres'}},\n",
       "     {'id': '287', 'nome': 'Idade', 'categoria': {'49109': '85 a 89 anos'}}],\n",
       "    'series': [{'localidade': {'id': '3302403',\n",
       "       'nivel': {'id': 'N6', 'nome': 'Município'},\n",
       "       'nome': 'Macaé (RJ)'},\n",
       "      'serie': {'2022': '-'}}]},\n",
       "   {'classificacoes': [{'id': '86',\n",
       "      'nome': 'Cor ou raça',\n",
       "      'categoria': {'2778': 'Amarela'}},\n",
       "     {'id': '2', 'nome': 'Sexo', 'categoria': {'5': 'Mulheres'}},\n",
       "     {'id': '287', 'nome': 'Idade', 'categoria': {'60040': '90 a 94 anos'}}],\n",
       "    'series': [{'localidade': {'id': '3302403',\n",
       "       'nivel': {'id': 'N6', 'nome': 'Município'},\n",
       "       'nome': 'Macaé (RJ)'},\n",
       "      'serie': {'2022': '-'}}]},\n",
       "   {'classificacoes': [{'id': '86',\n",
       "      'nome': 'Cor ou raça',\n",
       "      'categoria': {'2778': 'Amarela'}},\n",
       "     {'id': '2', 'nome': 'Sexo', 'categoria': {'5': 'Mulheres'}},\n",
       "     {'id': '287', 'nome': 'Idade', 'categoria': {'60041': '95 a 99 anos'}}],\n",
       "    'series': [{'localidade': {'id': '3302403',\n",
       "       'nivel': {'id': 'N6', 'nome': 'Município'},\n",
       "       'nome': 'Macaé (RJ)'},\n",
       "      'serie': {'2022': '-'}}]},\n",
       "   {'classificacoes': [{'id': '86',\n",
       "      'nome': 'Cor ou raça',\n",
       "      'categoria': {'2778': 'Amarela'}},\n",
       "     {'id': '2', 'nome': 'Sexo', 'categoria': {'5': 'Mulheres'}},\n",
       "     {'id': '287',\n",
       "      'nome': 'Idade',\n",
       "      'categoria': {'6653': '100 anos ou mais'}}],\n",
       "    'series': [{'localidade': {'id': '3302403',\n",
       "       'nivel': {'id': 'N6', 'nome': 'Município'},\n",
       "       'nome': 'Macaé (RJ)'},\n",
       "      'serie': {'2022': '-'}}]},\n",
       "   {'classificacoes': [{'id': '86',\n",
       "      'nome': 'Cor ou raça',\n",
       "      'categoria': {'2779': 'Parda'}},\n",
       "     {'id': '2', 'nome': 'Sexo', 'categoria': {'4': 'Homens'}},\n",
       "     {'id': '287', 'nome': 'Idade', 'categoria': {'93070': '0 a 4 anos'}}],\n",
       "    'series': [{'localidade': {'id': '3302403',\n",
       "       'nivel': {'id': 'N6', 'nome': 'Município'},\n",
       "       'nome': 'Macaé (RJ)'},\n",
       "      'serie': {'2022': '3799'}}]},\n",
       "   {'classificacoes': [{'id': '86',\n",
       "      'nome': 'Cor ou raça',\n",
       "      'categoria': {'2779': 'Parda'}},\n",
       "     {'id': '2', 'nome': 'Sexo', 'categoria': {'4': 'Homens'}},\n",
       "     {'id': '287', 'nome': 'Idade', 'categoria': {'93084': '5 a 9 anos'}}],\n",
       "    'series': [{'localidade': {'id': '3302403',\n",
       "       'nivel': {'id': 'N6', 'nome': 'Município'},\n",
       "       'nome': 'Macaé (RJ)'},\n",
       "      'serie': {'2022': '4716'}}]},\n",
       "   {'classificacoes': [{'id': '86',\n",
       "      'nome': 'Cor ou raça',\n",
       "      'categoria': {'2779': 'Parda'}},\n",
       "     {'id': '2', 'nome': 'Sexo', 'categoria': {'4': 'Homens'}},\n",
       "     {'id': '287', 'nome': 'Idade', 'categoria': {'93085': '10 a 14 anos'}}],\n",
       "    'series': [{'localidade': {'id': '3302403',\n",
       "       'nivel': {'id': 'N6', 'nome': 'Município'},\n",
       "       'nome': 'Macaé (RJ)'},\n",
       "      'serie': {'2022': '4410'}}]},\n",
       "   {'classificacoes': [{'id': '86',\n",
       "      'nome': 'Cor ou raça',\n",
       "      'categoria': {'2779': 'Parda'}},\n",
       "     {'id': '2', 'nome': 'Sexo', 'categoria': {'4': 'Homens'}},\n",
       "     {'id': '287', 'nome': 'Idade', 'categoria': {'93086': '15 a 19 anos'}}],\n",
       "    'series': [{'localidade': {'id': '3302403',\n",
       "       'nivel': {'id': 'N6', 'nome': 'Município'},\n",
       "       'nome': 'Macaé (RJ)'},\n",
       "      'serie': {'2022': '4160'}}]},\n",
       "   {'classificacoes': [{'id': '86',\n",
       "      'nome': 'Cor ou raça',\n",
       "      'categoria': {'2779': 'Parda'}},\n",
       "     {'id': '2', 'nome': 'Sexo', 'categoria': {'4': 'Homens'}},\n",
       "     {'id': '287', 'nome': 'Idade', 'categoria': {'93087': '20 a 24 anos'}}],\n",
       "    'series': [{'localidade': {'id': '3302403',\n",
       "       'nivel': {'id': 'N6', 'nome': 'Município'},\n",
       "       'nome': 'Macaé (RJ)'},\n",
       "      'serie': {'2022': '3909'}}]},\n",
       "   {'classificacoes': [{'id': '86',\n",
       "      'nome': 'Cor ou raça',\n",
       "      'categoria': {'2779': 'Parda'}},\n",
       "     {'id': '2', 'nome': 'Sexo', 'categoria': {'4': 'Homens'}},\n",
       "     {'id': '287', 'nome': 'Idade', 'categoria': {'93088': '25 a 29 anos'}}],\n",
       "    'series': [{'localidade': {'id': '3302403',\n",
       "       'nivel': {'id': 'N6', 'nome': 'Município'},\n",
       "       'nome': 'Macaé (RJ)'},\n",
       "      'serie': {'2022': '4057'}}]},\n",
       "   {'classificacoes': [{'id': '86',\n",
       "      'nome': 'Cor ou raça',\n",
       "      'categoria': {'2779': 'Parda'}},\n",
       "     {'id': '2', 'nome': 'Sexo', 'categoria': {'4': 'Homens'}},\n",
       "     {'id': '287', 'nome': 'Idade', 'categoria': {'93089': '30 a 34 anos'}}],\n",
       "    'series': [{'localidade': {'id': '3302403',\n",
       "       'nivel': {'id': 'N6', 'nome': 'Município'},\n",
       "       'nome': 'Macaé (RJ)'},\n",
       "      'serie': {'2022': '4233'}}]},\n",
       "   {'classificacoes': [{'id': '86',\n",
       "      'nome': 'Cor ou raça',\n",
       "      'categoria': {'2779': 'Parda'}},\n",
       "     {'id': '2', 'nome': 'Sexo', 'categoria': {'4': 'Homens'}},\n",
       "     {'id': '287', 'nome': 'Idade', 'categoria': {'93090': '35 a 39 anos'}}],\n",
       "    'series': [{'localidade': {'id': '3302403',\n",
       "       'nivel': {'id': 'N6', 'nome': 'Município'},\n",
       "       'nome': 'Macaé (RJ)'},\n",
       "      'serie': {'2022': '4960'}}]},\n",
       "   {'classificacoes': [{'id': '86',\n",
       "      'nome': 'Cor ou raça',\n",
       "      'categoria': {'2779': 'Parda'}},\n",
       "     {'id': '2', 'nome': 'Sexo', 'categoria': {'4': 'Homens'}},\n",
       "     {'id': '287', 'nome': 'Idade', 'categoria': {'93091': '40 a 44 anos'}}],\n",
       "    'series': [{'localidade': {'id': '3302403',\n",
       "       'nivel': {'id': 'N6', 'nome': 'Município'},\n",
       "       'nome': 'Macaé (RJ)'},\n",
       "      'serie': {'2022': '4852'}}]},\n",
       "   {'classificacoes': [{'id': '86',\n",
       "      'nome': 'Cor ou raça',\n",
       "      'categoria': {'2779': 'Parda'}},\n",
       "     {'id': '2', 'nome': 'Sexo', 'categoria': {'4': 'Homens'}},\n",
       "     {'id': '287', 'nome': 'Idade', 'categoria': {'93092': '45 a 49 anos'}}],\n",
       "    'series': [{'localidade': {'id': '3302403',\n",
       "       'nivel': {'id': 'N6', 'nome': 'Município'},\n",
       "       'nome': 'Macaé (RJ)'},\n",
       "      'serie': {'2022': '3591'}}]},\n",
       "   {'classificacoes': [{'id': '86',\n",
       "      'nome': 'Cor ou raça',\n",
       "      'categoria': {'2779': 'Parda'}},\n",
       "     {'id': '2', 'nome': 'Sexo', 'categoria': {'4': 'Homens'}},\n",
       "     {'id': '287', 'nome': 'Idade', 'categoria': {'93093': '50 a 54 anos'}}],\n",
       "    'series': [{'localidade': {'id': '3302403',\n",
       "       'nivel': {'id': 'N6', 'nome': 'Município'},\n",
       "       'nome': 'Macaé (RJ)'},\n",
       "      'serie': {'2022': '3004'}}]},\n",
       "   {'classificacoes': [{'id': '86',\n",
       "      'nome': 'Cor ou raça',\n",
       "      'categoria': {'2779': 'Parda'}},\n",
       "     {'id': '2', 'nome': 'Sexo', 'categoria': {'4': 'Homens'}},\n",
       "     {'id': '287', 'nome': 'Idade', 'categoria': {'93094': '55 a 59 anos'}}],\n",
       "    'series': [{'localidade': {'id': '3302403',\n",
       "       'nivel': {'id': 'N6', 'nome': 'Município'},\n",
       "       'nome': 'Macaé (RJ)'},\n",
       "      'serie': {'2022': '2684'}}]},\n",
       "   {'classificacoes': [{'id': '86',\n",
       "      'nome': 'Cor ou raça',\n",
       "      'categoria': {'2779': 'Parda'}},\n",
       "     {'id': '2', 'nome': 'Sexo', 'categoria': {'4': 'Homens'}},\n",
       "     {'id': '287', 'nome': 'Idade', 'categoria': {'93095': '60 a 64 anos'}}],\n",
       "    'series': [{'localidade': {'id': '3302403',\n",
       "       'nivel': {'id': 'N6', 'nome': 'Município'},\n",
       "       'nome': 'Macaé (RJ)'},\n",
       "      'serie': {'2022': '2269'}}]},\n",
       "   {'classificacoes': [{'id': '86',\n",
       "      'nome': 'Cor ou raça',\n",
       "      'categoria': {'2779': 'Parda'}},\n",
       "     {'id': '2', 'nome': 'Sexo', 'categoria': {'4': 'Homens'}},\n",
       "     {'id': '287', 'nome': 'Idade', 'categoria': {'93096': '65 a 69 anos'}}],\n",
       "    'series': [{'localidade': {'id': '3302403',\n",
       "       'nivel': {'id': 'N6', 'nome': 'Município'},\n",
       "       'nome': 'Macaé (RJ)'},\n",
       "      'serie': {'2022': '1570'}}]},\n",
       "   {'classificacoes': [{'id': '86',\n",
       "      'nome': 'Cor ou raça',\n",
       "      'categoria': {'2779': 'Parda'}},\n",
       "     {'id': '2', 'nome': 'Sexo', 'categoria': {'4': 'Homens'}},\n",
       "     {'id': '287', 'nome': 'Idade', 'categoria': {'93097': '70 a 74 anos'}}],\n",
       "    'series': [{'localidade': {'id': '3302403',\n",
       "       'nivel': {'id': 'N6', 'nome': 'Município'},\n",
       "       'nome': 'Macaé (RJ)'},\n",
       "      'serie': {'2022': '971'}}]},\n",
       "   {'classificacoes': [{'id': '86',\n",
       "      'nome': 'Cor ou raça',\n",
       "      'categoria': {'2779': 'Parda'}},\n",
       "     {'id': '2', 'nome': 'Sexo', 'categoria': {'4': 'Homens'}},\n",
       "     {'id': '287', 'nome': 'Idade', 'categoria': {'93098': '75 a 79 anos'}}],\n",
       "    'series': [{'localidade': {'id': '3302403',\n",
       "       'nivel': {'id': 'N6', 'nome': 'Município'},\n",
       "       'nome': 'Macaé (RJ)'},\n",
       "      'serie': {'2022': '557'}}]},\n",
       "   {'classificacoes': [{'id': '86',\n",
       "      'nome': 'Cor ou raça',\n",
       "      'categoria': {'2779': 'Parda'}},\n",
       "     {'id': '2', 'nome': 'Sexo', 'categoria': {'4': 'Homens'}},\n",
       "     {'id': '287', 'nome': 'Idade', 'categoria': {'49108': '80 a 84 anos'}}],\n",
       "    'series': [{'localidade': {'id': '3302403',\n",
       "       'nivel': {'id': 'N6', 'nome': 'Município'},\n",
       "       'nome': 'Macaé (RJ)'},\n",
       "      'serie': {'2022': '315'}}]},\n",
       "   {'classificacoes': [{'id': '86',\n",
       "      'nome': 'Cor ou raça',\n",
       "      'categoria': {'2779': 'Parda'}},\n",
       "     {'id': '2', 'nome': 'Sexo', 'categoria': {'4': 'Homens'}},\n",
       "     {'id': '287', 'nome': 'Idade', 'categoria': {'49109': '85 a 89 anos'}}],\n",
       "    'series': [{'localidade': {'id': '3302403',\n",
       "       'nivel': {'id': 'N6', 'nome': 'Município'},\n",
       "       'nome': 'Macaé (RJ)'},\n",
       "      'serie': {'2022': '119'}}]},\n",
       "   {'classificacoes': [{'id': '86',\n",
       "      'nome': 'Cor ou raça',\n",
       "      'categoria': {'2779': 'Parda'}},\n",
       "     {'id': '2', 'nome': 'Sexo', 'categoria': {'4': 'Homens'}},\n",
       "     {'id': '287', 'nome': 'Idade', 'categoria': {'60040': '90 a 94 anos'}}],\n",
       "    'series': [{'localidade': {'id': '3302403',\n",
       "       'nivel': {'id': 'N6', 'nome': 'Município'},\n",
       "       'nome': 'Macaé (RJ)'},\n",
       "      'serie': {'2022': '42'}}]},\n",
       "   {'classificacoes': [{'id': '86',\n",
       "      'nome': 'Cor ou raça',\n",
       "      'categoria': {'2779': 'Parda'}},\n",
       "     {'id': '2', 'nome': 'Sexo', 'categoria': {'4': 'Homens'}},\n",
       "     {'id': '287', 'nome': 'Idade', 'categoria': {'60041': '95 a 99 anos'}}],\n",
       "    'series': [{'localidade': {'id': '3302403',\n",
       "       'nivel': {'id': 'N6', 'nome': 'Município'},\n",
       "       'nome': 'Macaé (RJ)'},\n",
       "      'serie': {'2022': '16'}}]},\n",
       "   {'classificacoes': [{'id': '86',\n",
       "      'nome': 'Cor ou raça',\n",
       "      'categoria': {'2779': 'Parda'}},\n",
       "     {'id': '2', 'nome': 'Sexo', 'categoria': {'4': 'Homens'}},\n",
       "     {'id': '287',\n",
       "      'nome': 'Idade',\n",
       "      'categoria': {'6653': '100 anos ou mais'}}],\n",
       "    'series': [{'localidade': {'id': '3302403',\n",
       "       'nivel': {'id': 'N6', 'nome': 'Município'},\n",
       "       'nome': 'Macaé (RJ)'},\n",
       "      'serie': {'2022': '3'}}]},\n",
       "   {'classificacoes': [{'id': '86',\n",
       "      'nome': 'Cor ou raça',\n",
       "      'categoria': {'2779': 'Parda'}},\n",
       "     {'id': '2', 'nome': 'Sexo', 'categoria': {'5': 'Mulheres'}},\n",
       "     {'id': '287', 'nome': 'Idade', 'categoria': {'93070': '0 a 4 anos'}}],\n",
       "    'series': [{'localidade': {'id': '3302403',\n",
       "       'nivel': {'id': 'N6', 'nome': 'Município'},\n",
       "       'nome': 'Macaé (RJ)'},\n",
       "      'serie': {'2022': '3588'}}]},\n",
       "   {'classificacoes': [{'id': '86',\n",
       "      'nome': 'Cor ou raça',\n",
       "      'categoria': {'2779': 'Parda'}},\n",
       "     {'id': '2', 'nome': 'Sexo', 'categoria': {'5': 'Mulheres'}},\n",
       "     {'id': '287', 'nome': 'Idade', 'categoria': {'93084': '5 a 9 anos'}}],\n",
       "    'series': [{'localidade': {'id': '3302403',\n",
       "       'nivel': {'id': 'N6', 'nome': 'Município'},\n",
       "       'nome': 'Macaé (RJ)'},\n",
       "      'serie': {'2022': '4506'}}]},\n",
       "   {'classificacoes': [{'id': '86',\n",
       "      'nome': 'Cor ou raça',\n",
       "      'categoria': {'2779': 'Parda'}},\n",
       "     {'id': '2', 'nome': 'Sexo', 'categoria': {'5': 'Mulheres'}},\n",
       "     {'id': '287', 'nome': 'Idade', 'categoria': {'93085': '10 a 14 anos'}}],\n",
       "    'series': [{'localidade': {'id': '3302403',\n",
       "       'nivel': {'id': 'N6', 'nome': 'Município'},\n",
       "       'nome': 'Macaé (RJ)'},\n",
       "      'serie': {'2022': '4312'}}]},\n",
       "   {'classificacoes': [{'id': '86',\n",
       "      'nome': 'Cor ou raça',\n",
       "      'categoria': {'2779': 'Parda'}},\n",
       "     {'id': '2', 'nome': 'Sexo', 'categoria': {'5': 'Mulheres'}},\n",
       "     {'id': '287', 'nome': 'Idade', 'categoria': {'93086': '15 a 19 anos'}}],\n",
       "    'series': [{'localidade': {'id': '3302403',\n",
       "       'nivel': {'id': 'N6', 'nome': 'Município'},\n",
       "       'nome': 'Macaé (RJ)'},\n",
       "      'serie': {'2022': '3898'}}]},\n",
       "   {'classificacoes': [{'id': '86',\n",
       "      'nome': 'Cor ou raça',\n",
       "      'categoria': {'2779': 'Parda'}},\n",
       "     {'id': '2', 'nome': 'Sexo', 'categoria': {'5': 'Mulheres'}},\n",
       "     {'id': '287', 'nome': 'Idade', 'categoria': {'93087': '20 a 24 anos'}}],\n",
       "    'series': [{'localidade': {'id': '3302403',\n",
       "       'nivel': {'id': 'N6', 'nome': 'Município'},\n",
       "       'nome': 'Macaé (RJ)'},\n",
       "      'serie': {'2022': '4175'}}]},\n",
       "   {'classificacoes': [{'id': '86',\n",
       "      'nome': 'Cor ou raça',\n",
       "      'categoria': {'2779': 'Parda'}},\n",
       "     {'id': '2', 'nome': 'Sexo', 'categoria': {'5': 'Mulheres'}},\n",
       "     {'id': '287', 'nome': 'Idade', 'categoria': {'93088': '25 a 29 anos'}}],\n",
       "    'series': [{'localidade': {'id': '3302403',\n",
       "       'nivel': {'id': 'N6', 'nome': 'Município'},\n",
       "       'nome': 'Macaé (RJ)'},\n",
       "      'serie': {'2022': '4399'}}]},\n",
       "   {'classificacoes': [{'id': '86',\n",
       "      'nome': 'Cor ou raça',\n",
       "      'categoria': {'2779': 'Parda'}},\n",
       "     {'id': '2', 'nome': 'Sexo', 'categoria': {'5': 'Mulheres'}},\n",
       "     {'id': '287', 'nome': 'Idade', 'categoria': {'93089': '30 a 34 anos'}}],\n",
       "    'series': [{'localidade': {'id': '3302403',\n",
       "       'nivel': {'id': 'N6', 'nome': 'Município'},\n",
       "       'nome': 'Macaé (RJ)'},\n",
       "      'serie': {'2022': '4798'}}]},\n",
       "   {'classificacoes': [{'id': '86',\n",
       "      'nome': 'Cor ou raça',\n",
       "      'categoria': {'2779': 'Parda'}},\n",
       "     {'id': '2', 'nome': 'Sexo', 'categoria': {'5': 'Mulheres'}},\n",
       "     {'id': '287', 'nome': 'Idade', 'categoria': {'93090': '35 a 39 anos'}}],\n",
       "    'series': [{'localidade': {'id': '3302403',\n",
       "       'nivel': {'id': 'N6', 'nome': 'Município'},\n",
       "       'nome': 'Macaé (RJ)'},\n",
       "      'serie': {'2022': '5114'}}]},\n",
       "   {'classificacoes': [{'id': '86',\n",
       "      'nome': 'Cor ou raça',\n",
       "      'categoria': {'2779': 'Parda'}},\n",
       "     {'id': '2', 'nome': 'Sexo', 'categoria': {'5': 'Mulheres'}},\n",
       "     {'id': '287', 'nome': 'Idade', 'categoria': {'93091': '40 a 44 anos'}}],\n",
       "    'series': [{'localidade': {'id': '3302403',\n",
       "       'nivel': {'id': 'N6', 'nome': 'Município'},\n",
       "       'nome': 'Macaé (RJ)'},\n",
       "      'serie': {'2022': '4873'}}]},\n",
       "   {'classificacoes': [{'id': '86',\n",
       "      'nome': 'Cor ou raça',\n",
       "      'categoria': {'2779': 'Parda'}},\n",
       "     {'id': '2', 'nome': 'Sexo', 'categoria': {'5': 'Mulheres'}},\n",
       "     {'id': '287', 'nome': 'Idade', 'categoria': {'93092': '45 a 49 anos'}}],\n",
       "    'series': [{'localidade': {'id': '3302403',\n",
       "       'nivel': {'id': 'N6', 'nome': 'Município'},\n",
       "       'nome': 'Macaé (RJ)'},\n",
       "      'serie': {'2022': '3809'}}]},\n",
       "   {'classificacoes': [{'id': '86',\n",
       "      'nome': 'Cor ou raça',\n",
       "      'categoria': {'2779': 'Parda'}},\n",
       "     {'id': '2', 'nome': 'Sexo', 'categoria': {'5': 'Mulheres'}},\n",
       "     {'id': '287', 'nome': 'Idade', 'categoria': {'93093': '50 a 54 anos'}}],\n",
       "    'series': [{'localidade': {'id': '3302403',\n",
       "       'nivel': {'id': 'N6', 'nome': 'Município'},\n",
       "       'nome': 'Macaé (RJ)'},\n",
       "      'serie': {'2022': '3242'}}]},\n",
       "   {'classificacoes': [{'id': '86',\n",
       "      'nome': 'Cor ou raça',\n",
       "      'categoria': {'2779': 'Parda'}},\n",
       "     {'id': '2', 'nome': 'Sexo', 'categoria': {'5': 'Mulheres'}},\n",
       "     {'id': '287', 'nome': 'Idade', 'categoria': {'93094': '55 a 59 anos'}}],\n",
       "    'series': [{'localidade': {'id': '3302403',\n",
       "       'nivel': {'id': 'N6', 'nome': 'Município'},\n",
       "       'nome': 'Macaé (RJ)'},\n",
       "      'serie': {'2022': '2829'}}]},\n",
       "   {'classificacoes': [{'id': '86',\n",
       "      'nome': 'Cor ou raça',\n",
       "      'categoria': {'2779': 'Parda'}},\n",
       "     {'id': '2', 'nome': 'Sexo', 'categoria': {'5': 'Mulheres'}},\n",
       "     {'id': '287', 'nome': 'Idade', 'categoria': {'93095': '60 a 64 anos'}}],\n",
       "    'series': [{'localidade': {'id': '3302403',\n",
       "       'nivel': {'id': 'N6', 'nome': 'Município'},\n",
       "       'nome': 'Macaé (RJ)'},\n",
       "      'serie': {'2022': '2482'}}]},\n",
       "   {'classificacoes': [{'id': '86',\n",
       "      'nome': 'Cor ou raça',\n",
       "      'categoria': {'2779': 'Parda'}},\n",
       "     {'id': '2', 'nome': 'Sexo', 'categoria': {'5': 'Mulheres'}},\n",
       "     {'id': '287', 'nome': 'Idade', 'categoria': {'93096': '65 a 69 anos'}}],\n",
       "    'series': [{'localidade': {'id': '3302403',\n",
       "       'nivel': {'id': 'N6', 'nome': 'Município'},\n",
       "       'nome': 'Macaé (RJ)'},\n",
       "      'serie': {'2022': '1728'}}]},\n",
       "   {'classificacoes': [{'id': '86',\n",
       "      'nome': 'Cor ou raça',\n",
       "      'categoria': {'2779': 'Parda'}},\n",
       "     {'id': '2', 'nome': 'Sexo', 'categoria': {'5': 'Mulheres'}},\n",
       "     {'id': '287', 'nome': 'Idade', 'categoria': {'93097': '70 a 74 anos'}}],\n",
       "    'series': [{'localidade': {'id': '3302403',\n",
       "       'nivel': {'id': 'N6', 'nome': 'Município'},\n",
       "       'nome': 'Macaé (RJ)'},\n",
       "      'serie': {'2022': '1130'}}]},\n",
       "   {'classificacoes': [{'id': '86',\n",
       "      'nome': 'Cor ou raça',\n",
       "      'categoria': {'2779': 'Parda'}},\n",
       "     {'id': '2', 'nome': 'Sexo', 'categoria': {'5': 'Mulheres'}},\n",
       "     {'id': '287', 'nome': 'Idade', 'categoria': {'93098': '75 a 79 anos'}}],\n",
       "    'series': [{'localidade': {'id': '3302403',\n",
       "       'nivel': {'id': 'N6', 'nome': 'Município'},\n",
       "       'nome': 'Macaé (RJ)'},\n",
       "      'serie': {'2022': '686'}}]},\n",
       "   {'classificacoes': [{'id': '86',\n",
       "      'nome': 'Cor ou raça',\n",
       "      'categoria': {'2779': 'Parda'}},\n",
       "     {'id': '2', 'nome': 'Sexo', 'categoria': {'5': 'Mulheres'}},\n",
       "     {'id': '287', 'nome': 'Idade', 'categoria': {'49108': '80 a 84 anos'}}],\n",
       "    'series': [{'localidade': {'id': '3302403',\n",
       "       'nivel': {'id': 'N6', 'nome': 'Município'},\n",
       "       'nome': 'Macaé (RJ)'},\n",
       "      'serie': {'2022': '399'}}]},\n",
       "   {'classificacoes': [{'id': '86',\n",
       "      'nome': 'Cor ou raça',\n",
       "      'categoria': {'2779': 'Parda'}},\n",
       "     {'id': '2', 'nome': 'Sexo', 'categoria': {'5': 'Mulheres'}},\n",
       "     {'id': '287', 'nome': 'Idade', 'categoria': {'49109': '85 a 89 anos'}}],\n",
       "    'series': [{'localidade': {'id': '3302403',\n",
       "       'nivel': {'id': 'N6', 'nome': 'Município'},\n",
       "       'nome': 'Macaé (RJ)'},\n",
       "      'serie': {'2022': '226'}}]},\n",
       "   {'classificacoes': [{'id': '86',\n",
       "      'nome': 'Cor ou raça',\n",
       "      'categoria': {'2779': 'Parda'}},\n",
       "     {'id': '2', 'nome': 'Sexo', 'categoria': {'5': 'Mulheres'}},\n",
       "     {'id': '287', 'nome': 'Idade', 'categoria': {'60040': '90 a 94 anos'}}],\n",
       "    'series': [{'localidade': {'id': '3302403',\n",
       "       'nivel': {'id': 'N6', 'nome': 'Município'},\n",
       "       'nome': 'Macaé (RJ)'},\n",
       "      'serie': {'2022': '92'}}]},\n",
       "   {'classificacoes': [{'id': '86',\n",
       "      'nome': 'Cor ou raça',\n",
       "      'categoria': {'2779': 'Parda'}},\n",
       "     {'id': '2', 'nome': 'Sexo', 'categoria': {'5': 'Mulheres'}},\n",
       "     {'id': '287', 'nome': 'Idade', 'categoria': {'60041': '95 a 99 anos'}}],\n",
       "    'series': [{'localidade': {'id': '3302403',\n",
       "       'nivel': {'id': 'N6', 'nome': 'Município'},\n",
       "       'nome': 'Macaé (RJ)'},\n",
       "      'serie': {'2022': '28'}}]},\n",
       "   {'classificacoes': [{'id': '86',\n",
       "      'nome': 'Cor ou raça',\n",
       "      'categoria': {'2779': 'Parda'}},\n",
       "     {'id': '2', 'nome': 'Sexo', 'categoria': {'5': 'Mulheres'}},\n",
       "     {'id': '287',\n",
       "      'nome': 'Idade',\n",
       "      'categoria': {'6653': '100 anos ou mais'}}],\n",
       "    'series': [{'localidade': {'id': '3302403',\n",
       "       'nivel': {'id': 'N6', 'nome': 'Município'},\n",
       "       'nome': 'Macaé (RJ)'},\n",
       "      'serie': {'2022': '5'}}]},\n",
       "   {'classificacoes': [{'id': '86',\n",
       "      'nome': 'Cor ou raça',\n",
       "      'categoria': {'2780': 'Indígena'}},\n",
       "     {'id': '2', 'nome': 'Sexo', 'categoria': {'4': 'Homens'}},\n",
       "     {'id': '287', 'nome': 'Idade', 'categoria': {'93070': '0 a 4 anos'}}],\n",
       "    'series': [{'localidade': {'id': '3302403',\n",
       "       'nivel': {'id': 'N6', 'nome': 'Município'},\n",
       "       'nome': 'Macaé (RJ)'},\n",
       "      'serie': {'2022': '8'}}]},\n",
       "   {'classificacoes': [{'id': '86',\n",
       "      'nome': 'Cor ou raça',\n",
       "      'categoria': {'2780': 'Indígena'}},\n",
       "     {'id': '2', 'nome': 'Sexo', 'categoria': {'4': 'Homens'}},\n",
       "     {'id': '287', 'nome': 'Idade', 'categoria': {'93084': '5 a 9 anos'}}],\n",
       "    'series': [{'localidade': {'id': '3302403',\n",
       "       'nivel': {'id': 'N6', 'nome': 'Município'},\n",
       "       'nome': 'Macaé (RJ)'},\n",
       "      'serie': {'2022': '8'}}]},\n",
       "   {'classificacoes': [{'id': '86',\n",
       "      'nome': 'Cor ou raça',\n",
       "      'categoria': {'2780': 'Indígena'}},\n",
       "     {'id': '2', 'nome': 'Sexo', 'categoria': {'4': 'Homens'}},\n",
       "     {'id': '287', 'nome': 'Idade', 'categoria': {'93085': '10 a 14 anos'}}],\n",
       "    'series': [{'localidade': {'id': '3302403',\n",
       "       'nivel': {'id': 'N6', 'nome': 'Município'},\n",
       "       'nome': 'Macaé (RJ)'},\n",
       "      'serie': {'2022': '8'}}]},\n",
       "   {'classificacoes': [{'id': '86',\n",
       "      'nome': 'Cor ou raça',\n",
       "      'categoria': {'2780': 'Indígena'}},\n",
       "     {'id': '2', 'nome': 'Sexo', 'categoria': {'4': 'Homens'}},\n",
       "     {'id': '287', 'nome': 'Idade', 'categoria': {'93086': '15 a 19 anos'}}],\n",
       "    'series': [{'localidade': {'id': '3302403',\n",
       "       'nivel': {'id': 'N6', 'nome': 'Município'},\n",
       "       'nome': 'Macaé (RJ)'},\n",
       "      'serie': {'2022': '4'}}]},\n",
       "   {'classificacoes': [{'id': '86',\n",
       "      'nome': 'Cor ou raça',\n",
       "      'categoria': {'2780': 'Indígena'}},\n",
       "     {'id': '2', 'nome': 'Sexo', 'categoria': {'4': 'Homens'}},\n",
       "     {'id': '287', 'nome': 'Idade', 'categoria': {'93087': '20 a 24 anos'}}],\n",
       "    'series': [{'localidade': {'id': '3302403',\n",
       "       'nivel': {'id': 'N6', 'nome': 'Município'},\n",
       "       'nome': 'Macaé (RJ)'},\n",
       "      'serie': {'2022': '15'}}]},\n",
       "   {'classificacoes': [{'id': '86',\n",
       "      'nome': 'Cor ou raça',\n",
       "      'categoria': {'2780': 'Indígena'}},\n",
       "     {'id': '2', 'nome': 'Sexo', 'categoria': {'4': 'Homens'}},\n",
       "     {'id': '287', 'nome': 'Idade', 'categoria': {'93088': '25 a 29 anos'}}],\n",
       "    'series': [{'localidade': {'id': '3302403',\n",
       "       'nivel': {'id': 'N6', 'nome': 'Município'},\n",
       "       'nome': 'Macaé (RJ)'},\n",
       "      'serie': {'2022': '12'}}]},\n",
       "   {'classificacoes': [{'id': '86',\n",
       "      'nome': 'Cor ou raça',\n",
       "      'categoria': {'2780': 'Indígena'}},\n",
       "     {'id': '2', 'nome': 'Sexo', 'categoria': {'4': 'Homens'}},\n",
       "     {'id': '287', 'nome': 'Idade', 'categoria': {'93089': '30 a 34 anos'}}],\n",
       "    'series': [{'localidade': {'id': '3302403',\n",
       "       'nivel': {'id': 'N6', 'nome': 'Município'},\n",
       "       'nome': 'Macaé (RJ)'},\n",
       "      'serie': {'2022': '13'}}]},\n",
       "   {'classificacoes': [{'id': '86',\n",
       "      'nome': 'Cor ou raça',\n",
       "      'categoria': {'2780': 'Indígena'}},\n",
       "     {'id': '2', 'nome': 'Sexo', 'categoria': {'4': 'Homens'}},\n",
       "     {'id': '287', 'nome': 'Idade', 'categoria': {'93090': '35 a 39 anos'}}],\n",
       "    'series': [{'localidade': {'id': '3302403',\n",
       "       'nivel': {'id': 'N6', 'nome': 'Município'},\n",
       "       'nome': 'Macaé (RJ)'},\n",
       "      'serie': {'2022': '19'}}]},\n",
       "   {'classificacoes': [{'id': '86',\n",
       "      'nome': 'Cor ou raça',\n",
       "      'categoria': {'2780': 'Indígena'}},\n",
       "     {'id': '2', 'nome': 'Sexo', 'categoria': {'4': 'Homens'}},\n",
       "     {'id': '287', 'nome': 'Idade', 'categoria': {'93091': '40 a 44 anos'}}],\n",
       "    'series': [{'localidade': {'id': '3302403',\n",
       "       'nivel': {'id': 'N6', 'nome': 'Município'},\n",
       "       'nome': 'Macaé (RJ)'},\n",
       "      'serie': {'2022': '20'}}]},\n",
       "   {'classificacoes': [{'id': '86',\n",
       "      'nome': 'Cor ou raça',\n",
       "      'categoria': {'2780': 'Indígena'}},\n",
       "     {'id': '2', 'nome': 'Sexo', 'categoria': {'4': 'Homens'}},\n",
       "     {'id': '287', 'nome': 'Idade', 'categoria': {'93092': '45 a 49 anos'}}],\n",
       "    'series': [{'localidade': {'id': '3302403',\n",
       "       'nivel': {'id': 'N6', 'nome': 'Município'},\n",
       "       'nome': 'Macaé (RJ)'},\n",
       "      'serie': {'2022': '22'}}]},\n",
       "   {'classificacoes': [{'id': '86',\n",
       "      'nome': 'Cor ou raça',\n",
       "      'categoria': {'2780': 'Indígena'}},\n",
       "     {'id': '2', 'nome': 'Sexo', 'categoria': {'4': 'Homens'}},\n",
       "     {'id': '287', 'nome': 'Idade', 'categoria': {'93093': '50 a 54 anos'}}],\n",
       "    'series': [{'localidade': {'id': '3302403',\n",
       "       'nivel': {'id': 'N6', 'nome': 'Município'},\n",
       "       'nome': 'Macaé (RJ)'},\n",
       "      'serie': {'2022': '10'}}]},\n",
       "   {'classificacoes': [{'id': '86',\n",
       "      'nome': 'Cor ou raça',\n",
       "      'categoria': {'2780': 'Indígena'}},\n",
       "     {'id': '2', 'nome': 'Sexo', 'categoria': {'4': 'Homens'}},\n",
       "     {'id': '287', 'nome': 'Idade', 'categoria': {'93094': '55 a 59 anos'}}],\n",
       "    'series': [{'localidade': {'id': '3302403',\n",
       "       'nivel': {'id': 'N6', 'nome': 'Município'},\n",
       "       'nome': 'Macaé (RJ)'},\n",
       "      'serie': {'2022': '13'}}]},\n",
       "   {'classificacoes': [{'id': '86',\n",
       "      'nome': 'Cor ou raça',\n",
       "      'categoria': {'2780': 'Indígena'}},\n",
       "     {'id': '2', 'nome': 'Sexo', 'categoria': {'4': 'Homens'}},\n",
       "     {'id': '287', 'nome': 'Idade', 'categoria': {'93095': '60 a 64 anos'}}],\n",
       "    'series': [{'localidade': {'id': '3302403',\n",
       "       'nivel': {'id': 'N6', 'nome': 'Município'},\n",
       "       'nome': 'Macaé (RJ)'},\n",
       "      'serie': {'2022': '12'}}]},\n",
       "   {'classificacoes': [{'id': '86',\n",
       "      'nome': 'Cor ou raça',\n",
       "      'categoria': {'2780': 'Indígena'}},\n",
       "     {'id': '2', 'nome': 'Sexo', 'categoria': {'4': 'Homens'}},\n",
       "     {'id': '287', 'nome': 'Idade', 'categoria': {'93096': '65 a 69 anos'}}],\n",
       "    'series': [{'localidade': {'id': '3302403',\n",
       "       'nivel': {'id': 'N6', 'nome': 'Município'},\n",
       "       'nome': 'Macaé (RJ)'},\n",
       "      'serie': {'2022': '6'}}]},\n",
       "   {'classificacoes': [{'id': '86',\n",
       "      'nome': 'Cor ou raça',\n",
       "      'categoria': {'2780': 'Indígena'}},\n",
       "     {'id': '2', 'nome': 'Sexo', 'categoria': {'4': 'Homens'}},\n",
       "     {'id': '287', 'nome': 'Idade', 'categoria': {'93097': '70 a 74 anos'}}],\n",
       "    'series': [{'localidade': {'id': '3302403',\n",
       "       'nivel': {'id': 'N6', 'nome': 'Município'},\n",
       "       'nome': 'Macaé (RJ)'},\n",
       "      'serie': {'2022': '4'}}]},\n",
       "   {'classificacoes': [{'id': '86',\n",
       "      'nome': 'Cor ou raça',\n",
       "      'categoria': {'2780': 'Indígena'}},\n",
       "     {'id': '2', 'nome': 'Sexo', 'categoria': {'4': 'Homens'}},\n",
       "     {'id': '287', 'nome': 'Idade', 'categoria': {'93098': '75 a 79 anos'}}],\n",
       "    'series': [{'localidade': {'id': '3302403',\n",
       "       'nivel': {'id': 'N6', 'nome': 'Município'},\n",
       "       'nome': 'Macaé (RJ)'},\n",
       "      'serie': {'2022': '1'}}]},\n",
       "   {'classificacoes': [{'id': '86',\n",
       "      'nome': 'Cor ou raça',\n",
       "      'categoria': {'2780': 'Indígena'}},\n",
       "     {'id': '2', 'nome': 'Sexo', 'categoria': {'4': 'Homens'}},\n",
       "     {'id': '287', 'nome': 'Idade', 'categoria': {'49108': '80 a 84 anos'}}],\n",
       "    'series': [{'localidade': {'id': '3302403',\n",
       "       'nivel': {'id': 'N6', 'nome': 'Município'},\n",
       "       'nome': 'Macaé (RJ)'},\n",
       "      'serie': {'2022': '4'}}]},\n",
       "   {'classificacoes': [{'id': '86',\n",
       "      'nome': 'Cor ou raça',\n",
       "      'categoria': {'2780': 'Indígena'}},\n",
       "     {'id': '2', 'nome': 'Sexo', 'categoria': {'4': 'Homens'}},\n",
       "     {'id': '287', 'nome': 'Idade', 'categoria': {'49109': '85 a 89 anos'}}],\n",
       "    'series': [{'localidade': {'id': '3302403',\n",
       "       'nivel': {'id': 'N6', 'nome': 'Município'},\n",
       "       'nome': 'Macaé (RJ)'},\n",
       "      'serie': {'2022': '-'}}]},\n",
       "   {'classificacoes': [{'id': '86',\n",
       "      'nome': 'Cor ou raça',\n",
       "      'categoria': {'2780': 'Indígena'}},\n",
       "     {'id': '2', 'nome': 'Sexo', 'categoria': {'4': 'Homens'}},\n",
       "     {'id': '287', 'nome': 'Idade', 'categoria': {'60040': '90 a 94 anos'}}],\n",
       "    'series': [{'localidade': {'id': '3302403',\n",
       "       'nivel': {'id': 'N6', 'nome': 'Município'},\n",
       "       'nome': 'Macaé (RJ)'},\n",
       "      'serie': {'2022': '-'}}]},\n",
       "   {'classificacoes': [{'id': '86',\n",
       "      'nome': 'Cor ou raça',\n",
       "      'categoria': {'2780': 'Indígena'}},\n",
       "     {'id': '2', 'nome': 'Sexo', 'categoria': {'4': 'Homens'}},\n",
       "     {'id': '287', 'nome': 'Idade', 'categoria': {'60041': '95 a 99 anos'}}],\n",
       "    'series': [{'localidade': {'id': '3302403',\n",
       "       'nivel': {'id': 'N6', 'nome': 'Município'},\n",
       "       'nome': 'Macaé (RJ)'},\n",
       "      'serie': {'2022': '-'}}]},\n",
       "   {'classificacoes': [{'id': '86',\n",
       "      'nome': 'Cor ou raça',\n",
       "      'categoria': {'2780': 'Indígena'}},\n",
       "     {'id': '2', 'nome': 'Sexo', 'categoria': {'4': 'Homens'}},\n",
       "     {'id': '287',\n",
       "      'nome': 'Idade',\n",
       "      'categoria': {'6653': '100 anos ou mais'}}],\n",
       "    'series': [{'localidade': {'id': '3302403',\n",
       "       'nivel': {'id': 'N6', 'nome': 'Município'},\n",
       "       'nome': 'Macaé (RJ)'},\n",
       "      'serie': {'2022': '-'}}]},\n",
       "   {'classificacoes': [{'id': '86',\n",
       "      'nome': 'Cor ou raça',\n",
       "      'categoria': {'2780': 'Indígena'}},\n",
       "     {'id': '2', 'nome': 'Sexo', 'categoria': {'5': 'Mulheres'}},\n",
       "     {'id': '287', 'nome': 'Idade', 'categoria': {'93070': '0 a 4 anos'}}],\n",
       "    'series': [{'localidade': {'id': '3302403',\n",
       "       'nivel': {'id': 'N6', 'nome': 'Município'},\n",
       "       'nome': 'Macaé (RJ)'},\n",
       "      'serie': {'2022': '3'}}]},\n",
       "   {'classificacoes': [{'id': '86',\n",
       "      'nome': 'Cor ou raça',\n",
       "      'categoria': {'2780': 'Indígena'}},\n",
       "     {'id': '2', 'nome': 'Sexo', 'categoria': {'5': 'Mulheres'}},\n",
       "     {'id': '287', 'nome': 'Idade', 'categoria': {'93084': '5 a 9 anos'}}],\n",
       "    'series': [{'localidade': {'id': '3302403',\n",
       "       'nivel': {'id': 'N6', 'nome': 'Município'},\n",
       "       'nome': 'Macaé (RJ)'},\n",
       "      'serie': {'2022': '5'}}]},\n",
       "   {'classificacoes': [{'id': '86',\n",
       "      'nome': 'Cor ou raça',\n",
       "      'categoria': {'2780': 'Indígena'}},\n",
       "     {'id': '2', 'nome': 'Sexo', 'categoria': {'5': 'Mulheres'}},\n",
       "     {'id': '287', 'nome': 'Idade', 'categoria': {'93085': '10 a 14 anos'}}],\n",
       "    'series': [{'localidade': {'id': '3302403',\n",
       "       'nivel': {'id': 'N6', 'nome': 'Município'},\n",
       "       'nome': 'Macaé (RJ)'},\n",
       "      'serie': {'2022': '2'}}]},\n",
       "   {'classificacoes': [{'id': '86',\n",
       "      'nome': 'Cor ou raça',\n",
       "      'categoria': {'2780': 'Indígena'}},\n",
       "     {'id': '2', 'nome': 'Sexo', 'categoria': {'5': 'Mulheres'}},\n",
       "     {'id': '287', 'nome': 'Idade', 'categoria': {'93086': '15 a 19 anos'}}],\n",
       "    'series': [{'localidade': {'id': '3302403',\n",
       "       'nivel': {'id': 'N6', 'nome': 'Município'},\n",
       "       'nome': 'Macaé (RJ)'},\n",
       "      'serie': {'2022': '14'}}]},\n",
       "   {'classificacoes': [{'id': '86',\n",
       "      'nome': 'Cor ou raça',\n",
       "      'categoria': {'2780': 'Indígena'}},\n",
       "     {'id': '2', 'nome': 'Sexo', 'categoria': {'5': 'Mulheres'}},\n",
       "     {'id': '287', 'nome': 'Idade', 'categoria': {'93087': '20 a 24 anos'}}],\n",
       "    'series': [{'localidade': {'id': '3302403',\n",
       "       'nivel': {'id': 'N6', 'nome': 'Município'},\n",
       "       'nome': 'Macaé (RJ)'},\n",
       "      'serie': {'2022': '9'}}]},\n",
       "   {'classificacoes': [{'id': '86',\n",
       "      'nome': 'Cor ou raça',\n",
       "      'categoria': {'2780': 'Indígena'}},\n",
       "     {'id': '2', 'nome': 'Sexo', 'categoria': {'5': 'Mulheres'}},\n",
       "     {'id': '287', 'nome': 'Idade', 'categoria': {'93088': '25 a 29 anos'}}],\n",
       "    'series': [{'localidade': {'id': '3302403',\n",
       "       'nivel': {'id': 'N6', 'nome': 'Município'},\n",
       "       'nome': 'Macaé (RJ)'},\n",
       "      'serie': {'2022': '13'}}]},\n",
       "   {'classificacoes': [{'id': '86',\n",
       "      'nome': 'Cor ou raça',\n",
       "      'categoria': {'2780': 'Indígena'}},\n",
       "     {'id': '2', 'nome': 'Sexo', 'categoria': {'5': 'Mulheres'}},\n",
       "     {'id': '287', 'nome': 'Idade', 'categoria': {'93089': '30 a 34 anos'}}],\n",
       "    'series': [{'localidade': {'id': '3302403',\n",
       "       'nivel': {'id': 'N6', 'nome': 'Município'},\n",
       "       'nome': 'Macaé (RJ)'},\n",
       "      'serie': {'2022': '19'}}]},\n",
       "   {'classificacoes': [{'id': '86',\n",
       "      'nome': 'Cor ou raça',\n",
       "      'categoria': {'2780': 'Indígena'}},\n",
       "     {'id': '2', 'nome': 'Sexo', 'categoria': {'5': 'Mulheres'}},\n",
       "     {'id': '287', 'nome': 'Idade', 'categoria': {'93090': '35 a 39 anos'}}],\n",
       "    'series': [{'localidade': {'id': '3302403',\n",
       "       'nivel': {'id': 'N6', 'nome': 'Município'},\n",
       "       'nome': 'Macaé (RJ)'},\n",
       "      'serie': {'2022': '19'}}]},\n",
       "   {'classificacoes': [{'id': '86',\n",
       "      'nome': 'Cor ou raça',\n",
       "      'categoria': {'2780': 'Indígena'}},\n",
       "     {'id': '2', 'nome': 'Sexo', 'categoria': {'5': 'Mulheres'}},\n",
       "     {'id': '287', 'nome': 'Idade', 'categoria': {'93091': '40 a 44 anos'}}],\n",
       "    'series': [{'localidade': {'id': '3302403',\n",
       "       'nivel': {'id': 'N6', 'nome': 'Município'},\n",
       "       'nome': 'Macaé (RJ)'},\n",
       "      'serie': {'2022': '10'}}]},\n",
       "   {'classificacoes': [{'id': '86',\n",
       "      'nome': 'Cor ou raça',\n",
       "      'categoria': {'2780': 'Indígena'}},\n",
       "     {'id': '2', 'nome': 'Sexo', 'categoria': {'5': 'Mulheres'}},\n",
       "     {'id': '287', 'nome': 'Idade', 'categoria': {'93092': '45 a 49 anos'}}],\n",
       "    'series': [{'localidade': {'id': '3302403',\n",
       "       'nivel': {'id': 'N6', 'nome': 'Município'},\n",
       "       'nome': 'Macaé (RJ)'},\n",
       "      'serie': {'2022': '10'}}]},\n",
       "   {'classificacoes': [{'id': '86',\n",
       "      'nome': 'Cor ou raça',\n",
       "      'categoria': {'2780': 'Indígena'}},\n",
       "     {'id': '2', 'nome': 'Sexo', 'categoria': {'5': 'Mulheres'}},\n",
       "     {'id': '287', 'nome': 'Idade', 'categoria': {'93093': '50 a 54 anos'}}],\n",
       "    'series': [{'localidade': {'id': '3302403',\n",
       "       'nivel': {'id': 'N6', 'nome': 'Município'},\n",
       "       'nome': 'Macaé (RJ)'},\n",
       "      'serie': {'2022': '17'}}]},\n",
       "   {'classificacoes': [{'id': '86',\n",
       "      'nome': 'Cor ou raça',\n",
       "      'categoria': {'2780': 'Indígena'}},\n",
       "     {'id': '2', 'nome': 'Sexo', 'categoria': {'5': 'Mulheres'}},\n",
       "     {'id': '287', 'nome': 'Idade', 'categoria': {'93094': '55 a 59 anos'}}],\n",
       "    'series': [{'localidade': {'id': '3302403',\n",
       "       'nivel': {'id': 'N6', 'nome': 'Município'},\n",
       "       'nome': 'Macaé (RJ)'},\n",
       "      'serie': {'2022': '10'}}]},\n",
       "   {'classificacoes': [{'id': '86',\n",
       "      'nome': 'Cor ou raça',\n",
       "      'categoria': {'2780': 'Indígena'}},\n",
       "     {'id': '2', 'nome': 'Sexo', 'categoria': {'5': 'Mulheres'}},\n",
       "     {'id': '287', 'nome': 'Idade', 'categoria': {'93095': '60 a 64 anos'}}],\n",
       "    'series': [{'localidade': {'id': '3302403',\n",
       "       'nivel': {'id': 'N6', 'nome': 'Município'},\n",
       "       'nome': 'Macaé (RJ)'},\n",
       "      'serie': {'2022': '10'}}]},\n",
       "   {'classificacoes': [{'id': '86',\n",
       "      'nome': 'Cor ou raça',\n",
       "      'categoria': {'2780': 'Indígena'}},\n",
       "     {'id': '2', 'nome': 'Sexo', 'categoria': {'5': 'Mulheres'}},\n",
       "     {'id': '287', 'nome': 'Idade', 'categoria': {'93096': '65 a 69 anos'}}],\n",
       "    'series': [{'localidade': {'id': '3302403',\n",
       "       'nivel': {'id': 'N6', 'nome': 'Município'},\n",
       "       'nome': 'Macaé (RJ)'},\n",
       "      'serie': {'2022': '5'}}]},\n",
       "   {'classificacoes': [{'id': '86',\n",
       "      'nome': 'Cor ou raça',\n",
       "      'categoria': {'2780': 'Indígena'}},\n",
       "     {'id': '2', 'nome': 'Sexo', 'categoria': {'5': 'Mulheres'}},\n",
       "     {'id': '287', 'nome': 'Idade', 'categoria': {'93097': '70 a 74 anos'}}],\n",
       "    'series': [{'localidade': {'id': '3302403',\n",
       "       'nivel': {'id': 'N6', 'nome': 'Município'},\n",
       "       'nome': 'Macaé (RJ)'},\n",
       "      'serie': {'2022': '7'}}]},\n",
       "   {'classificacoes': [{'id': '86',\n",
       "      'nome': 'Cor ou raça',\n",
       "      'categoria': {'2780': 'Indígena'}},\n",
       "     {'id': '2', 'nome': 'Sexo', 'categoria': {'5': 'Mulheres'}},\n",
       "     {'id': '287', 'nome': 'Idade', 'categoria': {'93098': '75 a 79 anos'}}],\n",
       "    'series': [{'localidade': {'id': '3302403',\n",
       "       'nivel': {'id': 'N6', 'nome': 'Município'},\n",
       "       'nome': 'Macaé (RJ)'},\n",
       "      'serie': {'2022': '3'}}]},\n",
       "   {'classificacoes': [{'id': '86',\n",
       "      'nome': 'Cor ou raça',\n",
       "      'categoria': {'2780': 'Indígena'}},\n",
       "     {'id': '2', 'nome': 'Sexo', 'categoria': {'5': 'Mulheres'}},\n",
       "     {'id': '287', 'nome': 'Idade', 'categoria': {'49108': '80 a 84 anos'}}],\n",
       "    'series': [{'localidade': {'id': '3302403',\n",
       "       'nivel': {'id': 'N6', 'nome': 'Município'},\n",
       "       'nome': 'Macaé (RJ)'},\n",
       "      'serie': {'2022': '1'}}]},\n",
       "   {'classificacoes': [{'id': '86',\n",
       "      'nome': 'Cor ou raça',\n",
       "      'categoria': {'2780': 'Indígena'}},\n",
       "     {'id': '2', 'nome': 'Sexo', 'categoria': {'5': 'Mulheres'}},\n",
       "     {'id': '287', 'nome': 'Idade', 'categoria': {'49109': '85 a 89 anos'}}],\n",
       "    'series': [{'localidade': {'id': '3302403',\n",
       "       'nivel': {'id': 'N6', 'nome': 'Município'},\n",
       "       'nome': 'Macaé (RJ)'},\n",
       "      'serie': {'2022': '1'}}]},\n",
       "   {'classificacoes': [{'id': '86',\n",
       "      'nome': 'Cor ou raça',\n",
       "      'categoria': {'2780': 'Indígena'}},\n",
       "     {'id': '2', 'nome': 'Sexo', 'categoria': {'5': 'Mulheres'}},\n",
       "     {'id': '287', 'nome': 'Idade', 'categoria': {'60040': '90 a 94 anos'}}],\n",
       "    'series': [{'localidade': {'id': '3302403',\n",
       "       'nivel': {'id': 'N6', 'nome': 'Município'},\n",
       "       'nome': 'Macaé (RJ)'},\n",
       "      'serie': {'2022': '-'}}]},\n",
       "   {'classificacoes': [{'id': '86',\n",
       "      'nome': 'Cor ou raça',\n",
       "      'categoria': {'2780': 'Indígena'}},\n",
       "     {'id': '2', 'nome': 'Sexo', 'categoria': {'5': 'Mulheres'}},\n",
       "     {'id': '287', 'nome': 'Idade', 'categoria': {'60041': '95 a 99 anos'}}],\n",
       "    'series': [{'localidade': {'id': '3302403',\n",
       "       'nivel': {'id': 'N6', 'nome': 'Município'},\n",
       "       'nome': 'Macaé (RJ)'},\n",
       "      'serie': {'2022': '-'}}]},\n",
       "   {'classificacoes': [{'id': '86',\n",
       "      'nome': 'Cor ou raça',\n",
       "      'categoria': {'2780': 'Indígena'}},\n",
       "     {'id': '2', 'nome': 'Sexo', 'categoria': {'5': 'Mulheres'}},\n",
       "     {'id': '287',\n",
       "      'nome': 'Idade',\n",
       "      'categoria': {'6653': '100 anos ou mais'}}],\n",
       "    'series': [{'localidade': {'id': '3302403',\n",
       "       'nivel': {'id': 'N6', 'nome': 'Município'},\n",
       "       'nome': 'Macaé (RJ)'},\n",
       "      'serie': {'2022': '-'}}]}]}]"
      ]
     },
     "execution_count": 53,
     "metadata": {},
     "output_type": "execute_result"
    }
   ],
   "source": [
    "data = requests.get(\"https://servicodados.ibge.gov.br/api/v3/agregados/9606/periodos/2022/variaveis/93?localidades=N6[3302403]&classificacao=86[2776,2777,2778,2779,2780]|2[4,5]|287[93070,93084,93085,93086,93087,93088,93089,93090,93091,93092,93093,93094,93095,93096,93097,93098,49108,49109,60040,60041,6653]\")\n",
    "data_json = data.json()\n",
    "\n",
    "data_json"
   ]
  },
  {
   "cell_type": "code",
   "execution_count": 54,
   "metadata": {},
   "outputs": [
    {
     "data": {
      "text/html": [
       "<div>\n",
       "<style scoped>\n",
       "    .dataframe tbody tr th:only-of-type {\n",
       "        vertical-align: middle;\n",
       "    }\n",
       "\n",
       "    .dataframe tbody tr th {\n",
       "        vertical-align: top;\n",
       "    }\n",
       "\n",
       "    .dataframe thead th {\n",
       "        text-align: right;\n",
       "    }\n",
       "</style>\n",
       "<table border=\"1\" class=\"dataframe\">\n",
       "  <thead>\n",
       "    <tr style=\"text-align: right;\">\n",
       "      <th></th>\n",
       "      <th>População</th>\n",
       "      <th>Cor</th>\n",
       "      <th>Sexo</th>\n",
       "      <th>Idade</th>\n",
       "    </tr>\n",
       "  </thead>\n",
       "  <tbody>\n",
       "    <tr>\n",
       "      <th>0</th>\n",
       "      <td>3479</td>\n",
       "      <td>Branca</td>\n",
       "      <td>Homens</td>\n",
       "      <td>0 a 4 anos</td>\n",
       "    </tr>\n",
       "    <tr>\n",
       "      <th>1</th>\n",
       "      <td>3440</td>\n",
       "      <td>Branca</td>\n",
       "      <td>Homens</td>\n",
       "      <td>5 a 9 anos</td>\n",
       "    </tr>\n",
       "    <tr>\n",
       "      <th>2</th>\n",
       "      <td>2899</td>\n",
       "      <td>Branca</td>\n",
       "      <td>Homens</td>\n",
       "      <td>10 a 14 anos</td>\n",
       "    </tr>\n",
       "    <tr>\n",
       "      <th>3</th>\n",
       "      <td>2701</td>\n",
       "      <td>Branca</td>\n",
       "      <td>Homens</td>\n",
       "      <td>15 a 19 anos</td>\n",
       "    </tr>\n",
       "    <tr>\n",
       "      <th>4</th>\n",
       "      <td>2719</td>\n",
       "      <td>Branca</td>\n",
       "      <td>Homens</td>\n",
       "      <td>20 a 24 anos</td>\n",
       "    </tr>\n",
       "    <tr>\n",
       "      <th>...</th>\n",
       "      <td>...</td>\n",
       "      <td>...</td>\n",
       "      <td>...</td>\n",
       "      <td>...</td>\n",
       "    </tr>\n",
       "    <tr>\n",
       "      <th>205</th>\n",
       "      <td>1</td>\n",
       "      <td>Indígena</td>\n",
       "      <td>Mulheres</td>\n",
       "      <td>80 a 84 anos</td>\n",
       "    </tr>\n",
       "    <tr>\n",
       "      <th>206</th>\n",
       "      <td>1</td>\n",
       "      <td>Indígena</td>\n",
       "      <td>Mulheres</td>\n",
       "      <td>85 a 89 anos</td>\n",
       "    </tr>\n",
       "    <tr>\n",
       "      <th>207</th>\n",
       "      <td>0</td>\n",
       "      <td>Indígena</td>\n",
       "      <td>Mulheres</td>\n",
       "      <td>90 a 94 anos</td>\n",
       "    </tr>\n",
       "    <tr>\n",
       "      <th>208</th>\n",
       "      <td>0</td>\n",
       "      <td>Indígena</td>\n",
       "      <td>Mulheres</td>\n",
       "      <td>95 a 99 anos</td>\n",
       "    </tr>\n",
       "    <tr>\n",
       "      <th>209</th>\n",
       "      <td>0</td>\n",
       "      <td>Indígena</td>\n",
       "      <td>Mulheres</td>\n",
       "      <td>100 anos ou mais</td>\n",
       "    </tr>\n",
       "  </tbody>\n",
       "</table>\n",
       "<p>210 rows × 4 columns</p>\n",
       "</div>"
      ],
      "text/plain": [
       "     População       Cor      Sexo             Idade\n",
       "0         3479    Branca    Homens        0 a 4 anos\n",
       "1         3440    Branca    Homens        5 a 9 anos\n",
       "2         2899    Branca    Homens      10 a 14 anos\n",
       "3         2701    Branca    Homens      15 a 19 anos\n",
       "4         2719    Branca    Homens      20 a 24 anos\n",
       "..         ...       ...       ...               ...\n",
       "205          1  Indígena  Mulheres      80 a 84 anos\n",
       "206          1  Indígena  Mulheres      85 a 89 anos\n",
       "207          0  Indígena  Mulheres      90 a 94 anos\n",
       "208          0  Indígena  Mulheres      95 a 99 anos\n",
       "209          0  Indígena  Mulheres  100 anos ou mais\n",
       "\n",
       "[210 rows x 4 columns]"
      ]
     },
     "execution_count": 54,
     "metadata": {},
     "output_type": "execute_result"
    }
   ],
   "source": [
    "complete_population_df = pd.DataFrame(columns=[\"População\",\"Cor\",\"Sexo\",\"Idade\"])\n",
    "\n",
    "for population_data in data_json[0][\"resultados\"]:\n",
    "    cor = list(population_data[\"classificacoes\"][0][\"categoria\"].items())[0][1]\n",
    "    sexo = list(population_data[\"classificacoes\"][1][\"categoria\"].items())[0][1]\n",
    "    range_idade = list(population_data[\"classificacoes\"][2][\"categoria\"].items())[0][1]\n",
    "    populacao = list(population_data[\"series\"][0][\"serie\"].items())[0][1]\n",
    "    \n",
    "    complete_population_df = pd.concat([complete_population_df,pd.DataFrame([{\"População\":populacao,\"Cor\":cor,\"Sexo\":sexo,\"Idade\":range_idade}])],ignore_index=True)\n",
    " \n",
    "complete_population_df[\"População\"] = complete_population_df[\"População\"].replace(\"-\",\"0\")\n",
    "complete_population_df[\"População\"] = complete_population_df[\"População\"].astype(int)\n",
    "complete_population_df"
   ]
  },
  {
   "cell_type": "code",
   "execution_count": 56,
   "metadata": {},
   "outputs": [
    {
     "data": {
      "application/vnd.plotly.v1+json": {
       "config": {
        "plotlyServerURL": "https://plot.ly"
       },
       "data": [
        {
         "branchvalues": "total",
         "domain": {
          "x": [
           0,
           1
          ],
          "y": [
           0,
           1
          ]
         },
         "hovertemplate": "labels=%{label}<br>População=%{value}<br>parent=%{parent}<br>id=%{id}<extra></extra>",
         "ids": [
          "Amarela/Homens/0 a 4 anos",
          "Branca/Homens/0 a 4 anos",
          "Indígena/Homens/0 a 4 anos",
          "Parda/Homens/0 a 4 anos",
          "Preta/Homens/0 a 4 anos",
          "Amarela/Mulheres/0 a 4 anos",
          "Branca/Mulheres/0 a 4 anos",
          "Indígena/Mulheres/0 a 4 anos",
          "Parda/Mulheres/0 a 4 anos",
          "Preta/Mulheres/0 a 4 anos",
          "Amarela/Homens/10 a 14 anos",
          "Branca/Homens/10 a 14 anos",
          "Indígena/Homens/10 a 14 anos",
          "Parda/Homens/10 a 14 anos",
          "Preta/Homens/10 a 14 anos",
          "Amarela/Mulheres/10 a 14 anos",
          "Branca/Mulheres/10 a 14 anos",
          "Indígena/Mulheres/10 a 14 anos",
          "Parda/Mulheres/10 a 14 anos",
          "Preta/Mulheres/10 a 14 anos",
          "Amarela/Homens/100 anos ou mais",
          "Branca/Homens/100 anos ou mais",
          "Indígena/Homens/100 anos ou mais",
          "Parda/Homens/100 anos ou mais",
          "Preta/Homens/100 anos ou mais",
          "Amarela/Mulheres/100 anos ou mais",
          "Branca/Mulheres/100 anos ou mais",
          "Indígena/Mulheres/100 anos ou mais",
          "Parda/Mulheres/100 anos ou mais",
          "Preta/Mulheres/100 anos ou mais",
          "Amarela/Homens/15 a 19 anos",
          "Branca/Homens/15 a 19 anos",
          "Indígena/Homens/15 a 19 anos",
          "Parda/Homens/15 a 19 anos",
          "Preta/Homens/15 a 19 anos",
          "Amarela/Mulheres/15 a 19 anos",
          "Branca/Mulheres/15 a 19 anos",
          "Indígena/Mulheres/15 a 19 anos",
          "Parda/Mulheres/15 a 19 anos",
          "Preta/Mulheres/15 a 19 anos",
          "Amarela/Homens/20 a 24 anos",
          "Branca/Homens/20 a 24 anos",
          "Indígena/Homens/20 a 24 anos",
          "Parda/Homens/20 a 24 anos",
          "Preta/Homens/20 a 24 anos",
          "Amarela/Mulheres/20 a 24 anos",
          "Branca/Mulheres/20 a 24 anos",
          "Indígena/Mulheres/20 a 24 anos",
          "Parda/Mulheres/20 a 24 anos",
          "Preta/Mulheres/20 a 24 anos",
          "Amarela/Homens/25 a 29 anos",
          "Branca/Homens/25 a 29 anos",
          "Indígena/Homens/25 a 29 anos",
          "Parda/Homens/25 a 29 anos",
          "Preta/Homens/25 a 29 anos",
          "Amarela/Mulheres/25 a 29 anos",
          "Branca/Mulheres/25 a 29 anos",
          "Indígena/Mulheres/25 a 29 anos",
          "Parda/Mulheres/25 a 29 anos",
          "Preta/Mulheres/25 a 29 anos",
          "Amarela/Homens/30 a 34 anos",
          "Branca/Homens/30 a 34 anos",
          "Indígena/Homens/30 a 34 anos",
          "Parda/Homens/30 a 34 anos",
          "Preta/Homens/30 a 34 anos",
          "Amarela/Mulheres/30 a 34 anos",
          "Branca/Mulheres/30 a 34 anos",
          "Indígena/Mulheres/30 a 34 anos",
          "Parda/Mulheres/30 a 34 anos",
          "Preta/Mulheres/30 a 34 anos",
          "Amarela/Homens/35 a 39 anos",
          "Branca/Homens/35 a 39 anos",
          "Indígena/Homens/35 a 39 anos",
          "Parda/Homens/35 a 39 anos",
          "Preta/Homens/35 a 39 anos",
          "Amarela/Mulheres/35 a 39 anos",
          "Branca/Mulheres/35 a 39 anos",
          "Indígena/Mulheres/35 a 39 anos",
          "Parda/Mulheres/35 a 39 anos",
          "Preta/Mulheres/35 a 39 anos",
          "Amarela/Homens/40 a 44 anos",
          "Branca/Homens/40 a 44 anos",
          "Indígena/Homens/40 a 44 anos",
          "Parda/Homens/40 a 44 anos",
          "Preta/Homens/40 a 44 anos",
          "Amarela/Mulheres/40 a 44 anos",
          "Branca/Mulheres/40 a 44 anos",
          "Indígena/Mulheres/40 a 44 anos",
          "Parda/Mulheres/40 a 44 anos",
          "Preta/Mulheres/40 a 44 anos",
          "Amarela/Homens/45 a 49 anos",
          "Branca/Homens/45 a 49 anos",
          "Indígena/Homens/45 a 49 anos",
          "Parda/Homens/45 a 49 anos",
          "Preta/Homens/45 a 49 anos",
          "Amarela/Mulheres/45 a 49 anos",
          "Branca/Mulheres/45 a 49 anos",
          "Indígena/Mulheres/45 a 49 anos",
          "Parda/Mulheres/45 a 49 anos",
          "Preta/Mulheres/45 a 49 anos",
          "Amarela/Homens/5 a 9 anos",
          "Branca/Homens/5 a 9 anos",
          "Indígena/Homens/5 a 9 anos",
          "Parda/Homens/5 a 9 anos",
          "Preta/Homens/5 a 9 anos",
          "Amarela/Mulheres/5 a 9 anos",
          "Branca/Mulheres/5 a 9 anos",
          "Indígena/Mulheres/5 a 9 anos",
          "Parda/Mulheres/5 a 9 anos",
          "Preta/Mulheres/5 a 9 anos",
          "Amarela/Homens/50 a 54 anos",
          "Branca/Homens/50 a 54 anos",
          "Indígena/Homens/50 a 54 anos",
          "Parda/Homens/50 a 54 anos",
          "Preta/Homens/50 a 54 anos",
          "Amarela/Mulheres/50 a 54 anos",
          "Branca/Mulheres/50 a 54 anos",
          "Indígena/Mulheres/50 a 54 anos",
          "Parda/Mulheres/50 a 54 anos",
          "Preta/Mulheres/50 a 54 anos",
          "Amarela/Homens/55 a 59 anos",
          "Branca/Homens/55 a 59 anos",
          "Indígena/Homens/55 a 59 anos",
          "Parda/Homens/55 a 59 anos",
          "Preta/Homens/55 a 59 anos",
          "Amarela/Mulheres/55 a 59 anos",
          "Branca/Mulheres/55 a 59 anos",
          "Indígena/Mulheres/55 a 59 anos",
          "Parda/Mulheres/55 a 59 anos",
          "Preta/Mulheres/55 a 59 anos",
          "Amarela/Homens/60 a 64 anos",
          "Branca/Homens/60 a 64 anos",
          "Indígena/Homens/60 a 64 anos",
          "Parda/Homens/60 a 64 anos",
          "Preta/Homens/60 a 64 anos",
          "Amarela/Mulheres/60 a 64 anos",
          "Branca/Mulheres/60 a 64 anos",
          "Indígena/Mulheres/60 a 64 anos",
          "Parda/Mulheres/60 a 64 anos",
          "Preta/Mulheres/60 a 64 anos",
          "Amarela/Homens/65 a 69 anos",
          "Branca/Homens/65 a 69 anos",
          "Indígena/Homens/65 a 69 anos",
          "Parda/Homens/65 a 69 anos",
          "Preta/Homens/65 a 69 anos",
          "Amarela/Mulheres/65 a 69 anos",
          "Branca/Mulheres/65 a 69 anos",
          "Indígena/Mulheres/65 a 69 anos",
          "Parda/Mulheres/65 a 69 anos",
          "Preta/Mulheres/65 a 69 anos",
          "Amarela/Homens/70 a 74 anos",
          "Branca/Homens/70 a 74 anos",
          "Indígena/Homens/70 a 74 anos",
          "Parda/Homens/70 a 74 anos",
          "Preta/Homens/70 a 74 anos",
          "Amarela/Mulheres/70 a 74 anos",
          "Branca/Mulheres/70 a 74 anos",
          "Indígena/Mulheres/70 a 74 anos",
          "Parda/Mulheres/70 a 74 anos",
          "Preta/Mulheres/70 a 74 anos",
          "Amarela/Homens/75 a 79 anos",
          "Branca/Homens/75 a 79 anos",
          "Indígena/Homens/75 a 79 anos",
          "Parda/Homens/75 a 79 anos",
          "Preta/Homens/75 a 79 anos",
          "Amarela/Mulheres/75 a 79 anos",
          "Branca/Mulheres/75 a 79 anos",
          "Indígena/Mulheres/75 a 79 anos",
          "Parda/Mulheres/75 a 79 anos",
          "Preta/Mulheres/75 a 79 anos",
          "Amarela/Homens/80 a 84 anos",
          "Branca/Homens/80 a 84 anos",
          "Indígena/Homens/80 a 84 anos",
          "Parda/Homens/80 a 84 anos",
          "Preta/Homens/80 a 84 anos",
          "Amarela/Mulheres/80 a 84 anos",
          "Branca/Mulheres/80 a 84 anos",
          "Indígena/Mulheres/80 a 84 anos",
          "Parda/Mulheres/80 a 84 anos",
          "Preta/Mulheres/80 a 84 anos",
          "Amarela/Homens/85 a 89 anos",
          "Branca/Homens/85 a 89 anos",
          "Indígena/Homens/85 a 89 anos",
          "Parda/Homens/85 a 89 anos",
          "Preta/Homens/85 a 89 anos",
          "Amarela/Mulheres/85 a 89 anos",
          "Branca/Mulheres/85 a 89 anos",
          "Indígena/Mulheres/85 a 89 anos",
          "Parda/Mulheres/85 a 89 anos",
          "Preta/Mulheres/85 a 89 anos",
          "Amarela/Homens/90 a 94 anos",
          "Branca/Homens/90 a 94 anos",
          "Indígena/Homens/90 a 94 anos",
          "Parda/Homens/90 a 94 anos",
          "Preta/Homens/90 a 94 anos",
          "Amarela/Mulheres/90 a 94 anos",
          "Branca/Mulheres/90 a 94 anos",
          "Indígena/Mulheres/90 a 94 anos",
          "Parda/Mulheres/90 a 94 anos",
          "Preta/Mulheres/90 a 94 anos",
          "Amarela/Homens/95 a 99 anos",
          "Branca/Homens/95 a 99 anos",
          "Indígena/Homens/95 a 99 anos",
          "Parda/Homens/95 a 99 anos",
          "Preta/Homens/95 a 99 anos",
          "Amarela/Mulheres/95 a 99 anos",
          "Branca/Mulheres/95 a 99 anos",
          "Indígena/Mulheres/95 a 99 anos",
          "Parda/Mulheres/95 a 99 anos",
          "Preta/Mulheres/95 a 99 anos",
          "Amarela/Homens",
          "Branca/Homens",
          "Indígena/Homens",
          "Parda/Homens",
          "Preta/Homens",
          "Amarela/Mulheres",
          "Branca/Mulheres",
          "Indígena/Mulheres",
          "Parda/Mulheres",
          "Preta/Mulheres",
          "Amarela",
          "Branca",
          "Indígena",
          "Parda",
          "Preta"
         ],
         "labels": [
          "0 a 4 anos",
          "0 a 4 anos",
          "0 a 4 anos",
          "0 a 4 anos",
          "0 a 4 anos",
          "0 a 4 anos",
          "0 a 4 anos",
          "0 a 4 anos",
          "0 a 4 anos",
          "0 a 4 anos",
          "10 a 14 anos",
          "10 a 14 anos",
          "10 a 14 anos",
          "10 a 14 anos",
          "10 a 14 anos",
          "10 a 14 anos",
          "10 a 14 anos",
          "10 a 14 anos",
          "10 a 14 anos",
          "10 a 14 anos",
          "100 anos ou mais",
          "100 anos ou mais",
          "100 anos ou mais",
          "100 anos ou mais",
          "100 anos ou mais",
          "100 anos ou mais",
          "100 anos ou mais",
          "100 anos ou mais",
          "100 anos ou mais",
          "100 anos ou mais",
          "15 a 19 anos",
          "15 a 19 anos",
          "15 a 19 anos",
          "15 a 19 anos",
          "15 a 19 anos",
          "15 a 19 anos",
          "15 a 19 anos",
          "15 a 19 anos",
          "15 a 19 anos",
          "15 a 19 anos",
          "20 a 24 anos",
          "20 a 24 anos",
          "20 a 24 anos",
          "20 a 24 anos",
          "20 a 24 anos",
          "20 a 24 anos",
          "20 a 24 anos",
          "20 a 24 anos",
          "20 a 24 anos",
          "20 a 24 anos",
          "25 a 29 anos",
          "25 a 29 anos",
          "25 a 29 anos",
          "25 a 29 anos",
          "25 a 29 anos",
          "25 a 29 anos",
          "25 a 29 anos",
          "25 a 29 anos",
          "25 a 29 anos",
          "25 a 29 anos",
          "30 a 34 anos",
          "30 a 34 anos",
          "30 a 34 anos",
          "30 a 34 anos",
          "30 a 34 anos",
          "30 a 34 anos",
          "30 a 34 anos",
          "30 a 34 anos",
          "30 a 34 anos",
          "30 a 34 anos",
          "35 a 39 anos",
          "35 a 39 anos",
          "35 a 39 anos",
          "35 a 39 anos",
          "35 a 39 anos",
          "35 a 39 anos",
          "35 a 39 anos",
          "35 a 39 anos",
          "35 a 39 anos",
          "35 a 39 anos",
          "40 a 44 anos",
          "40 a 44 anos",
          "40 a 44 anos",
          "40 a 44 anos",
          "40 a 44 anos",
          "40 a 44 anos",
          "40 a 44 anos",
          "40 a 44 anos",
          "40 a 44 anos",
          "40 a 44 anos",
          "45 a 49 anos",
          "45 a 49 anos",
          "45 a 49 anos",
          "45 a 49 anos",
          "45 a 49 anos",
          "45 a 49 anos",
          "45 a 49 anos",
          "45 a 49 anos",
          "45 a 49 anos",
          "45 a 49 anos",
          "5 a 9 anos",
          "5 a 9 anos",
          "5 a 9 anos",
          "5 a 9 anos",
          "5 a 9 anos",
          "5 a 9 anos",
          "5 a 9 anos",
          "5 a 9 anos",
          "5 a 9 anos",
          "5 a 9 anos",
          "50 a 54 anos",
          "50 a 54 anos",
          "50 a 54 anos",
          "50 a 54 anos",
          "50 a 54 anos",
          "50 a 54 anos",
          "50 a 54 anos",
          "50 a 54 anos",
          "50 a 54 anos",
          "50 a 54 anos",
          "55 a 59 anos",
          "55 a 59 anos",
          "55 a 59 anos",
          "55 a 59 anos",
          "55 a 59 anos",
          "55 a 59 anos",
          "55 a 59 anos",
          "55 a 59 anos",
          "55 a 59 anos",
          "55 a 59 anos",
          "60 a 64 anos",
          "60 a 64 anos",
          "60 a 64 anos",
          "60 a 64 anos",
          "60 a 64 anos",
          "60 a 64 anos",
          "60 a 64 anos",
          "60 a 64 anos",
          "60 a 64 anos",
          "60 a 64 anos",
          "65 a 69 anos",
          "65 a 69 anos",
          "65 a 69 anos",
          "65 a 69 anos",
          "65 a 69 anos",
          "65 a 69 anos",
          "65 a 69 anos",
          "65 a 69 anos",
          "65 a 69 anos",
          "65 a 69 anos",
          "70 a 74 anos",
          "70 a 74 anos",
          "70 a 74 anos",
          "70 a 74 anos",
          "70 a 74 anos",
          "70 a 74 anos",
          "70 a 74 anos",
          "70 a 74 anos",
          "70 a 74 anos",
          "70 a 74 anos",
          "75 a 79 anos",
          "75 a 79 anos",
          "75 a 79 anos",
          "75 a 79 anos",
          "75 a 79 anos",
          "75 a 79 anos",
          "75 a 79 anos",
          "75 a 79 anos",
          "75 a 79 anos",
          "75 a 79 anos",
          "80 a 84 anos",
          "80 a 84 anos",
          "80 a 84 anos",
          "80 a 84 anos",
          "80 a 84 anos",
          "80 a 84 anos",
          "80 a 84 anos",
          "80 a 84 anos",
          "80 a 84 anos",
          "80 a 84 anos",
          "85 a 89 anos",
          "85 a 89 anos",
          "85 a 89 anos",
          "85 a 89 anos",
          "85 a 89 anos",
          "85 a 89 anos",
          "85 a 89 anos",
          "85 a 89 anos",
          "85 a 89 anos",
          "85 a 89 anos",
          "90 a 94 anos",
          "90 a 94 anos",
          "90 a 94 anos",
          "90 a 94 anos",
          "90 a 94 anos",
          "90 a 94 anos",
          "90 a 94 anos",
          "90 a 94 anos",
          "90 a 94 anos",
          "90 a 94 anos",
          "95 a 99 anos",
          "95 a 99 anos",
          "95 a 99 anos",
          "95 a 99 anos",
          "95 a 99 anos",
          "95 a 99 anos",
          "95 a 99 anos",
          "95 a 99 anos",
          "95 a 99 anos",
          "95 a 99 anos",
          "Homens",
          "Homens",
          "Homens",
          "Homens",
          "Homens",
          "Mulheres",
          "Mulheres",
          "Mulheres",
          "Mulheres",
          "Mulheres",
          "Amarela",
          "Branca",
          "Indígena",
          "Parda",
          "Preta"
         ],
         "name": "",
         "parents": [
          "Amarela/Homens",
          "Branca/Homens",
          "Indígena/Homens",
          "Parda/Homens",
          "Preta/Homens",
          "Amarela/Mulheres",
          "Branca/Mulheres",
          "Indígena/Mulheres",
          "Parda/Mulheres",
          "Preta/Mulheres",
          "Amarela/Homens",
          "Branca/Homens",
          "Indígena/Homens",
          "Parda/Homens",
          "Preta/Homens",
          "Amarela/Mulheres",
          "Branca/Mulheres",
          "Indígena/Mulheres",
          "Parda/Mulheres",
          "Preta/Mulheres",
          "Amarela/Homens",
          "Branca/Homens",
          "Indígena/Homens",
          "Parda/Homens",
          "Preta/Homens",
          "Amarela/Mulheres",
          "Branca/Mulheres",
          "Indígena/Mulheres",
          "Parda/Mulheres",
          "Preta/Mulheres",
          "Amarela/Homens",
          "Branca/Homens",
          "Indígena/Homens",
          "Parda/Homens",
          "Preta/Homens",
          "Amarela/Mulheres",
          "Branca/Mulheres",
          "Indígena/Mulheres",
          "Parda/Mulheres",
          "Preta/Mulheres",
          "Amarela/Homens",
          "Branca/Homens",
          "Indígena/Homens",
          "Parda/Homens",
          "Preta/Homens",
          "Amarela/Mulheres",
          "Branca/Mulheres",
          "Indígena/Mulheres",
          "Parda/Mulheres",
          "Preta/Mulheres",
          "Amarela/Homens",
          "Branca/Homens",
          "Indígena/Homens",
          "Parda/Homens",
          "Preta/Homens",
          "Amarela/Mulheres",
          "Branca/Mulheres",
          "Indígena/Mulheres",
          "Parda/Mulheres",
          "Preta/Mulheres",
          "Amarela/Homens",
          "Branca/Homens",
          "Indígena/Homens",
          "Parda/Homens",
          "Preta/Homens",
          "Amarela/Mulheres",
          "Branca/Mulheres",
          "Indígena/Mulheres",
          "Parda/Mulheres",
          "Preta/Mulheres",
          "Amarela/Homens",
          "Branca/Homens",
          "Indígena/Homens",
          "Parda/Homens",
          "Preta/Homens",
          "Amarela/Mulheres",
          "Branca/Mulheres",
          "Indígena/Mulheres",
          "Parda/Mulheres",
          "Preta/Mulheres",
          "Amarela/Homens",
          "Branca/Homens",
          "Indígena/Homens",
          "Parda/Homens",
          "Preta/Homens",
          "Amarela/Mulheres",
          "Branca/Mulheres",
          "Indígena/Mulheres",
          "Parda/Mulheres",
          "Preta/Mulheres",
          "Amarela/Homens",
          "Branca/Homens",
          "Indígena/Homens",
          "Parda/Homens",
          "Preta/Homens",
          "Amarela/Mulheres",
          "Branca/Mulheres",
          "Indígena/Mulheres",
          "Parda/Mulheres",
          "Preta/Mulheres",
          "Amarela/Homens",
          "Branca/Homens",
          "Indígena/Homens",
          "Parda/Homens",
          "Preta/Homens",
          "Amarela/Mulheres",
          "Branca/Mulheres",
          "Indígena/Mulheres",
          "Parda/Mulheres",
          "Preta/Mulheres",
          "Amarela/Homens",
          "Branca/Homens",
          "Indígena/Homens",
          "Parda/Homens",
          "Preta/Homens",
          "Amarela/Mulheres",
          "Branca/Mulheres",
          "Indígena/Mulheres",
          "Parda/Mulheres",
          "Preta/Mulheres",
          "Amarela/Homens",
          "Branca/Homens",
          "Indígena/Homens",
          "Parda/Homens",
          "Preta/Homens",
          "Amarela/Mulheres",
          "Branca/Mulheres",
          "Indígena/Mulheres",
          "Parda/Mulheres",
          "Preta/Mulheres",
          "Amarela/Homens",
          "Branca/Homens",
          "Indígena/Homens",
          "Parda/Homens",
          "Preta/Homens",
          "Amarela/Mulheres",
          "Branca/Mulheres",
          "Indígena/Mulheres",
          "Parda/Mulheres",
          "Preta/Mulheres",
          "Amarela/Homens",
          "Branca/Homens",
          "Indígena/Homens",
          "Parda/Homens",
          "Preta/Homens",
          "Amarela/Mulheres",
          "Branca/Mulheres",
          "Indígena/Mulheres",
          "Parda/Mulheres",
          "Preta/Mulheres",
          "Amarela/Homens",
          "Branca/Homens",
          "Indígena/Homens",
          "Parda/Homens",
          "Preta/Homens",
          "Amarela/Mulheres",
          "Branca/Mulheres",
          "Indígena/Mulheres",
          "Parda/Mulheres",
          "Preta/Mulheres",
          "Amarela/Homens",
          "Branca/Homens",
          "Indígena/Homens",
          "Parda/Homens",
          "Preta/Homens",
          "Amarela/Mulheres",
          "Branca/Mulheres",
          "Indígena/Mulheres",
          "Parda/Mulheres",
          "Preta/Mulheres",
          "Amarela/Homens",
          "Branca/Homens",
          "Indígena/Homens",
          "Parda/Homens",
          "Preta/Homens",
          "Amarela/Mulheres",
          "Branca/Mulheres",
          "Indígena/Mulheres",
          "Parda/Mulheres",
          "Preta/Mulheres",
          "Amarela/Homens",
          "Branca/Homens",
          "Indígena/Homens",
          "Parda/Homens",
          "Preta/Homens",
          "Amarela/Mulheres",
          "Branca/Mulheres",
          "Indígena/Mulheres",
          "Parda/Mulheres",
          "Preta/Mulheres",
          "Amarela/Homens",
          "Branca/Homens",
          "Indígena/Homens",
          "Parda/Homens",
          "Preta/Homens",
          "Amarela/Mulheres",
          "Branca/Mulheres",
          "Indígena/Mulheres",
          "Parda/Mulheres",
          "Preta/Mulheres",
          "Amarela/Homens",
          "Branca/Homens",
          "Indígena/Homens",
          "Parda/Homens",
          "Preta/Homens",
          "Amarela/Mulheres",
          "Branca/Mulheres",
          "Indígena/Mulheres",
          "Parda/Mulheres",
          "Preta/Mulheres",
          "Amarela",
          "Branca",
          "Indígena",
          "Parda",
          "Preta",
          "Amarela",
          "Branca",
          "Indígena",
          "Parda",
          "Preta",
          "",
          "",
          "",
          "",
          ""
         ],
         "type": "sunburst",
         "values": [
          17,
          3479,
          8,
          3799,
          1023,
          17,
          3307,
          3,
          3588,
          1010,
          14,
          2899,
          8,
          4410,
          1322,
          10,
          2835,
          2,
          4312,
          1239,
          0,
          3,
          0,
          3,
          1,
          0,
          8,
          0,
          5,
          5,
          12,
          2701,
          4,
          4160,
          1467,
          11,
          2855,
          14,
          3898,
          1404,
          11,
          2719,
          15,
          3909,
          1707,
          19,
          3158,
          9,
          4175,
          1795,
          10,
          2952,
          12,
          4057,
          1944,
          15,
          3503,
          13,
          4399,
          1966,
          14,
          3293,
          13,
          4233,
          1952,
          23,
          3889,
          19,
          4798,
          1994,
          31,
          3860,
          19,
          4960,
          2142,
          24,
          4383,
          19,
          5114,
          2174,
          19,
          3812,
          20,
          4852,
          2185,
          32,
          4312,
          10,
          4873,
          1970,
          14,
          2795,
          22,
          3591,
          1580,
          22,
          3235,
          10,
          3809,
          1595,
          17,
          3440,
          8,
          4716,
          1333,
          10,
          3259,
          5,
          4506,
          1359,
          8,
          2411,
          10,
          3004,
          1352,
          9,
          2839,
          17,
          3242,
          1290,
          9,
          2433,
          13,
          2684,
          1044,
          12,
          2904,
          10,
          2829,
          1189,
          6,
          2217,
          12,
          2269,
          884,
          12,
          2576,
          10,
          2482,
          946,
          11,
          1661,
          6,
          1570,
          601,
          9,
          2035,
          5,
          1728,
          674,
          7,
          1168,
          4,
          971,
          320,
          6,
          1449,
          7,
          1130,
          443,
          2,
          670,
          1,
          557,
          210,
          6,
          1019,
          3,
          686,
          238,
          3,
          420,
          4,
          315,
          96,
          1,
          677,
          1,
          399,
          180,
          1,
          220,
          0,
          119,
          52,
          0,
          444,
          1,
          226,
          86,
          0,
          89,
          0,
          42,
          23,
          0,
          206,
          0,
          92,
          30,
          0,
          16,
          0,
          16,
          3,
          0,
          60,
          0,
          28,
          10,
          206,
          43258,
          179,
          54237,
          21241,
          238,
          48953,
          158,
          56319,
          21597,
          444,
          92211,
          337,
          110556,
          42838
         ]
        }
       ],
       "layout": {
        "height": 600,
        "legend": {
         "tracegroupgap": 0
        },
        "sunburstcolorway": [
         "#967f51",
         "#E6D1B1",
         "#1f1e1c",
         "#f7cd79",
         "#454128"
        ],
        "template": {
         "data": {
          "bar": [
           {
            "error_x": {
             "color": "#2a3f5f"
            },
            "error_y": {
             "color": "#2a3f5f"
            },
            "marker": {
             "line": {
              "color": "#E5ECF6",
              "width": 0.5
             },
             "pattern": {
              "fillmode": "overlay",
              "size": 10,
              "solidity": 0.2
             }
            },
            "type": "bar"
           }
          ],
          "barpolar": [
           {
            "marker": {
             "line": {
              "color": "#E5ECF6",
              "width": 0.5
             },
             "pattern": {
              "fillmode": "overlay",
              "size": 10,
              "solidity": 0.2
             }
            },
            "type": "barpolar"
           }
          ],
          "carpet": [
           {
            "aaxis": {
             "endlinecolor": "#2a3f5f",
             "gridcolor": "white",
             "linecolor": "white",
             "minorgridcolor": "white",
             "startlinecolor": "#2a3f5f"
            },
            "baxis": {
             "endlinecolor": "#2a3f5f",
             "gridcolor": "white",
             "linecolor": "white",
             "minorgridcolor": "white",
             "startlinecolor": "#2a3f5f"
            },
            "type": "carpet"
           }
          ],
          "choropleth": [
           {
            "colorbar": {
             "outlinewidth": 0,
             "ticks": ""
            },
            "type": "choropleth"
           }
          ],
          "contour": [
           {
            "colorbar": {
             "outlinewidth": 0,
             "ticks": ""
            },
            "colorscale": [
             [
              0,
              "#0d0887"
             ],
             [
              0.1111111111111111,
              "#46039f"
             ],
             [
              0.2222222222222222,
              "#7201a8"
             ],
             [
              0.3333333333333333,
              "#9c179e"
             ],
             [
              0.4444444444444444,
              "#bd3786"
             ],
             [
              0.5555555555555556,
              "#d8576b"
             ],
             [
              0.6666666666666666,
              "#ed7953"
             ],
             [
              0.7777777777777778,
              "#fb9f3a"
             ],
             [
              0.8888888888888888,
              "#fdca26"
             ],
             [
              1,
              "#f0f921"
             ]
            ],
            "type": "contour"
           }
          ],
          "contourcarpet": [
           {
            "colorbar": {
             "outlinewidth": 0,
             "ticks": ""
            },
            "type": "contourcarpet"
           }
          ],
          "heatmap": [
           {
            "colorbar": {
             "outlinewidth": 0,
             "ticks": ""
            },
            "colorscale": [
             [
              0,
              "#0d0887"
             ],
             [
              0.1111111111111111,
              "#46039f"
             ],
             [
              0.2222222222222222,
              "#7201a8"
             ],
             [
              0.3333333333333333,
              "#9c179e"
             ],
             [
              0.4444444444444444,
              "#bd3786"
             ],
             [
              0.5555555555555556,
              "#d8576b"
             ],
             [
              0.6666666666666666,
              "#ed7953"
             ],
             [
              0.7777777777777778,
              "#fb9f3a"
             ],
             [
              0.8888888888888888,
              "#fdca26"
             ],
             [
              1,
              "#f0f921"
             ]
            ],
            "type": "heatmap"
           }
          ],
          "heatmapgl": [
           {
            "colorbar": {
             "outlinewidth": 0,
             "ticks": ""
            },
            "colorscale": [
             [
              0,
              "#0d0887"
             ],
             [
              0.1111111111111111,
              "#46039f"
             ],
             [
              0.2222222222222222,
              "#7201a8"
             ],
             [
              0.3333333333333333,
              "#9c179e"
             ],
             [
              0.4444444444444444,
              "#bd3786"
             ],
             [
              0.5555555555555556,
              "#d8576b"
             ],
             [
              0.6666666666666666,
              "#ed7953"
             ],
             [
              0.7777777777777778,
              "#fb9f3a"
             ],
             [
              0.8888888888888888,
              "#fdca26"
             ],
             [
              1,
              "#f0f921"
             ]
            ],
            "type": "heatmapgl"
           }
          ],
          "histogram": [
           {
            "marker": {
             "pattern": {
              "fillmode": "overlay",
              "size": 10,
              "solidity": 0.2
             }
            },
            "type": "histogram"
           }
          ],
          "histogram2d": [
           {
            "colorbar": {
             "outlinewidth": 0,
             "ticks": ""
            },
            "colorscale": [
             [
              0,
              "#0d0887"
             ],
             [
              0.1111111111111111,
              "#46039f"
             ],
             [
              0.2222222222222222,
              "#7201a8"
             ],
             [
              0.3333333333333333,
              "#9c179e"
             ],
             [
              0.4444444444444444,
              "#bd3786"
             ],
             [
              0.5555555555555556,
              "#d8576b"
             ],
             [
              0.6666666666666666,
              "#ed7953"
             ],
             [
              0.7777777777777778,
              "#fb9f3a"
             ],
             [
              0.8888888888888888,
              "#fdca26"
             ],
             [
              1,
              "#f0f921"
             ]
            ],
            "type": "histogram2d"
           }
          ],
          "histogram2dcontour": [
           {
            "colorbar": {
             "outlinewidth": 0,
             "ticks": ""
            },
            "colorscale": [
             [
              0,
              "#0d0887"
             ],
             [
              0.1111111111111111,
              "#46039f"
             ],
             [
              0.2222222222222222,
              "#7201a8"
             ],
             [
              0.3333333333333333,
              "#9c179e"
             ],
             [
              0.4444444444444444,
              "#bd3786"
             ],
             [
              0.5555555555555556,
              "#d8576b"
             ],
             [
              0.6666666666666666,
              "#ed7953"
             ],
             [
              0.7777777777777778,
              "#fb9f3a"
             ],
             [
              0.8888888888888888,
              "#fdca26"
             ],
             [
              1,
              "#f0f921"
             ]
            ],
            "type": "histogram2dcontour"
           }
          ],
          "mesh3d": [
           {
            "colorbar": {
             "outlinewidth": 0,
             "ticks": ""
            },
            "type": "mesh3d"
           }
          ],
          "parcoords": [
           {
            "line": {
             "colorbar": {
              "outlinewidth": 0,
              "ticks": ""
             }
            },
            "type": "parcoords"
           }
          ],
          "pie": [
           {
            "automargin": true,
            "type": "pie"
           }
          ],
          "scatter": [
           {
            "fillpattern": {
             "fillmode": "overlay",
             "size": 10,
             "solidity": 0.2
            },
            "type": "scatter"
           }
          ],
          "scatter3d": [
           {
            "line": {
             "colorbar": {
              "outlinewidth": 0,
              "ticks": ""
             }
            },
            "marker": {
             "colorbar": {
              "outlinewidth": 0,
              "ticks": ""
             }
            },
            "type": "scatter3d"
           }
          ],
          "scattercarpet": [
           {
            "marker": {
             "colorbar": {
              "outlinewidth": 0,
              "ticks": ""
             }
            },
            "type": "scattercarpet"
           }
          ],
          "scattergeo": [
           {
            "marker": {
             "colorbar": {
              "outlinewidth": 0,
              "ticks": ""
             }
            },
            "type": "scattergeo"
           }
          ],
          "scattergl": [
           {
            "marker": {
             "colorbar": {
              "outlinewidth": 0,
              "ticks": ""
             }
            },
            "type": "scattergl"
           }
          ],
          "scattermapbox": [
           {
            "marker": {
             "colorbar": {
              "outlinewidth": 0,
              "ticks": ""
             }
            },
            "type": "scattermapbox"
           }
          ],
          "scatterpolar": [
           {
            "marker": {
             "colorbar": {
              "outlinewidth": 0,
              "ticks": ""
             }
            },
            "type": "scatterpolar"
           }
          ],
          "scatterpolargl": [
           {
            "marker": {
             "colorbar": {
              "outlinewidth": 0,
              "ticks": ""
             }
            },
            "type": "scatterpolargl"
           }
          ],
          "scatterternary": [
           {
            "marker": {
             "colorbar": {
              "outlinewidth": 0,
              "ticks": ""
             }
            },
            "type": "scatterternary"
           }
          ],
          "surface": [
           {
            "colorbar": {
             "outlinewidth": 0,
             "ticks": ""
            },
            "colorscale": [
             [
              0,
              "#0d0887"
             ],
             [
              0.1111111111111111,
              "#46039f"
             ],
             [
              0.2222222222222222,
              "#7201a8"
             ],
             [
              0.3333333333333333,
              "#9c179e"
             ],
             [
              0.4444444444444444,
              "#bd3786"
             ],
             [
              0.5555555555555556,
              "#d8576b"
             ],
             [
              0.6666666666666666,
              "#ed7953"
             ],
             [
              0.7777777777777778,
              "#fb9f3a"
             ],
             [
              0.8888888888888888,
              "#fdca26"
             ],
             [
              1,
              "#f0f921"
             ]
            ],
            "type": "surface"
           }
          ],
          "table": [
           {
            "cells": {
             "fill": {
              "color": "#EBF0F8"
             },
             "line": {
              "color": "white"
             }
            },
            "header": {
             "fill": {
              "color": "#C8D4E3"
             },
             "line": {
              "color": "white"
             }
            },
            "type": "table"
           }
          ]
         },
         "layout": {
          "annotationdefaults": {
           "arrowcolor": "#2a3f5f",
           "arrowhead": 0,
           "arrowwidth": 1
          },
          "autotypenumbers": "strict",
          "coloraxis": {
           "colorbar": {
            "outlinewidth": 0,
            "ticks": ""
           }
          },
          "colorscale": {
           "diverging": [
            [
             0,
             "#8e0152"
            ],
            [
             0.1,
             "#c51b7d"
            ],
            [
             0.2,
             "#de77ae"
            ],
            [
             0.3,
             "#f1b6da"
            ],
            [
             0.4,
             "#fde0ef"
            ],
            [
             0.5,
             "#f7f7f7"
            ],
            [
             0.6,
             "#e6f5d0"
            ],
            [
             0.7,
             "#b8e186"
            ],
            [
             0.8,
             "#7fbc41"
            ],
            [
             0.9,
             "#4d9221"
            ],
            [
             1,
             "#276419"
            ]
           ],
           "sequential": [
            [
             0,
             "#0d0887"
            ],
            [
             0.1111111111111111,
             "#46039f"
            ],
            [
             0.2222222222222222,
             "#7201a8"
            ],
            [
             0.3333333333333333,
             "#9c179e"
            ],
            [
             0.4444444444444444,
             "#bd3786"
            ],
            [
             0.5555555555555556,
             "#d8576b"
            ],
            [
             0.6666666666666666,
             "#ed7953"
            ],
            [
             0.7777777777777778,
             "#fb9f3a"
            ],
            [
             0.8888888888888888,
             "#fdca26"
            ],
            [
             1,
             "#f0f921"
            ]
           ],
           "sequentialminus": [
            [
             0,
             "#0d0887"
            ],
            [
             0.1111111111111111,
             "#46039f"
            ],
            [
             0.2222222222222222,
             "#7201a8"
            ],
            [
             0.3333333333333333,
             "#9c179e"
            ],
            [
             0.4444444444444444,
             "#bd3786"
            ],
            [
             0.5555555555555556,
             "#d8576b"
            ],
            [
             0.6666666666666666,
             "#ed7953"
            ],
            [
             0.7777777777777778,
             "#fb9f3a"
            ],
            [
             0.8888888888888888,
             "#fdca26"
            ],
            [
             1,
             "#f0f921"
            ]
           ]
          },
          "colorway": [
           "#636efa",
           "#EF553B",
           "#00cc96",
           "#ab63fa",
           "#FFA15A",
           "#19d3f3",
           "#FF6692",
           "#B6E880",
           "#FF97FF",
           "#FECB52"
          ],
          "font": {
           "color": "#2a3f5f"
          },
          "geo": {
           "bgcolor": "white",
           "lakecolor": "white",
           "landcolor": "#E5ECF6",
           "showlakes": true,
           "showland": true,
           "subunitcolor": "white"
          },
          "hoverlabel": {
           "align": "left"
          },
          "hovermode": "closest",
          "mapbox": {
           "style": "light"
          },
          "paper_bgcolor": "white",
          "plot_bgcolor": "#E5ECF6",
          "polar": {
           "angularaxis": {
            "gridcolor": "white",
            "linecolor": "white",
            "ticks": ""
           },
           "bgcolor": "#E5ECF6",
           "radialaxis": {
            "gridcolor": "white",
            "linecolor": "white",
            "ticks": ""
           }
          },
          "scene": {
           "xaxis": {
            "backgroundcolor": "#E5ECF6",
            "gridcolor": "white",
            "gridwidth": 2,
            "linecolor": "white",
            "showbackground": true,
            "ticks": "",
            "zerolinecolor": "white"
           },
           "yaxis": {
            "backgroundcolor": "#E5ECF6",
            "gridcolor": "white",
            "gridwidth": 2,
            "linecolor": "white",
            "showbackground": true,
            "ticks": "",
            "zerolinecolor": "white"
           },
           "zaxis": {
            "backgroundcolor": "#E5ECF6",
            "gridcolor": "white",
            "gridwidth": 2,
            "linecolor": "white",
            "showbackground": true,
            "ticks": "",
            "zerolinecolor": "white"
           }
          },
          "shapedefaults": {
           "line": {
            "color": "#2a3f5f"
           }
          },
          "ternary": {
           "aaxis": {
            "gridcolor": "white",
            "linecolor": "white",
            "ticks": ""
           },
           "baxis": {
            "gridcolor": "white",
            "linecolor": "white",
            "ticks": ""
           },
           "bgcolor": "#E5ECF6",
           "caxis": {
            "gridcolor": "white",
            "linecolor": "white",
            "ticks": ""
           }
          },
          "title": {
           "x": 0.05
          },
          "xaxis": {
           "automargin": true,
           "gridcolor": "white",
           "linecolor": "white",
           "ticks": "",
           "title": {
            "standoff": 15
           },
           "zerolinecolor": "white",
           "zerolinewidth": 2
          },
          "yaxis": {
           "automargin": true,
           "gridcolor": "white",
           "linecolor": "white",
           "ticks": "",
           "title": {
            "standoff": 15
           },
           "zerolinecolor": "white",
           "zerolinewidth": 2
          }
         }
        },
        "title": {
         "text": "Grafico Solar da População"
        }
       }
      }
     },
     "metadata": {},
     "output_type": "display_data"
    }
   ],
   "source": [
    "px.sunburst(\n",
    "    complete_population_df,\n",
    "    path=['Cor', 'Sexo', 'Idade'],\n",
    "    values='População',\n",
    "    title='Grafico Solar da População',\n",
    "    height=600,\n",
    "    color_discrete_sequence=[\"#967f51\", \"#E6D1B1\",\"#1f1e1c\", \"#f7cd79\", \"#454128\"]#['rgb(140, 95, 6)','rgb(227, 203, 182)','rgb(51, 37, 10)','rgb(242, 180, 61)','rgb(117, 107, 16)']\n",
    ")\n"
   ]
  },
  {
   "cell_type": "code",
   "execution_count": null,
   "metadata": {},
   "outputs": [],
   "source": []
  }
 ],
 "metadata": {
  "kernelspec": {
   "display_name": "Python 3",
   "language": "python",
   "name": "python3"
  },
  "language_info": {
   "codemirror_mode": {
    "name": "ipython",
    "version": 3
   },
   "file_extension": ".py",
   "mimetype": "text/x-python",
   "name": "python",
   "nbconvert_exporter": "python",
   "pygments_lexer": "ipython3",
   "version": "3.11.7"
  }
 },
 "nbformat": 4,
 "nbformat_minor": 2
}
